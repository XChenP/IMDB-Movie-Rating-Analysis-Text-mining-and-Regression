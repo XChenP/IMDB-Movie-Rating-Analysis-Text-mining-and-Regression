{
 "cells": [
  {
   "cell_type": "markdown",
   "metadata": {},
   "source": [
    "> **Tip**: Welcome to the Investigate a Dataset project! You will find tips in quoted sections like this to help organize your approach to your investigation. Before submitting your project, it will be a good idea to go back through your report and remove these sections to make the presentation of your work as tidy as possible. First things first, you might want to double-click this Markdown cell and change the title so that it reflects your dataset and investigation.\n",
    "\n",
    "# Project: Investigate a Dataset (Replace this with something more specific!)\n",
    "\n",
    "## Table of Contents\n",
    "<ul>\n",
    "<li><a href=\"#intro\">Introduction</a></li>\n",
    "<li><a href=\"#wrangling\">Data Wrangling</a></li>\n",
    "<li><a href=\"#eda\">Exploratory Data Analysis</a></li>\n",
    "<li><a href=\"#conclusions\">Conclusions</a></li>\n",
    "</ul>"
   ]
  },
  {
   "cell_type": "markdown",
   "metadata": {},
   "source": [
    "<a id='intro'></a>\n",
    "## Introduction\n",
    "\n",
    "> **Tip**: In this section of the report, provide a brief introduction to the dataset you've selected for analysis. At the end of this section, describe the questions that you plan on exploring over the course of the report. Try to build your report around the analysis of at least one dependent variable and three independent variables. If you're not sure what questions to ask, then make sure you familiarize yourself with the dataset, its variables and the dataset context for ideas of what to explore.\n",
    "\n",
    "> If you haven't yet selected and downloaded your data, make sure you do that first before coming back here. In order to work with the data in this workspace, you also need to upload it to the workspace. To do so, click on the jupyter icon in the upper left to be taken back to the workspace directory. There should be an 'Upload' button in the upper right that will let you add your data file(s) to the workspace. You can then click on the .ipynb file name to come back here."
   ]
  },
  {
   "cell_type": "code",
   "execution_count": 324,
   "metadata": {},
   "outputs": [
    {
     "data": {
      "text/plain": [
       "'\\nThe TMDB movie dataset is selected for this project. This dataset contains information about over 10,000 movies collected from \\nThe Movie Database (TMDB), including user ratings and revenue. \\n\\nResearch Questions include: \\n1. What genres of movies are most popular from year to year?\\n2. What kinds of properties are associated with movies that have high revenues?\\n3. What is the relationship between user rating and revenue? \\n\\n'"
      ]
     },
     "execution_count": 324,
     "metadata": {},
     "output_type": "execute_result"
    }
   ],
   "source": [
    "# Use this cell to set up import statements for all of the packages that you\n",
    "#   plan to use.\n",
    "\"\"\"\n",
    "The TMDB movie dataset is selected for this project. This dataset contains information about over 10,000 movies collected from \n",
    "The Movie Database (TMDB), including user ratings and revenue. \n",
    "\n",
    "Research Questions include: \n",
    "1. What genres of movies are most popular from year to year?\n",
    "2. What kinds of properties are associated with movies that have high revenues?\n",
    "3. What is the relationship between user rating and revenue or popularity? \n",
    "4. What kinds of properties are associated with movies that are most popular?\n",
    "\n",
    "\"\"\"\n",
    "# Remember to include a 'magic word' so that your visualizations are plotted\n",
    "#   inline with the notebook. See this page for more:\n",
    "#   http://ipython.readthedocs.io/en/stable/interactive/magics.html\n"
   ]
  },
  {
   "cell_type": "markdown",
   "metadata": {},
   "source": [
    "<a id='wrangling'></a>\n",
    "## Data Wrangling\n",
    "\n",
    "> **Tip**: In this section of the report, you will load in the data, check for cleanliness, and then trim and clean your dataset for analysis. Make sure that you document your steps carefully and justify your cleaning decisions.\n",
    "\n",
    "### General Properties"
   ]
  },
  {
   "cell_type": "code",
   "execution_count": 2,
   "metadata": {},
   "outputs": [
    {
     "name": "stdout",
     "output_type": "stream",
     "text": [
      "<class 'pandas.core.frame.DataFrame'>\n",
      "RangeIndex: 10866 entries, 0 to 10865\n",
      "Data columns (total 21 columns):\n",
      "id                      10866 non-null int64\n",
      "imdb_id                 10856 non-null object\n",
      "popularity              10866 non-null float64\n",
      "budget                  10866 non-null int64\n",
      "revenue                 10866 non-null int64\n",
      "original_title          10866 non-null object\n",
      "cast                    10790 non-null object\n",
      "homepage                2936 non-null object\n",
      "director                10822 non-null object\n",
      "tagline                 8042 non-null object\n",
      "keywords                9373 non-null object\n",
      "overview                10862 non-null object\n",
      "runtime                 10866 non-null int64\n",
      "genres                  10843 non-null object\n",
      "production_companies    9836 non-null object\n",
      "release_date            10866 non-null object\n",
      "vote_count              10866 non-null int64\n",
      "vote_average            10866 non-null float64\n",
      "release_year            10866 non-null int64\n",
      "budget_adj              10866 non-null float64\n",
      "revenue_adj             10866 non-null float64\n",
      "dtypes: float64(4), int64(6), object(11)\n",
      "memory usage: 1.7+ MB\n"
     ]
    },
    {
     "data": {
      "text/plain": [
       "True"
      ]
     },
     "execution_count": 2,
     "metadata": {},
     "output_type": "execute_result"
    }
   ],
   "source": [
    "# Load your data and print out a few lines. Perform operations to inspect data\n",
    "#   types and look for instances of missing or possibly errant data.\n",
    "import pandas as pd\n",
    "import matplotlib.pyplot as plt\n",
    "import numpy as np\n",
    "import seaborn as sns\n",
    "%matplotlib inline \n",
    "df = pd.read_csv('movies.csv')\n",
    "#Check the information of dataframe\n",
    "df.info()\n",
    "df.isnull().sum().any()"
   ]
  },
  {
   "cell_type": "markdown",
   "metadata": {},
   "source": [
    "> **Tip**: You should _not_ perform too many operations in each cell. Create cells freely to explore your data. One option that you can take with this project is to do a lot of explorations in an initial notebook. These don't have to be organized, but make sure you use enough comments to understand the purpose of each code cell. Then, after you're done with your analysis, create a duplicate notebook where you will trim the excess and organize your steps so that you have a flowing, cohesive report.\n",
    "\n",
    "> **Tip**: Make sure that you keep your reader informed on the steps that you are taking in your investigation. Follow every code cell, or every set of related code cells, with a markdown cell to describe to the reader what was found in the preceding cell(s). Try to make it so that the reader can then understand what they will be seeing in the following cell(s).\n",
    "\n",
    "### Data Cleaning (Replace this with more specific notes!)"
   ]
  },
  {
   "cell_type": "code",
   "execution_count": 3,
   "metadata": {},
   "outputs": [
    {
     "name": "stdout",
     "output_type": "stream",
     "text": [
      "<class 'pandas.core.frame.DataFrame'>\n",
      "Int64Index: 1992 entries, 0 to 10819\n",
      "Data columns (total 21 columns):\n",
      "id                      1992 non-null int64\n",
      "imdb_id                 1992 non-null object\n",
      "popularity              1992 non-null float64\n",
      "budget                  1992 non-null int64\n",
      "revenue                 1992 non-null int64\n",
      "original_title          1992 non-null object\n",
      "cast                    1992 non-null object\n",
      "homepage                1992 non-null object\n",
      "director                1992 non-null object\n",
      "tagline                 1992 non-null object\n",
      "keywords                1992 non-null object\n",
      "overview                1992 non-null object\n",
      "runtime                 1992 non-null int64\n",
      "genres                  1992 non-null object\n",
      "production_companies    1992 non-null object\n",
      "release_date            1992 non-null object\n",
      "vote_count              1992 non-null int64\n",
      "vote_average            1992 non-null float64\n",
      "release_year            1992 non-null int64\n",
      "budget_adj              1992 non-null float64\n",
      "revenue_adj             1992 non-null float64\n",
      "dtypes: float64(4), int64(6), object(11)\n",
      "memory usage: 342.4+ KB\n"
     ]
    },
    {
     "data": {
      "text/html": [
       "<div>\n",
       "<style>\n",
       "    .dataframe thead tr:only-child th {\n",
       "        text-align: right;\n",
       "    }\n",
       "\n",
       "    .dataframe thead th {\n",
       "        text-align: left;\n",
       "    }\n",
       "\n",
       "    .dataframe tbody tr th {\n",
       "        vertical-align: top;\n",
       "    }\n",
       "</style>\n",
       "<table border=\"1\" class=\"dataframe\">\n",
       "  <thead>\n",
       "    <tr style=\"text-align: right;\">\n",
       "      <th></th>\n",
       "      <th>id</th>\n",
       "      <th>imdb_id</th>\n",
       "      <th>popularity</th>\n",
       "      <th>budget</th>\n",
       "      <th>revenue</th>\n",
       "      <th>original_title</th>\n",
       "      <th>cast</th>\n",
       "      <th>homepage</th>\n",
       "      <th>director</th>\n",
       "      <th>tagline</th>\n",
       "      <th>...</th>\n",
       "      <th>overview</th>\n",
       "      <th>runtime</th>\n",
       "      <th>genres</th>\n",
       "      <th>production_companies</th>\n",
       "      <th>release_date</th>\n",
       "      <th>vote_count</th>\n",
       "      <th>vote_average</th>\n",
       "      <th>release_year</th>\n",
       "      <th>budget_adj</th>\n",
       "      <th>revenue_adj</th>\n",
       "    </tr>\n",
       "  </thead>\n",
       "  <tbody>\n",
       "    <tr>\n",
       "      <th>0</th>\n",
       "      <td>135397</td>\n",
       "      <td>tt0369610</td>\n",
       "      <td>32.985763</td>\n",
       "      <td>150000000</td>\n",
       "      <td>1513528810</td>\n",
       "      <td>Jurassic World</td>\n",
       "      <td>Chris Pratt|Bryce Dallas Howard|Irrfan Khan|Vi...</td>\n",
       "      <td>http://www.jurassicworld.com/</td>\n",
       "      <td>Colin Trevorrow</td>\n",
       "      <td>The park is open.</td>\n",
       "      <td>...</td>\n",
       "      <td>Twenty-two years after the events of Jurassic ...</td>\n",
       "      <td>124</td>\n",
       "      <td>Action|Adventure|Science Fiction|Thriller</td>\n",
       "      <td>Universal Studios|Amblin Entertainment|Legenda...</td>\n",
       "      <td>6/9/15</td>\n",
       "      <td>5562</td>\n",
       "      <td>6.5</td>\n",
       "      <td>2015</td>\n",
       "      <td>1.379999e+08</td>\n",
       "      <td>1.392446e+09</td>\n",
       "    </tr>\n",
       "    <tr>\n",
       "      <th>1</th>\n",
       "      <td>76341</td>\n",
       "      <td>tt1392190</td>\n",
       "      <td>28.419936</td>\n",
       "      <td>150000000</td>\n",
       "      <td>378436354</td>\n",
       "      <td>Mad Max: Fury Road</td>\n",
       "      <td>Tom Hardy|Charlize Theron|Hugh Keays-Byrne|Nic...</td>\n",
       "      <td>http://www.madmaxmovie.com/</td>\n",
       "      <td>George Miller</td>\n",
       "      <td>What a Lovely Day.</td>\n",
       "      <td>...</td>\n",
       "      <td>An apocalyptic story set in the furthest reach...</td>\n",
       "      <td>120</td>\n",
       "      <td>Action|Adventure|Science Fiction|Thriller</td>\n",
       "      <td>Village Roadshow Pictures|Kennedy Miller Produ...</td>\n",
       "      <td>5/13/15</td>\n",
       "      <td>6185</td>\n",
       "      <td>7.1</td>\n",
       "      <td>2015</td>\n",
       "      <td>1.379999e+08</td>\n",
       "      <td>3.481613e+08</td>\n",
       "    </tr>\n",
       "    <tr>\n",
       "      <th>2</th>\n",
       "      <td>262500</td>\n",
       "      <td>tt2908446</td>\n",
       "      <td>13.112507</td>\n",
       "      <td>110000000</td>\n",
       "      <td>295238201</td>\n",
       "      <td>Insurgent</td>\n",
       "      <td>Shailene Woodley|Theo James|Kate Winslet|Ansel...</td>\n",
       "      <td>http://www.thedivergentseries.movie/#insurgent</td>\n",
       "      <td>Robert Schwentke</td>\n",
       "      <td>One Choice Can Destroy You</td>\n",
       "      <td>...</td>\n",
       "      <td>Beatrice Prior must confront her inner demons ...</td>\n",
       "      <td>119</td>\n",
       "      <td>Adventure|Science Fiction|Thriller</td>\n",
       "      <td>Summit Entertainment|Mandeville Films|Red Wago...</td>\n",
       "      <td>3/18/15</td>\n",
       "      <td>2480</td>\n",
       "      <td>6.3</td>\n",
       "      <td>2015</td>\n",
       "      <td>1.012000e+08</td>\n",
       "      <td>2.716190e+08</td>\n",
       "    </tr>\n",
       "    <tr>\n",
       "      <th>3</th>\n",
       "      <td>140607</td>\n",
       "      <td>tt2488496</td>\n",
       "      <td>11.173104</td>\n",
       "      <td>200000000</td>\n",
       "      <td>2068178225</td>\n",
       "      <td>Star Wars: The Force Awakens</td>\n",
       "      <td>Harrison Ford|Mark Hamill|Carrie Fisher|Adam D...</td>\n",
       "      <td>http://www.starwars.com/films/star-wars-episod...</td>\n",
       "      <td>J.J. Abrams</td>\n",
       "      <td>Every generation has a story.</td>\n",
       "      <td>...</td>\n",
       "      <td>Thirty years after defeating the Galactic Empi...</td>\n",
       "      <td>136</td>\n",
       "      <td>Action|Adventure|Science Fiction|Fantasy</td>\n",
       "      <td>Lucasfilm|Truenorth Productions|Bad Robot</td>\n",
       "      <td>12/15/15</td>\n",
       "      <td>5292</td>\n",
       "      <td>7.5</td>\n",
       "      <td>2015</td>\n",
       "      <td>1.839999e+08</td>\n",
       "      <td>1.902723e+09</td>\n",
       "    </tr>\n",
       "    <tr>\n",
       "      <th>4</th>\n",
       "      <td>168259</td>\n",
       "      <td>tt2820852</td>\n",
       "      <td>9.335014</td>\n",
       "      <td>190000000</td>\n",
       "      <td>1506249360</td>\n",
       "      <td>Furious 7</td>\n",
       "      <td>Vin Diesel|Paul Walker|Jason Statham|Michelle ...</td>\n",
       "      <td>http://www.furious7.com/</td>\n",
       "      <td>James Wan</td>\n",
       "      <td>Vengeance Hits Home</td>\n",
       "      <td>...</td>\n",
       "      <td>Deckard Shaw seeks revenge against Dominic Tor...</td>\n",
       "      <td>137</td>\n",
       "      <td>Action|Crime|Thriller</td>\n",
       "      <td>Universal Pictures|Original Film|Media Rights ...</td>\n",
       "      <td>4/1/15</td>\n",
       "      <td>2947</td>\n",
       "      <td>7.3</td>\n",
       "      <td>2015</td>\n",
       "      <td>1.747999e+08</td>\n",
       "      <td>1.385749e+09</td>\n",
       "    </tr>\n",
       "  </tbody>\n",
       "</table>\n",
       "<p>5 rows × 21 columns</p>\n",
       "</div>"
      ],
      "text/plain": [
       "       id    imdb_id  popularity     budget     revenue  \\\n",
       "0  135397  tt0369610   32.985763  150000000  1513528810   \n",
       "1   76341  tt1392190   28.419936  150000000   378436354   \n",
       "2  262500  tt2908446   13.112507  110000000   295238201   \n",
       "3  140607  tt2488496   11.173104  200000000  2068178225   \n",
       "4  168259  tt2820852    9.335014  190000000  1506249360   \n",
       "\n",
       "                 original_title  \\\n",
       "0                Jurassic World   \n",
       "1            Mad Max: Fury Road   \n",
       "2                     Insurgent   \n",
       "3  Star Wars: The Force Awakens   \n",
       "4                     Furious 7   \n",
       "\n",
       "                                                cast  \\\n",
       "0  Chris Pratt|Bryce Dallas Howard|Irrfan Khan|Vi...   \n",
       "1  Tom Hardy|Charlize Theron|Hugh Keays-Byrne|Nic...   \n",
       "2  Shailene Woodley|Theo James|Kate Winslet|Ansel...   \n",
       "3  Harrison Ford|Mark Hamill|Carrie Fisher|Adam D...   \n",
       "4  Vin Diesel|Paul Walker|Jason Statham|Michelle ...   \n",
       "\n",
       "                                            homepage          director  \\\n",
       "0                      http://www.jurassicworld.com/   Colin Trevorrow   \n",
       "1                        http://www.madmaxmovie.com/     George Miller   \n",
       "2     http://www.thedivergentseries.movie/#insurgent  Robert Schwentke   \n",
       "3  http://www.starwars.com/films/star-wars-episod...       J.J. Abrams   \n",
       "4                           http://www.furious7.com/         James Wan   \n",
       "\n",
       "                         tagline      ...       \\\n",
       "0              The park is open.      ...        \n",
       "1             What a Lovely Day.      ...        \n",
       "2     One Choice Can Destroy You      ...        \n",
       "3  Every generation has a story.      ...        \n",
       "4            Vengeance Hits Home      ...        \n",
       "\n",
       "                                            overview runtime  \\\n",
       "0  Twenty-two years after the events of Jurassic ...     124   \n",
       "1  An apocalyptic story set in the furthest reach...     120   \n",
       "2  Beatrice Prior must confront her inner demons ...     119   \n",
       "3  Thirty years after defeating the Galactic Empi...     136   \n",
       "4  Deckard Shaw seeks revenge against Dominic Tor...     137   \n",
       "\n",
       "                                      genres  \\\n",
       "0  Action|Adventure|Science Fiction|Thriller   \n",
       "1  Action|Adventure|Science Fiction|Thriller   \n",
       "2         Adventure|Science Fiction|Thriller   \n",
       "3   Action|Adventure|Science Fiction|Fantasy   \n",
       "4                      Action|Crime|Thriller   \n",
       "\n",
       "                                production_companies release_date vote_count  \\\n",
       "0  Universal Studios|Amblin Entertainment|Legenda...       6/9/15       5562   \n",
       "1  Village Roadshow Pictures|Kennedy Miller Produ...      5/13/15       6185   \n",
       "2  Summit Entertainment|Mandeville Films|Red Wago...      3/18/15       2480   \n",
       "3          Lucasfilm|Truenorth Productions|Bad Robot     12/15/15       5292   \n",
       "4  Universal Pictures|Original Film|Media Rights ...       4/1/15       2947   \n",
       "\n",
       "   vote_average  release_year    budget_adj   revenue_adj  \n",
       "0           6.5          2015  1.379999e+08  1.392446e+09  \n",
       "1           7.1          2015  1.379999e+08  3.481613e+08  \n",
       "2           6.3          2015  1.012000e+08  2.716190e+08  \n",
       "3           7.5          2015  1.839999e+08  1.902723e+09  \n",
       "4           7.3          2015  1.747999e+08  1.385749e+09  \n",
       "\n",
       "[5 rows x 21 columns]"
      ]
     },
     "execution_count": 3,
     "metadata": {},
     "output_type": "execute_result"
    }
   ],
   "source": [
    "\n",
    "#Remove missing values \n",
    "df = df.dropna()\n",
    "#Confirm there is no more missing values \n",
    "df.isnull().sum().any()\n",
    "#check information of the dataframe\n",
    "df.info()\n",
    "#check first few rows of the dataframe\n",
    "df.head(5)"
   ]
  },
  {
   "cell_type": "code",
   "execution_count": 4,
   "metadata": {},
   "outputs": [
    {
     "data": {
      "text/html": [
       "<div>\n",
       "<style>\n",
       "    .dataframe thead tr:only-child th {\n",
       "        text-align: right;\n",
       "    }\n",
       "\n",
       "    .dataframe thead th {\n",
       "        text-align: left;\n",
       "    }\n",
       "\n",
       "    .dataframe tbody tr th {\n",
       "        vertical-align: top;\n",
       "    }\n",
       "</style>\n",
       "<table border=\"1\" class=\"dataframe\">\n",
       "  <thead>\n",
       "    <tr style=\"text-align: right;\">\n",
       "      <th></th>\n",
       "      <th>popularity</th>\n",
       "      <th>budget</th>\n",
       "      <th>revenue</th>\n",
       "      <th>original_title</th>\n",
       "      <th>cast</th>\n",
       "      <th>director</th>\n",
       "      <th>keywords</th>\n",
       "      <th>overview</th>\n",
       "      <th>runtime</th>\n",
       "      <th>genres</th>\n",
       "      <th>production_companies</th>\n",
       "      <th>release_date</th>\n",
       "      <th>vote_count</th>\n",
       "      <th>vote_average</th>\n",
       "      <th>release_year</th>\n",
       "    </tr>\n",
       "  </thead>\n",
       "  <tbody>\n",
       "    <tr>\n",
       "      <th>0</th>\n",
       "      <td>32.985763</td>\n",
       "      <td>150000000</td>\n",
       "      <td>1513528810</td>\n",
       "      <td>Jurassic World</td>\n",
       "      <td>Chris Pratt|Bryce Dallas Howard|Irrfan Khan|Vi...</td>\n",
       "      <td>Colin Trevorrow</td>\n",
       "      <td>monster|dna|tyrannosaurus rex|velociraptor|island</td>\n",
       "      <td>Twenty-two years after the events of Jurassic ...</td>\n",
       "      <td>124</td>\n",
       "      <td>Action|Adventure|Science Fiction|Thriller</td>\n",
       "      <td>Universal Studios|Amblin Entertainment|Legenda...</td>\n",
       "      <td>6/9/15</td>\n",
       "      <td>5562</td>\n",
       "      <td>6.5</td>\n",
       "      <td>2015</td>\n",
       "    </tr>\n",
       "    <tr>\n",
       "      <th>1</th>\n",
       "      <td>28.419936</td>\n",
       "      <td>150000000</td>\n",
       "      <td>378436354</td>\n",
       "      <td>Mad Max: Fury Road</td>\n",
       "      <td>Tom Hardy|Charlize Theron|Hugh Keays-Byrne|Nic...</td>\n",
       "      <td>George Miller</td>\n",
       "      <td>future|chase|post-apocalyptic|dystopia|australia</td>\n",
       "      <td>An apocalyptic story set in the furthest reach...</td>\n",
       "      <td>120</td>\n",
       "      <td>Action|Adventure|Science Fiction|Thriller</td>\n",
       "      <td>Village Roadshow Pictures|Kennedy Miller Produ...</td>\n",
       "      <td>5/13/15</td>\n",
       "      <td>6185</td>\n",
       "      <td>7.1</td>\n",
       "      <td>2015</td>\n",
       "    </tr>\n",
       "    <tr>\n",
       "      <th>2</th>\n",
       "      <td>13.112507</td>\n",
       "      <td>110000000</td>\n",
       "      <td>295238201</td>\n",
       "      <td>Insurgent</td>\n",
       "      <td>Shailene Woodley|Theo James|Kate Winslet|Ansel...</td>\n",
       "      <td>Robert Schwentke</td>\n",
       "      <td>based on novel|revolution|dystopia|sequel|dyst...</td>\n",
       "      <td>Beatrice Prior must confront her inner demons ...</td>\n",
       "      <td>119</td>\n",
       "      <td>Adventure|Science Fiction|Thriller</td>\n",
       "      <td>Summit Entertainment|Mandeville Films|Red Wago...</td>\n",
       "      <td>3/18/15</td>\n",
       "      <td>2480</td>\n",
       "      <td>6.3</td>\n",
       "      <td>2015</td>\n",
       "    </tr>\n",
       "    <tr>\n",
       "      <th>3</th>\n",
       "      <td>11.173104</td>\n",
       "      <td>200000000</td>\n",
       "      <td>2068178225</td>\n",
       "      <td>Star Wars: The Force Awakens</td>\n",
       "      <td>Harrison Ford|Mark Hamill|Carrie Fisher|Adam D...</td>\n",
       "      <td>J.J. Abrams</td>\n",
       "      <td>android|spaceship|jedi|space opera|3d</td>\n",
       "      <td>Thirty years after defeating the Galactic Empi...</td>\n",
       "      <td>136</td>\n",
       "      <td>Action|Adventure|Science Fiction|Fantasy</td>\n",
       "      <td>Lucasfilm|Truenorth Productions|Bad Robot</td>\n",
       "      <td>12/15/15</td>\n",
       "      <td>5292</td>\n",
       "      <td>7.5</td>\n",
       "      <td>2015</td>\n",
       "    </tr>\n",
       "    <tr>\n",
       "      <th>4</th>\n",
       "      <td>9.335014</td>\n",
       "      <td>190000000</td>\n",
       "      <td>1506249360</td>\n",
       "      <td>Furious 7</td>\n",
       "      <td>Vin Diesel|Paul Walker|Jason Statham|Michelle ...</td>\n",
       "      <td>James Wan</td>\n",
       "      <td>car race|speed|revenge|suspense|car</td>\n",
       "      <td>Deckard Shaw seeks revenge against Dominic Tor...</td>\n",
       "      <td>137</td>\n",
       "      <td>Action|Crime|Thriller</td>\n",
       "      <td>Universal Pictures|Original Film|Media Rights ...</td>\n",
       "      <td>4/1/15</td>\n",
       "      <td>2947</td>\n",
       "      <td>7.3</td>\n",
       "      <td>2015</td>\n",
       "    </tr>\n",
       "  </tbody>\n",
       "</table>\n",
       "</div>"
      ],
      "text/plain": [
       "   popularity     budget     revenue                original_title  \\\n",
       "0   32.985763  150000000  1513528810                Jurassic World   \n",
       "1   28.419936  150000000   378436354            Mad Max: Fury Road   \n",
       "2   13.112507  110000000   295238201                     Insurgent   \n",
       "3   11.173104  200000000  2068178225  Star Wars: The Force Awakens   \n",
       "4    9.335014  190000000  1506249360                     Furious 7   \n",
       "\n",
       "                                                cast          director  \\\n",
       "0  Chris Pratt|Bryce Dallas Howard|Irrfan Khan|Vi...   Colin Trevorrow   \n",
       "1  Tom Hardy|Charlize Theron|Hugh Keays-Byrne|Nic...     George Miller   \n",
       "2  Shailene Woodley|Theo James|Kate Winslet|Ansel...  Robert Schwentke   \n",
       "3  Harrison Ford|Mark Hamill|Carrie Fisher|Adam D...       J.J. Abrams   \n",
       "4  Vin Diesel|Paul Walker|Jason Statham|Michelle ...         James Wan   \n",
       "\n",
       "                                            keywords  \\\n",
       "0  monster|dna|tyrannosaurus rex|velociraptor|island   \n",
       "1   future|chase|post-apocalyptic|dystopia|australia   \n",
       "2  based on novel|revolution|dystopia|sequel|dyst...   \n",
       "3              android|spaceship|jedi|space opera|3d   \n",
       "4                car race|speed|revenge|suspense|car   \n",
       "\n",
       "                                            overview  runtime  \\\n",
       "0  Twenty-two years after the events of Jurassic ...      124   \n",
       "1  An apocalyptic story set in the furthest reach...      120   \n",
       "2  Beatrice Prior must confront her inner demons ...      119   \n",
       "3  Thirty years after defeating the Galactic Empi...      136   \n",
       "4  Deckard Shaw seeks revenge against Dominic Tor...      137   \n",
       "\n",
       "                                      genres  \\\n",
       "0  Action|Adventure|Science Fiction|Thriller   \n",
       "1  Action|Adventure|Science Fiction|Thriller   \n",
       "2         Adventure|Science Fiction|Thriller   \n",
       "3   Action|Adventure|Science Fiction|Fantasy   \n",
       "4                      Action|Crime|Thriller   \n",
       "\n",
       "                                production_companies release_date  vote_count  \\\n",
       "0  Universal Studios|Amblin Entertainment|Legenda...       6/9/15        5562   \n",
       "1  Village Roadshow Pictures|Kennedy Miller Produ...      5/13/15        6185   \n",
       "2  Summit Entertainment|Mandeville Films|Red Wago...      3/18/15        2480   \n",
       "3          Lucasfilm|Truenorth Productions|Bad Robot     12/15/15        5292   \n",
       "4  Universal Pictures|Original Film|Media Rights ...       4/1/15        2947   \n",
       "\n",
       "   vote_average  release_year  \n",
       "0           6.5          2015  \n",
       "1           7.1          2015  \n",
       "2           6.3          2015  \n",
       "3           7.5          2015  \n",
       "4           7.3          2015  "
      ]
     },
     "execution_count": 4,
     "metadata": {},
     "output_type": "execute_result"
    }
   ],
   "source": [
    "#For simplicity purpose, remove columns that won't be needed\n",
    "df.drop(['id', 'imdb_id', 'homepage', 'tagline', 'budget_adj', 'revenue_adj'], axis=1, inplace=True)\n",
    "#confirm that those columns have been removed\n",
    "df.head()"
   ]
  },
  {
   "cell_type": "code",
   "execution_count": 5,
   "metadata": {},
   "outputs": [
    {
     "name": "stdout",
     "output_type": "stream",
     "text": [
      "<class 'pandas.core.frame.DataFrame'>\n",
      "Int64Index: 1992 entries, 0 to 10819\n",
      "Data columns (total 15 columns):\n",
      "popularity              1992 non-null float64\n",
      "budget                  1992 non-null int64\n",
      "revenue                 1992 non-null int64\n",
      "original_title          1992 non-null object\n",
      "cast                    1992 non-null object\n",
      "director                1992 non-null object\n",
      "keywords                1992 non-null object\n",
      "overview                1992 non-null object\n",
      "runtime                 1992 non-null int64\n",
      "genres                  1992 non-null object\n",
      "production_companies    1992 non-null object\n",
      "release_date            1992 non-null datetime64[ns]\n",
      "vote_count              1992 non-null int64\n",
      "vote_average            1992 non-null float64\n",
      "release_year            1992 non-null int64\n",
      "dtypes: datetime64[ns](1), float64(2), int64(5), object(7)\n",
      "memory usage: 249.0+ KB\n"
     ]
    }
   ],
   "source": [
    "#Change release_date dtype into Date\n",
    "df['release_date'] = pd.to_datetime(df['release_date'])\n",
    "df.head(1)\n",
    "df.info()"
   ]
  },
  {
   "cell_type": "code",
   "execution_count": 6,
   "metadata": {},
   "outputs": [
    {
     "data": {
      "text/html": [
       "<div>\n",
       "<style>\n",
       "    .dataframe thead tr:only-child th {\n",
       "        text-align: right;\n",
       "    }\n",
       "\n",
       "    .dataframe thead th {\n",
       "        text-align: left;\n",
       "    }\n",
       "\n",
       "    .dataframe tbody tr th {\n",
       "        vertical-align: top;\n",
       "    }\n",
       "</style>\n",
       "<table border=\"1\" class=\"dataframe\">\n",
       "  <thead>\n",
       "    <tr style=\"text-align: right;\">\n",
       "      <th></th>\n",
       "      <th>popularity</th>\n",
       "      <th>budget</th>\n",
       "      <th>revenue</th>\n",
       "      <th>original_title</th>\n",
       "      <th>cast</th>\n",
       "      <th>director</th>\n",
       "      <th>keywords</th>\n",
       "      <th>overview</th>\n",
       "      <th>runtime</th>\n",
       "      <th>genres</th>\n",
       "      <th>production_companies</th>\n",
       "      <th>release_date</th>\n",
       "      <th>vote_count</th>\n",
       "      <th>vote_average</th>\n",
       "      <th>release_year</th>\n",
       "    </tr>\n",
       "  </thead>\n",
       "  <tbody>\n",
       "    <tr>\n",
       "      <th>0</th>\n",
       "      <td>32.985763</td>\n",
       "      <td>150000000</td>\n",
       "      <td>1513528810</td>\n",
       "      <td>Jurassic World</td>\n",
       "      <td>Chris Pratt ,Bryce Dallas Howard ,Irrfan Khan ...</td>\n",
       "      <td>Colin Trevorrow</td>\n",
       "      <td>monster ,dna ,tyrannosaurus rex ,velociraptor ...</td>\n",
       "      <td>Twenty-two years after the events of Jurassic ...</td>\n",
       "      <td>124</td>\n",
       "      <td>Action ,Adventure ,Science Fiction ,Thriller</td>\n",
       "      <td>Universal Studios ,Amblin Entertainment ,Legen...</td>\n",
       "      <td>2015-06-09</td>\n",
       "      <td>5562</td>\n",
       "      <td>6.5</td>\n",
       "      <td>2015</td>\n",
       "    </tr>\n",
       "  </tbody>\n",
       "</table>\n",
       "</div>"
      ],
      "text/plain": [
       "   popularity     budget     revenue  original_title  \\\n",
       "0   32.985763  150000000  1513528810  Jurassic World   \n",
       "\n",
       "                                                cast         director  \\\n",
       "0  Chris Pratt ,Bryce Dallas Howard ,Irrfan Khan ...  Colin Trevorrow   \n",
       "\n",
       "                                            keywords  \\\n",
       "0  monster ,dna ,tyrannosaurus rex ,velociraptor ...   \n",
       "\n",
       "                                            overview  runtime  \\\n",
       "0  Twenty-two years after the events of Jurassic ...      124   \n",
       "\n",
       "                                         genres  \\\n",
       "0  Action ,Adventure ,Science Fiction ,Thriller   \n",
       "\n",
       "                                production_companies release_date  vote_count  \\\n",
       "0  Universal Studios ,Amblin Entertainment ,Legen...   2015-06-09        5562   \n",
       "\n",
       "   vote_average  release_year  \n",
       "0           6.5          2015  "
      ]
     },
     "execution_count": 6,
     "metadata": {},
     "output_type": "execute_result"
    }
   ],
   "source": [
    "#Check for duplication in the dataframe \n",
    "sum(df.duplicated())\n",
    "#replace separator in columns 'cast', 'keywords' and 'genre' with ','\n",
    "df['cast']=df['cast'].str.replace('|', ' ,')\n",
    "df['keywords']=df['keywords'].str.replace('|', ' ,')\n",
    "df['genres']=df['genres'].str.replace('|', ' ,')\n",
    "df['production_companies']=df['production_companies'].str.replace('|', ' ,')\n",
    "df['director']=df['director'].str.replace('|', ',')\n",
    "df.head(1)"
   ]
  },
  {
   "cell_type": "markdown",
   "metadata": {},
   "source": [
    "<a id='eda'></a>\n",
    "## Exploratory Data Analysis\n",
    "\n",
    "> **Tip**: Now that you've trimmed and cleaned your data, you're ready to move on to exploration. Compute statistics and create visualizations with the goal of addressing the research questions that you posed in the Introduction section. It is recommended that you be systematic with your approach. Look at one variable at a time, and then follow it up by looking at relationships between variables.\n",
    "\n",
    "### Research Question 1: What genres of movies are most popular from year to year?\n",
    "Reasoning for this analysis: \n",
    "Understand this trend can help understand the change of movie industry as well as the movie genre preferences among movie fans. \n",
    "\n",
    "Observation made via analysis: \n",
    "The movie with highest popularity overtime (from 1961 to 2015) was Jurassic World, with a popularity of 32.985763. Overtime, the most popular movie genre is Adventure followed by Action, and Drama. "
   ]
  },
  {
   "cell_type": "code",
   "execution_count": 7,
   "metadata": {},
   "outputs": [
    {
     "name": "stdout",
     "output_type": "stream",
     "text": [
      "Counter({'Adventure': 21, 'Action': 9, 'Drama': 7, 'Horror': 4, 'Science': 3, 'Fiction': 3, 'Animation': 2, 'Comedy': 2, 'Fantasy': 1, 'Mystery': 1, 'Crime': 1, 'Family': 1, 'Romance': 1})\n"
     ]
    },
    {
     "data": {
      "image/png": "[encoded data removed]",
      "text/plain": [
       "<matplotlib.figure.Figure at 0x7fbf77e6b048>"
      ]
     },
     "metadata": {},
     "output_type": "display_data"
    },
    {
     "data": {
      "text/plain": [
       "0                                 Jurassic World\n",
       "629                                 Interstellar\n",
       "5422                                      Frozen\n",
       "4361                                The Avengers\n",
       "3372          Captain America: The First Avenger\n",
       "1919                                   Inception\n",
       "1386                                      Avatar\n",
       "2875                             The Dark Knight\n",
       "7387    Pirates of the Caribbean: At World's End\n",
       "6554                       Underworld: Evolution\n",
       "Name: original_title, dtype: object"
      ]
     },
     "execution_count": 7,
     "metadata": {},
     "output_type": "execute_result"
    }
   ],
   "source": [
    "from collections import Counter\n",
    "from itertools import chain\n",
    "#create a new dataframe by selecting target columns: popularity, release_year, genres, revenue \n",
    "df1=df.loc[:, ['popularity', 'release_year', 'release_date','genres', 'original_title']]\n",
    "#sort dataframe by popularity and remove duplicate years \n",
    "df2=df1.sort_values('popularity', ascending=False).drop_duplicates(['release_year'])\n",
    "#sort dataframe by release_year\n",
    "df2=df2.sort_values('release_year', ascending=False)\n",
    "df2.head()\n",
    "#convert column 'genres' into a list \n",
    "g_list = df2['genres'].tolist()\n",
    "g_list = [elem.strip().split(',') for elem in g_list]\n",
    "genres = [i[0].split() for i in g_list]\n",
    "print (Counter(chain.from_iterable(genres)))\n",
    "\n",
    "df2['popularity'][:10].plot(kind='bar', color='m')\n",
    "labels=['Jurassic World', 'Interstellar', 'Frozen', 'The Avengers', 'Captain America: The First Avenger', 'Inception', 'Avatar', 'The Dark Knight', 'Pirates of the Caribbean: At World\\'s End', 'Underworld: Evolution']\n",
    "x=[0,1,2,3,4,5,6,7,8,9]\n",
    "plt.xticks(x, labels, rotation='vertical')\n",
    "plt.title('Most Popular Movies between 2015 and 2006')\n",
    "plt.xlabel('Movie Name')\n",
    "plt.ylabel('Popularity')\n",
    "plt.show()\n",
    "\n",
    "df2['original_title'][:10]"
   ]
  },
  {
   "cell_type": "code",
   "execution_count": null,
   "metadata": {
    "collapsed": true
   },
   "outputs": [],
   "source": []
  },
  {
   "cell_type": "markdown",
   "metadata": {},
   "source": [
    "### Research Question 2: What kinds of properties are associated with movies that have high revenues?\n",
    "Reasoning for the analysis: To understand how can the movie industry increase the potential revenues. \n",
    "\n",
    "Observations:\n",
    "Movies with high revenues have the following properties or correlations: \n",
    "1. Invest similar amount of budget as that of expected revenue or more \n",
    "2. Be these movie genres (in descending order): drama, commedy, thriller, action, and adventure\n",
    "3. Featured casts that could bring high revenues (in descending order): Tom Hanks, Matt Damon, Mark Wahlberg, Nicolas Cage, Johnny Depp, Tom Cruise, George Clooney\n",
    "4. Directored by award-winning movie directors: John Carpenter, Steven Spielberg, Steven Soderbergh\n",
    "5. Movie is based on novel could yiel high revenues, as well as settings (in descending order) of the story are in London, New York and Paris. Interestingly, movie on suicide also yield high revenues second to based on novel. \n",
    "6. Movies released in the fall (in descending order): September, October and December tend to yield high revenues"
   ]
  },
  {
   "cell_type": "code",
   "execution_count": 8,
   "metadata": {},
   "outputs": [
    {
     "data": {
      "text/html": [
       "<div>\n",
       "<style>\n",
       "    .dataframe thead tr:only-child th {\n",
       "        text-align: right;\n",
       "    }\n",
       "\n",
       "    .dataframe thead th {\n",
       "        text-align: left;\n",
       "    }\n",
       "\n",
       "    .dataframe tbody tr th {\n",
       "        vertical-align: top;\n",
       "    }\n",
       "</style>\n",
       "<table border=\"1\" class=\"dataframe\">\n",
       "  <thead>\n",
       "    <tr style=\"text-align: right;\">\n",
       "      <th></th>\n",
       "      <th>genres</th>\n",
       "      <th>original_title</th>\n",
       "      <th>keywords</th>\n",
       "      <th>revenue</th>\n",
       "      <th>budget</th>\n",
       "      <th>cast</th>\n",
       "      <th>director</th>\n",
       "      <th>runtime</th>\n",
       "    </tr>\n",
       "  </thead>\n",
       "  <tbody>\n",
       "    <tr>\n",
       "      <th>1386</th>\n",
       "      <td>Action ,Adventure ,Fantasy ,Science Fiction</td>\n",
       "      <td>Avatar</td>\n",
       "      <td>culture clash ,future ,space war ,space colony...</td>\n",
       "      <td>2781505847</td>\n",
       "      <td>237000000</td>\n",
       "      <td>Sam Worthington ,Zoe Saldana ,Sigourney Weaver...</td>\n",
       "      <td>James Cameron</td>\n",
       "      <td>162</td>\n",
       "    </tr>\n",
       "    <tr>\n",
       "      <th>3</th>\n",
       "      <td>Action ,Adventure ,Science Fiction ,Fantasy</td>\n",
       "      <td>Star Wars: The Force Awakens</td>\n",
       "      <td>android ,spaceship ,jedi ,space opera ,3d</td>\n",
       "      <td>2068178225</td>\n",
       "      <td>200000000</td>\n",
       "      <td>Harrison Ford ,Mark Hamill ,Carrie Fisher ,Ada...</td>\n",
       "      <td>J.J. Abrams</td>\n",
       "      <td>136</td>\n",
       "    </tr>\n",
       "    <tr>\n",
       "      <th>5231</th>\n",
       "      <td>Drama ,Romance ,Thriller</td>\n",
       "      <td>Titanic</td>\n",
       "      <td>shipwreck ,iceberg ,ship ,panic ,titanic</td>\n",
       "      <td>1845034188</td>\n",
       "      <td>200000000</td>\n",
       "      <td>Kate Winslet ,Leonardo DiCaprio ,Frances Fishe...</td>\n",
       "      <td>James Cameron</td>\n",
       "      <td>194</td>\n",
       "    </tr>\n",
       "    <tr>\n",
       "      <th>4361</th>\n",
       "      <td>Science Fiction ,Action ,Adventure</td>\n",
       "      <td>The Avengers</td>\n",
       "      <td>new york ,shield ,marvel comic ,comic ,superhero</td>\n",
       "      <td>1519557910</td>\n",
       "      <td>220000000</td>\n",
       "      <td>Robert Downey Jr. ,Chris Evans ,Mark Ruffalo ,...</td>\n",
       "      <td>Joss Whedon</td>\n",
       "      <td>143</td>\n",
       "    </tr>\n",
       "    <tr>\n",
       "      <th>0</th>\n",
       "      <td>Action ,Adventure ,Science Fiction ,Thriller</td>\n",
       "      <td>Jurassic World</td>\n",
       "      <td>monster ,dna ,tyrannosaurus rex ,velociraptor ...</td>\n",
       "      <td>1513528810</td>\n",
       "      <td>150000000</td>\n",
       "      <td>Chris Pratt ,Bryce Dallas Howard ,Irrfan Khan ...</td>\n",
       "      <td>Colin Trevorrow</td>\n",
       "      <td>124</td>\n",
       "    </tr>\n",
       "  </tbody>\n",
       "</table>\n",
       "</div>"
      ],
      "text/plain": [
       "                                            genres  \\\n",
       "1386   Action ,Adventure ,Fantasy ,Science Fiction   \n",
       "3      Action ,Adventure ,Science Fiction ,Fantasy   \n",
       "5231                      Drama ,Romance ,Thriller   \n",
       "4361            Science Fiction ,Action ,Adventure   \n",
       "0     Action ,Adventure ,Science Fiction ,Thriller   \n",
       "\n",
       "                    original_title  \\\n",
       "1386                        Avatar   \n",
       "3     Star Wars: The Force Awakens   \n",
       "5231                       Titanic   \n",
       "4361                  The Avengers   \n",
       "0                   Jurassic World   \n",
       "\n",
       "                                               keywords     revenue  \\\n",
       "1386  culture clash ,future ,space war ,space colony...  2781505847   \n",
       "3             android ,spaceship ,jedi ,space opera ,3d  2068178225   \n",
       "5231           shipwreck ,iceberg ,ship ,panic ,titanic  1845034188   \n",
       "4361   new york ,shield ,marvel comic ,comic ,superhero  1519557910   \n",
       "0     monster ,dna ,tyrannosaurus rex ,velociraptor ...  1513528810   \n",
       "\n",
       "         budget                                               cast  \\\n",
       "1386  237000000  Sam Worthington ,Zoe Saldana ,Sigourney Weaver...   \n",
       "3     200000000  Harrison Ford ,Mark Hamill ,Carrie Fisher ,Ada...   \n",
       "5231  200000000  Kate Winslet ,Leonardo DiCaprio ,Frances Fishe...   \n",
       "4361  220000000  Robert Downey Jr. ,Chris Evans ,Mark Ruffalo ,...   \n",
       "0     150000000  Chris Pratt ,Bryce Dallas Howard ,Irrfan Khan ...   \n",
       "\n",
       "             director  runtime  \n",
       "1386    James Cameron      162  \n",
       "3         J.J. Abrams      136  \n",
       "5231    James Cameron      194  \n",
       "4361      Joss Whedon      143  \n",
       "0     Colin Trevorrow      124  "
      ]
     },
     "execution_count": 8,
     "metadata": {},
     "output_type": "execute_result"
    }
   ],
   "source": [
    "#Subset dataframe to only contain target columns \n",
    "df3=df.loc[:, ['genres', 'original_title', 'keywords', 'revenue', 'budget', 'cast', 'director', 'runtime']]\n",
    "#sort dataframe by popularity and remove duplicate years \n",
    "df3=df3.sort_values('revenue', ascending=False)\n",
    "df3.head()\n"
   ]
  },
  {
   "cell_type": "code",
   "execution_count": 9,
   "metadata": {},
   "outputs": [
    {
     "data": {
      "image/png": "[encoded data removed]",
      "text/plain": [
       "<matplotlib.figure.Figure at 0x7fbf77e6deb8>"
      ]
     },
     "metadata": {},
     "output_type": "display_data"
    },
    {
     "name": "stdout",
     "output_type": "stream",
     "text": [
      "                            OLS Regression Results                            \n",
      "==============================================================================\n",
      "Dep. Variable:                revenue   R-squared:                       0.558\n",
      "Model:                            OLS   Adj. R-squared:                  0.558\n",
      "Method:                 Least Squares   F-statistic:                     2517.\n",
      "Date:                Wed, 08 Nov 2017   Prob (F-statistic):               0.00\n",
      "Time:                        17:03:25   Log-Likelihood:                -40279.\n",
      "No. Observations:                1992   AIC:                         8.056e+04\n",
      "Df Residuals:                    1990   BIC:                         8.057e+04\n",
      "Df Model:                           1                                         \n",
      "Covariance Type:            nonrobust                                         \n",
      "==============================================================================\n",
      "                 coef    std err          t      P>|t|      [0.025      0.975]\n",
      "------------------------------------------------------------------------------\n",
      "Intercept   2.859e+06   3.97e+06      0.720      0.472   -4.93e+06    1.06e+07\n",
      "budget         3.2521      0.065     50.165      0.000       3.125       3.379\n",
      "==============================================================================\n",
      "Omnibus:                     1541.041   Durbin-Watson:                   0.894\n",
      "Prob(Omnibus):                  0.000   Jarque-Bera (JB):           105443.541\n",
      "Skew:                           3.059   Prob(JB):                         0.00\n",
      "Kurtosis:                      38.114   Cond. No.                     7.42e+07\n",
      "==============================================================================\n",
      "\n",
      "Warnings:\n",
      "[1] Standard Errors assume that the covariance matrix of the errors is correctly specified.\n",
      "[2] The condition number is large, 7.42e+07. This might indicate that there are\n",
      "strong multicollinearity or other numerical problems.\n"
     ]
    }
   ],
   "source": [
    "#explore the relationship between budget and revenue \n",
    "import seaborn as sns\n",
    "from statsmodels.formula.api import ols\n",
    "df3.plot(x='budget', y='revenue', kind='scatter', color='m');\n",
    "x=np.array(df3['budget'])\n",
    "y=np.array(df3['revenue'])\n",
    "m, b = np.polyfit(x, y, 1)\n",
    "plt.plot(x, y, '.', color='m')\n",
    "plt.plot(x, m*x + b, '-', color='blue', alpha=.5)\n",
    "plt.title('Budget and Revenue')\n",
    "plt.xlabel('Budget($Billions)')\n",
    "plt.ylabel('Revenue ($Ten Billions)')\n",
    "plt.show()\n",
    "\n",
    "model=ols('revenue~budget', df3).fit()\n",
    "print(model.summary())"
   ]
  },
  {
   "cell_type": "code",
   "execution_count": 59,
   "metadata": {},
   "outputs": [
    {
     "name": "stdout",
     "output_type": "stream",
     "text": [
      "Counter({'Drama': 838, 'Comedy': 640, 'Thriller': 575, 'Action': 532, 'Adventure': 361, 'Science Fiction': 291, 'Romance': 291, 'Horror': 273, 'Crime': 262, 'Family': 233, 'Fantasy': 202, 'Animation': 170, 'Mystery': 148, 'Documentary': 93, 'Music': 72, 'History': 56, 'War': 44, 'Western': 20, 'TV Movie': 16, 'Foreign': 6})\n"
     ]
    },
    {
     "data": {
      "image/png": "[encoded data removed]",
      "text/plain": [
       "<matplotlib.figure.Figure at 0x7fef8db47358>"
      ]
     },
     "metadata": {},
     "output_type": "display_data"
    }
   ],
   "source": [
    "#relationship between revenue and movie genres \n",
    "gr_list = df3['genres'].tolist()\n",
    "gr = [i.split(' ,') for i in gr_list]\n",
    "gr_l=Counter(chain.from_iterable(gr))\n",
    "print(Counter(chain.from_iterable(gr)))\n",
    "labels, values = zip(*gr_l.items())\n",
    "\n",
    "indexes = np.arange(len(labels))\n",
    "width = 1\n",
    "\n",
    "plt.bar(indexes, values, width, color='yellowgreen')\n",
    "plt.xticks(indexes + width * 0.5, labels, rotation='vertical')\n",
    "plt.title('Movie Genres associated with High Revenues')\n",
    "plt.xlabel('Movie Genre')\n",
    "plt.ylabel('Frequency')\n",
    "plt.show()"
   ]
  },
  {
   "cell_type": "code",
   "execution_count": 61,
   "metadata": {},
   "outputs": [
    {
     "name": "stdout",
     "output_type": "stream",
     "text": [
      "Counter({'Tom Hanks': 14, 'Matt Damon': 14, 'Mark Wahlberg': 14, 'Nicolas Cage': 13, 'Johnny Depp': 12, 'Tom Cruise': 12, 'George Clooney': 11, 'Vin Diesel': 10, 'Christian Bale': 10, 'Steve Carell': 10, 'Hugh Jackman': 10, 'Ben Affleck': 10, 'Jeff Bridges': 10, 'Robert Downey Jr.': 9, 'Daniel Craig': 9, 'Brad Pitt': 9, 'Russell Crowe': 9, 'Adam Sandler': 9, 'Sylvester Stallone': 9, 'Ryan Reynolds': 9, 'Joseph Gordon-Levitt': 9, 'Daniel Radcliffe': 8, 'Liam Neeson': 8, 'Leonardo DiCaprio': 8, 'Kristen Stewart': 8, 'Will Smith': 8, 'Bradley Cooper': 8, 'Keanu Reeves': 8, 'Bruce Willis': 8, 'Sean Connery': 8, 'Colin Farrell': 8, 'Jason Statham': 8, 'Jack Black': 7, 'Dwayne Johnson': 7, 'Arnold Schwarzenegger': 7, 'Pierce Brosnan': 7, 'James McAvoy': 7, 'Will Ferrell': 7, 'Roger Moore': 7, 'Kurt Russell': 7, 'Samuel L. Jackson': 7, 'Harrison Ford': 6, 'Sandra Bullock': 6, 'Shia LaBeouf': 6, 'Elijah Wood': 6, 'Mia Wasikowska': 6, 'Mike Myers': 6, 'Ewan McGregor': 6, 'Matthew McConaughey': 6, 'Ben Stiller': 6, 'Jesse Eisenberg': 6, 'Jim Carrey': 6, 'Owen Wilson': 6, 'Gerard Butler': 6, 'Seth Rogen': 6, 'Cameron Diaz': 6, 'Milla Jovovich': 6, 'Denzel Washington': 6, 'Jennifer Aniston': 6, 'Katherine Heigl': 6, 'Morgan Freeman': 6, 'Clive Owen': 6, 'Kristen Bell': 5, 'Jennifer Lawrence': 5, 'Angelina Jolie': 5, 'Paul Rudd': 5, 'Chris Hemsworth': 5, 'Kevin Spacey': 5, 'Michael Douglas': 5, 'Jake Gyllenhaal': 5, 'Cate Blanchett': 5, 'Meryl Streep': 5, 'Patrick Wilson': 5, 'Clint Eastwood': 5, 'Mickey Rourke': 5, 'Robin Williams': 5, 'Aaron Eckhart': 5, 'Peter Sallis': 5, 'Keira Knightley': 5, 'Anne Hathaway': 5, 'Ryan Gosling': 5, 'Charlize Theron': 5, 'Sam Worthington': 4, 'Kate Winslet': 4, 'Tobey Maguire': 4, 'John Cusack': 4, 'Chris Evans': 4, 'Jay Baruchel': 4, 'Dennis Quaid': 4, 'James Franco': 4, 'Jamie Foxx': 4, 'Brendan Fraser': 4, 'Michael J. Fox': 4, 'Tom Hardy': 4, 'Nicole Kidman': 4, 'Julia Roberts': 4, 'Robert De Niro': 4, 'Bill Murray': 4, 'Ellen Page': 4, 'Jessica Alba': 4, 'Channing Tatum': 4, 'Jodie Foster': 4, 'Naomi Watts': 4, 'Wesley Snipes': 4, 'Halle Berry': 4, 'Kate Beckinsale': 4, 'Helen Mirren': 4, 'Sean Penn': 4, 'Edward Norton': 4, 'Rachel Weisz': 4, 'Emily Browning': 4, 'Luke Wilson': 4, 'Diane Lane': 4, 'Hilary Duff': 4, 'Hilary Swank': 4, 'Jason Bateman': 4, 'Trey Parker': 4, 'Julianne Moore': 4, 'Evan Rachel Wood': 4, 'Michael Fassbender': 4, 'Alec Baldwin': 4, 'Kevin Conroy': 4, 'Mark Hamill': 3, 'Tommy Lee Jones': 3, 'Neil Patrick Harris': 3, 'Scott Weinger': 3, 'John C. Reilly': 3, 'Colin Firth': 3, 'Jason Lee': 3, 'Natalie Portman': 3, 'John Travolta': 3, 'Shailene Woodley': 3, 'Kristen Wiig': 3, 'Jeremy Renner': 3, 'Hugh Grant': 3, 'Bill Nighy': 3, 'Sharlto Copley': 3, 'Katie Featherston': 3, 'Jonah Hill': 3, 'Asa Butterfield': 3, 'Kevin James': 3, 'Uma Thurman': 3, 'Miles Teller': 3, 'Dane Cook': 3, 'Jessica Chastain': 3, 'Tobin Bell': 3, 'Al Pacino': 3, 'Kate Hudson': 3, 'Lindsay Lohan': 3, 'Dakota Fanning': 3, 'Guy Pearce': 3, 'Adrien Brody': 3, 'Rachel McAdams': 3, 'Robert Pattinson': 3, 'Paul Giamatti': 3, 'Kodi Smit-McPhee': 3, 'Eddie Murphy': 3, 'Emile Hirsch': 3, 'Kirsten Dunst': 3, 'Simon Pegg': 3, 'Jennifer Lopez': 3, 'Billy Bob Thornton': 3, 'Olivia Wilde': 3, 'Saoirse Ronan': 3, 'Jude Law': 3, 'Jennifer Garner': 3, 'Emily Blunt': 3, 'Ethan Hawke': 3, 'Mae Whitman': 3, 'Hayden Panettiere': 3, 'Sarah Michelle Gellar': 3, 'Michael Moore': 3, 'Danny Trejo': 3, 'Anton Yelchin': 3, 'Gwyneth Paltrow': 3, 'Ryan Kwanten': 3, 'Susan Sarandon': 3, 'John Cena': 3, 'Charlotte Gainsbourg': 3, 'Eric Bana': 3, 'Riz Ahmed': 3, 'Michael Shannon': 3, 'Steve Coogan': 3, 'Leighton Meester': 3, 'George Carlin': 3, 'Chris Pratt': 2, 'Ian McKellen': 2, 'Martin Freeman': 2, 'Paul Walker': 2, 'Jonathan Taylor Thomas': 2, 'Andrew Garfield': 2, 'Ray Romano': 2, 'Zachary Levi': 2, 'John Goodman': 2, 'Aaron Taylor-Johnson': 2, 'Andy Serkis': 2, 'Scarlett Johansson': 2, 'Sarah Jessica Parker': 2, 'Idris Elba': 2, \"Dylan O'Brien\": 2, 'Patrick Dempsey': 2, 'Sam Rockwell': 2, 'Sacha Baron Cohen': 2, 'Tim Allen': 2, 'Marlon Brando': 2, 'Jason Biggs': 2, 'Hayden Christensen': 2, 'Jason Segel': 2, 'Britt Robertson': 2, 'Vince Vaughn': 2, 'Nicholas Hoult': 2, 'Timothy Dalton': 2, 'Mila Kunis': 2, 'Russell Brand': 2, 'Jack Nicholson': 2, 'Logan Lerman': 2, 'Justin Timberlake': 2, 'Richard Gere': 2, 'Amy Adams': 2, 'Emma Bell': 2, 'Alex Pettyfer': 2, 'Antonio Banderas': 2, 'Madonna': 2, 'Michael B. Jordan': 2, 'Josh Hutcherson': 2, 'Zac Efron': 2, 'Emma Stone': 2, 'James Marsden': 2, 'Patrick Stewart': 2, 'Tina Fey': 2, 'Marlon Wayans': 2, 'Greg Kinnear': 2, 'David Arquette': 2, 'Anthony Hopkins': 2, 'Amanda Seyfried': 2, 'Mark Ruffalo': 2, 'Martin Sheen': 2, 'Matthew Broderick': 2, 'Paul Bettany': 2, 'Steve Martin': 2, 'Donald Pleasence': 2, 'Jim Sturgess': 2, 'Dustin Hoffman': 2, 'Camilla Belle': 2, 'Freddie Highmore': 2, 'Andy Samberg': 2, 'Adam Scott': 2, 'Zoe Saldana': 2, 'William H. Macy': 2, 'Thomas Jane': 2, 'Charlie Sheen': 2, 'Shannyn Sossamon': 2, 'Reese Witherspoon': 2, 'Michael Cera': 2, 'Joaquin Phoenix': 2, 'Blake Lively': 2, 'Jon Favreau': 2, 'Drew Barrymore': 2, 'Mandy Moore': 2, 'Ice Cube': 2, 'Jon Hamm': 2, 'Mel Brooks': 2, 'Don Cheadle': 2, 'Katie Holmes': 2, 'Ashton Kutcher': 2, 'Brie Larson': 2, 'Michelle Williams': 2, 'Casey Affleck': 2, 'Josh Brolin': 2, 'RenÃ©e Zellweger': 2, 'Frankie Muniz': 2, 'Paul Dano': 2, 'Carey Mulligan': 2, 'Ben Foster': 2, 'Brendan Gleeson': 2, 'Cuba Gooding Jr.': 2, 'Sid Haig': 2, 'Brittany Snow': 2, 'Alan Cumming': 2, 'Angus Scrimm': 2, 'Jeremy Irons': 2, 'James Woods': 2, 'Sara Paxton': 2, 'Ray Stevenson': 2, 'Eva Longoria': 2, 'Rainn Wilson': 2, 'Danielle Panabaker': 2, 'Ralph Fiennes': 2, 'Werner Herzog': 2, 'Alexis Bledel': 2, 'Glenn Close': 2, 'Abbie Cornish': 2, 'Matt Bomer': 2, 'Ben Kingsley': 2, 'Lyndsy Fonseca': 2, 'Kevin Kline': 2, 'Sean Bean': 2, 'Zooey Deschanel': 2, 'Kaya Scodelario': 2, 'Juno Temple': 2, 'Danielle Harris': 2, 'Carla Gugino': 2, 'Selena Gomez': 2, 'Stephen Dorff': 2, 'Bill Oberst Jr.': 2, 'Anna Paquin': 2, 'Sienna Miller': 2, 'Amber Heard': 2, 'Benicio del Toro': 2, 'Noah Wyle': 2, 'Jeff Daniels': 2, 'Tony Goldwyn': 2, 'Jessica Lowndes': 2, 'Vinnie Jones': 2, 'ZoÃ« Bell': 2, 'Tara Strong': 2, 'Ian Ziering': 2, 'Danny Dyer': 2, 'Adrian Pasdar': 2, 'Christopher McDonald': 2, 'Sam Neill': 1, 'John Leguizamo': 1, 'Albert Brooks': 1, 'Amy Poehler': 1, 'Henry Thomas': 1, 'Ed Asner': 1, 'Henry Cavill': 1, 'Scott Adsit': 1, 'Craig T. Nelson': 1, 'Patton Oswalt': 1, 'Jim Caviezel': 1, 'Suraj Sharma': 1, 'Dakota Johnson': 1, 'Larry the Cable Guy': 1, 'Kelly Macdonald': 1, 'Dan Castellaneta': 1, 'Ben Burtt': 1, 'Megan Fox': 1, 'Macaulay Culkin': 1, 'Roy Scheider': 1, 'Will Arnett': 1, 'Linda Blair': 1, 'Taron Egerton': 1, 'Noomi Rapace': 1, 'Garrett Hedlund': 1, 'Dev Patel': 1, \"Paige O'Hara\": 1, 'Jamie Bell': 1, 'Jim Parsons': 1, 'Jaden Smith': 1, 'Sullivan Stapleton': 1, 'Raymond Ochoa': 1, 'Gary Oldman': 1, 'Noah Ringer': 1, 'Zach Braff': 1, 'Tom Kenny': 1, 'Chris Pine': 1, 'Jerry Seinfeld': 1, 'Taylor Kitsch': 1, 'Anika Noni Rose': 1, 'Joel Courtney': 1, 'Annabelle Wallis': 1, 'Ed Speleers': 1, 'Heather Donahue': 1, 'Noah Schnapp': 1, 'Bill Hader': 1, 'Joel Kinnaman': 1, 'Melissa McCarthy': 1, 'Benedict Cumberbatch': 1, 'Michael Jordan': 1, \"Chris O'Donnell\": 1, 'Eminem': 1, 'Jennifer Grey': 1, 'Zach Galifianakis': 1, 'Orlando Bloom': 1, 'Jason Clarke': 1, \"O'Shea Jackson Jr.\": 1, 'Dan Aykroyd': 1, 'Martin Lawrence': 1, 'Ray Winstone': 1, 'Bobby Campo': 1, 'Heath Ledger': 1, 'Tom Hiddleston': 1, 'Sanaa Lathan': 1, 'Lizzy Caplan': 1, \"Jack O'Connell\": 1, 'Zhang Ziyi': 1, 'Rowan Atkinson': 1, 'Rick Malambri': 1, 'Lucas Black': 1, 'Miley Cyrus': 1, 'James Cromwell': 1, 'John Belushi': 1, 'Emily Barclay': 1, 'Claire Danes': 1, 'Edgar RamÃ\\xadrez': 1, 'Jean Dujardin': 1, 'Ben Whishaw': 1, 'Jackie Chan': 1, 'Charlie Rowe': 1, 'Damian Lewis': 1, 'Liev Schreiber': 1, 'Jackie Earle Haley': 1, 'Anna Kendrick': 1, 'Tim Curry': 1, 'Johnny Knoxville': 1, 'Ioan Gruffudd': 1, 'Isla Fisher': 1, 'Sigourney Weaver': 1, 'Dermot Mulroney': 1, 'Randy Quaid': 1, 'Sarah Polley': 1, 'Fernanda Andrade': 1, 'Jensen Ackles': 1, 'Max Records': 1, 'Timothy Olyphant': 1, 'Ron Perlman': 1, 'Olivia DeJonge': 1, 'Justin Bieber': 1, 'Radha Mitchell': 1, 'Jane Levy': 1, 'Jeff Goldblum': 1, 'Emma Thompson': 1, 'Catherine Zeta-Jones': 1, 'Derek Mears': 1, 'Alison Lohman': 1, 'Lily Collins': 1, 'Cher': 1, 'Simon Bird': 1, 'Michael Angarano': 1, 'Ryan Guzman': 1, 'Sean Maguire': 1, 'Portia Doubleday': 1, 'Elisabeth Shue': 1, 'ChloÃ« Grace Moretz': 1, 'Liv Tyler': 1, 'Rupert Friend': 1, 'Gaspard Ulliel': 1, 'Taylor Lautner': 1, 'George Lazenby': 1, 'Charlie Tahan': 1, 'Roselyn SÃ¡nchez': 1, 'Jay Hernandez': 1, 'Chris Riggi': 1, 'Malcolm McDowell': 1, 'Steven Seagal': 1, 'Alex D. Linz': 1, 'Burt Reynolds': 1, 'Virginia Madsen': 1, 'Roger Allam': 1, 'Parminder Nagra': 1, 'Josh Hartnett': 1, 'BeyoncÃ© Knowles': 1, 'Khalid Abdalla': 1, 'Ed Skrein': 1, 'Zachary Gordon': 1, 'Anna Faris': 1, 'Aamir Khan': 1, 'Aaron Stanford': 1, 'Diane Keaton': 1, 'Chris Brown': 1, 'Ken Watanabe': 1, 'Thomas Kretschmann': 1, 'Priscilla C. Shirer': 1, 'Ashley Bell': 1, 'Emily Deschanel': 1, 'Eric Balfour': 1, 'Kristen Connolly': 1, 'Jason David Frank': 1, 'Gabourey Sidibe': 1, 'Kenny Wormald': 1, 'Rooney Mara': 1, 'Stephen Rea': 1, 'Rain': 1, 'Justin Fletcher': 1, 'Mark Addy': 1, 'Carter Jenkins': 1, 'Thomas Horn': 1, 'Sean Hayes': 1, 'David Strathairn': 1, 'Jane Fonda': 1, 'Jet Li': 1, 'Bryan Cranston': 1, 'Alice Eve': 1, 'Judi Dench': 1, 'Philip Seymour Hoffman': 1, 'Jason Momoa': 1, 'AnnaSophia Robb': 1, 'Hrithik Roshan': 1, 'Al Gore': 1, 'Tom Welling': 1, 'John Cho': 1, 'Jamal Woolard': 1, 'Cassidy Gifford': 1, 'Steven Pasquale': 1, 'Sean Faris': 1, 'Jada Pinkett Smith': 1, 'Maggie Smith': 1, 'Dan Fogler': 1, 'Laurence Olivier': 1, 'Karl Urban': 1, 'Minka Kelly': 1, 'Anya Taylor-Joy': 1, 'Perdita Weeks': 1, 'Scout Taylor-Compton': 1, 'Gabriel Macht': 1, 'Seth Green': 1, 'Johanna Braddy': 1, 'Konstantin Khabenskiy': 1, 'Paula Patton': 1, 'Kiefer Sutherland': 1, 'Kimberly Elise': 1, 'Domhnall Gleeson': 1, 'Tom Sturridge': 1, 'Alex Kendrick': 1, 'Andy Lau': 1, 'Chris Messina': 1, 'Kirk Cameron': 1, 'Gina Carano': 1, 'Chris Cooper': 1, 'Katy Perry': 1, 'Jonny Weston': 1, 'Chiwetel Ejiofor': 1, 'Anthony Rapp': 1, 'Method Man': 1, 'Mickey Rooney': 1, 'Kevin Sorbo': 1, 'Dan Green': 1, 'Timothy Bottoms': 1, 'Miriam Margolyes': 1, 'Mary Elizabeth Winstead': 1, 'Viggo Mortensen': 1, 'Janet Jackson': 1, \"Chris O'Neil\": 1, 'Jake T. Austin': 1, 'Danny McBride': 1, 'Mark Strong': 1, 'Ryan Robbins': 1, 'Jamie Lee Curtis': 1, 'Omar Metwally': 1, 'Jeffrey Dean Morgan': 1, 'Stephen Baldwin': 1, 'Kate del Castillo': 1, 'Emma Roberts': 1, 'Jamel Debbouze': 1, 'Charlotte Rampling': 1, 'Adrienne Barbeau': 1, 'Keith Gordon': 1, 'LL Cool J': 1, 'QuvenzhanÃ© Wallis': 1, 'Chi Cao': 1, 'Glen Hansard': 1, 'Nia Vardalos': 1, 'Vera Farmiga': 1, 'Geoffrey Rush': 1, 'Keke Palmer': 1, 'Josh Zuckerman': 1, 'Robert Redford': 1, \"Nicholas D'Agosto\": 1, 'Jesse McCartney': 1, 'Shameik Moore': 1, 'Ryan Phillippe': 1, 'Molly Ringwald': 1, 'Meg Ryan': 1, 'William Petersen': 1, 'Bill Paxton': 1, 'Caitlin Stasey': 1, 'Tye Sheridan': 1, 'Regina Advento': 1, 'Jim Cummings': 1, 'Sally Field': 1, 'Fred Ward': 1, 'Chevy Chase': 1, 'Matt Lanter': 1, 'Natasha Henstridge': 1, 'Jonathan Cherry': 1, 'Chris Rock': 1, 'Samuel Anderson': 1, 'Felicity Huffman': 1, 'Matthew Goode': 1, 'Roddy Piper': 1, 'Oscar Isaac': 1, 'Barry Pepper': 1, 'Marcello Mastroianni': 1, 'Kate Bosworth': 1, 'Sean Patrick Flanery': 1, 'Sarah Drew': 1, 'James Blackwell': 1, 'Aimee Teegarden': 1, 'Presley Chweneyagae': 1, 'John Jarratt': 1, 'Ashley Greene': 1, 'David Belle': 1, 'Frances Conroy': 1, 'Josh Stewart': 1, 'John Cleese': 1, 'Jon Voight': 1, 'Tony Jaa': 1, 'Amy Winehouse': 1, 'Ayrton Senna': 1, 'Thomas Turgoose': 1, 'Julia Dietze': 1, 'James Purefoy': 1, 'Tupac Shakur': 1, 'Ben Stein': 1, 'James Le Gros': 1, 'David Duchovny': 1, 'Forest Whitaker': 1, 'Rick D. Wasserman': 1, 'Topher Grace': 1, 'Neil Dudgeon': 1, 'Anne Heche': 1, 'Essie Davis': 1, 'Bruce Greenwood': 1, 'Keir Gilchrist': 1, 'Seann William Scott': 1, 'Will Forte': 1, 'Kal Penn': 1, 'Heike Makatsch': 1, 'Marc Worden': 1, 'David Boreanaz': 1, 'Susan Ward': 1, 'Vanessa Hudgens': 1, 'Michelle Monaghan': 1, 'Graham Chapman': 1, 'Nathan Meister': 1, 'Banksy': 1, 'Brandon Routh': 1, 'Taylor Schilling': 1, 'Javier Bardem': 1, 'Jane Akre': 1, 'Whitney Able': 1, 'Alan Rickman': 1, 'James Cagney': 1, 'Nick Frost': 1, 'Jason Flemyng': 1, 'Clifton Collins, Jr.': 1, 'Catinca Untaru': 1, 'Aubrey Plaza': 1, 'Elizabeth Olsen': 1, 'Ali Suliman': 1, 'Matthew Fox': 1, 'Frank Langella': 1, 'Sean Gullette': 1, 'Mark Duplass': 1, \"Brian O'Halloran\": 1, 'Rashida Jones': 1, 'Melanie Lynskey': 1, 'Megan Faccio': 1, 'Luke Kirby': 1, 'Lake Bell': 1, 'Philippe Petit': 1, 'Malala Yousafzai': 1, 'Rebecca Hall': 1, 'Jiro Ono': 1, 'Matt Dillon': 1, 'Piper Perabo': 1, 'Robert Duvall': 1, 'Kristanna Loken': 1, 'Brit Marling': 1, 'Aubrey Peeples': 1, 'Hugh Dancy': 1, 'Tracey Ullman': 1, 'Marie Avgeropoulos': 1, 'Madeline Carroll': 1, \"Juan 'Doc Restrepo\": 1, 'Bill Cunningham': 1, 'Sheri Moon Zombie': 1, 'Joe Chisholm': 1, 'John Lennon': 1, 'Andy McAvin': 1, 'Woody Harrelson': 1, 'John Malkovich': 1, 'LeBron James': 1, 'Gemma Arterton': 1, 'Craig Roberts': 1, 'Laura Dern': 1, 'Christoph Waltz': 1, 'Ally Sheedy': 1, 'Patricia Arquette': 1, 'Rutger Hauer': 1, 'Lee Fulkerson': 1, 'Jonathan Velasquez': 1, 'Sam Shepard': 1, 'Peter Berg': 1, 'Rory Culkin': 1, 'Brenton Thwaites': 1, 'Martijn Lakemeier': 1, 'Shane West': 1, 'Bob Belleville': 1, 'Gabe Nevins': 1, 'Tom Cullen': 1, 'Adam Butcher': 1, 'Billy Connolly': 1, 'Shane Carruth': 1, 'Aasif Mandvi': 1, 'Robbie Robertson': 1, 'Zana MarjanoviÄ‡': 1, 'Michael Jai White': 1, 'Janeane Garofalo': 1, 'Brian Keith Allen': 1, 'Macon Blair': 1, 'J.K. Simmons': 1, 'Greta Gerwig': 1, 'Cindy Baer': 1, 'Josh Radnor': 1, 'Jenna Dewan': 1, \"Oliver O'Grady\": 1, 'Vik Muniz': 1, 'Jeremy Irvine': 1, 'Jack Rebney': 1, 'Bruce Campbell': 1, 'Aml Ameen': 1, 'Jon Roberts': 1, 'Alan van Sprang': 1, 'Matthew Le Nevez': 1, 'Joel Murray': 1, 'Margot Robbie': 1, 'Vincent Gallo': 1, 'Leonor Varela': 1, 'Zoe Sloane': 1, 'Evan Glodell': 1, 'Calvin Lee Reeder': 1, 'Thomas F. Duffy': 1, 'Luke Evans': 1, 'Nicholas Braun': 1, 'FÃ©lix de Givry': 1, 'Michael Sheen': 1, 'Rosanna Arquette': 1, 'Asia Argento': 1, 'Samantha Morton': 1, 'Liya Kebede': 1, 'Krysten Ritter': 1, 'Willem Dafoe': 1, 'Analeigh Tipton': 1, 'Rachel Melvin': 1, 'David Hyde Pierce': 1, 'JosÃ©phine de la Baume': 1, 'Joshua Burge': 1, 'Carlos Santos': 1, 'Lucas Pittaway': 1, 'Muhammad Ali': 1, 'Stanley Tucci': 1, 'Joe Conti': 1, 'Salman Khan': 1, 'Bobby Hackney': 1, 'Matthew Macfadyen': 1, 'James Rolleston': 1, 'Jeremy Suarez': 1, \"Renee O'Connor\": 1, 'Michael Copon': 1, 'Olivia Munn': 1, 'Catherine Steadman': 1, 'Rachel Bilson': 1, 'Diana Glenn': 1, 'Doug Sweetland': 1, 'Peter Sarsgaard': 1, 'Maria Bello': 1, 'Jeremy Gardner': 1, 'Samantha Mathis': 1, 'Brian Austin Green': 1, 'Brandon Baker': 1, 'Valeria Bertuccelli': 1, 'David Hewlett': 1, 'Eva Mendes': 1, 'Tim Johnson': 1, 'Emma Watson': 1, 'AnnaLynne McCord': 1, 'Tara Flynn': 1, 'Debby Ryan': 1, 'Caleb Landry Jones': 1, 'Caity Lotz': 1, 'Romola Garai': 1, 'Alistair Abell': 1, 'Rachel Bernard': 1, 'Alan Arkin': 1, 'Adam Baldwin': 1, 'Bill Blakemore': 1, 'Joey King': 1, 'Jefferson Brown': 1, 'Ricci Harnett': 1, 'Chase Williamson': 1, 'LluÃ\\xads Homar': 1, 'Zack Ward': 1, 'Laura Bailey': 1, 'Fred Jaggi': 1, 'Lea Thompson': 1, 'Missy Peregrym': 1, 'Len Cariou': 1, 'Gavin Brown': 1, 'Dennis Coffey': 1, 'Jacob Zachar': 1, 'Mel Raido': 1, 'ClÃ©mence PoÃ©sy': 1, 'David Spade': 1, 'Abigail Hardingham': 1, 'Jed Brophy': 1, 'Rose McGowan': 1, 'Michael Pollan': 1, 'Maisie Williams': 1, 'Ana Golja': 1, 'Elliot Cowan': 1, 'Daniel MacPherson': 1, 'Gavin Andresen': 1, 'Thomas Stroppel': 1, 'Charisma Carpenter': 1, 'Kat Dennings': 1, 'Cristiano Ronaldo': 1, 'Famke Janssen': 1, 'Shohreh Aghdashloo': 1, 'Demi Lovato': 1, 'David Lee Smith': 1, 'Haley Joel Osment': 1, 'Carmen Electra': 1, 'Marshall Allman': 1, 'Selma Blair': 1, 'Julia Garner': 1, 'Blythe Auffarth': 1, 'Milo Cawthorne': 1, 'Georgia Groome': 1, 'Richard Coyle': 1, 'Katharine Isabelle': 1, 'Emily VanCamp': 1, 'Barbara Crampton': 1, 'Mark Webber': 1, 'Joseph Mawle': 1, 'Pierre-Marie Escourrou': 1, 'John Kahrs': 1, 'David Schofield': 1, 'Jim Henson': 1, 'Kyle MacLachlan': 1, 'Cindy Sampson': 1, 'Y.K. Kim': 1, 'Peter Weller': 1, 'Luke Mably': 1, 'Brian Narelle': 1, 'Melissa Joan Hart': 1, 'Thomas Mann': 1, 'Jaleel White': 1, 'Pamela Springsteen': 1, 'Werner SchÃ¼nemann': 1, 'Paul Logan': 1, 'Francis Ford Coppola': 1, 'Nicholas Downs': 1, 'Jeffrey Combs': 1, 'Naomie Harris': 1, 'Robert Forster': 1, 'Marc Donato': 1, 'Toni Collette': 1, 'Dylan Walsh': 1, 'Archie Panjabi': 1, 'Rumer Willis': 1, 'Lena Dunham': 1, 'Dolly Read': 1, 'Nigel Terry': 1, 'Amanda Fuller': 1, 'Keri Russell': 1, 'Chris Massoglia': 1, 'John Carpenter': 1, 'Luci Christian': 1, 'Claude Legault': 1, 'Christian Cooke': 1, 'Robert Plant': 1, 'Austin Stoker': 1, 'Seth MacFarlane': 1, 'Matthew Modine': 1, 'MiloÅ¡ BikoviÄ‡': 1, 'Duane Martin': 1, 'Bayar': 1, 'MyAnna Buring': 1, 'Colm Meaney': 1, 'Christopher Reeve': 1, 'Alyssa Milano': 1, 'Manuel Camacho': 1, 'Indiana Evans': 1, 'Summer Glau': 1, 'Evan McGuire': 1, 'David Sandberg': 1, 'Jennifer Love Hewitt': 1, 'Tony Fucile': 1, 'Nolan North': 1, 'Diana Kaarina': 1, 'Michael Laurino': 1, 'Kevin Hart': 1, 'Marc Velasco': 1, 'Natasha Loring': 1, 'Craig Hall': 1, 'Adam Brooks': 1, 'Michael McKiddy': 1, 'DJ Qualls': 1, 'Tom Hulce': 1, 'Arisara Thongborisut': 1, 'William Forsythe': 1, 'Josh Fox': 1, 'Casper Van Dien': 1, 'Christopher Meloni': 1, 'James Corden': 1, 'William Hurt': 1, 'Adrienne Pickering': 1, 'Mark Harmon': 1, 'Juliette Lewis': 1, 'Michael Jackson': 1, 'Kang-ho Song': 1, 'Rafael Amaya': 1, 'Michael J. Nelson': 1, 'Mikael Persbrandt': 1, 'Odette Annable': 1, 'Matthew Mercer': 1, 'Eva Birthistle': 1, 'Edmund Kingsley': 1, 'Bill Maher': 1, 'Vyacheslav Fetisov': 1, 'Sean Rogerson': 1, 'Joey Lauren Adams': 1, 'Danielle Dallacco': 1, 'Grumpy Cat': 1, 'David Morrissey': 1, 'Toby Jones': 1, 'Gabriel Byrne': 1, 'Nathan Fillion': 1, 'Leo Fafard': 1, 'Christian Howard': 1, 'Michael York': 1, 'Eugene Levy': 1, 'Desiree Hall': 1, 'Jason Sudeikis': 1, 'Alex Essoe': 1, 'James D. Rolfe': 1, 'Chris Wylde': 1, 'Kevin Durand': 1, 'Sol Heras': 1, 'Helen Hunt': 1, 'Joss Whedon': 1, 'Nolan Bushnell': 1, 'Lisa Kudrow': 1, 'Jenny McCarthy': 1, 'Joan Allen': 1, 'Michelle Fairley': 1, 'Alex Michaeletos': 1, 'Calista Flockhart': 1, 'Elizabeth Roberts': 1, 'Zoey Deutch': 1, 'Cam Gigandet': 1, 'Martha Higareda': 1, \"Chris O'Dowd\": 1, 'Richard Madden': 1, 'Ryan Ochoa': 1, 'Dennis Bateman': 1, 'Gry Bay': 1, 'Jodelle Ferland': 1, 'Kate Nauta': 1, 'Alexis DÃ\\xadaz de Villegas': 1, 'Cliff Curtis': 1, 'Jay Gallagher': 1, 'Michael Landes': 1, 'Joseph Cross': 1, 'Dougray Scott': 1, 'Ted Levine': 1, 'Kelly Sheridan': 1, 'Chandler Canterbury': 1, 'Scott Bakula': 1, 'Damon Gameau': 1, 'Dominic Cooper': 1, 'Katie Cassidy': 1, 'Hank Azaria': 1, 'Trent Reznor': 1, 'Tyler Perry': 1, 'Ben McKenzie': 1, 'Richard Dreyfuss': 1, 'Katherine Sigimund': 1, 'Ashley Judd': 1, 'Matthew Marsden': 1, 'Ross Lynch': 1, 'Scott Marlowe': 1, 'Laurence Fishburne': 1, 'Hailee Steinfeld': 1, 'Emmanuelle BÃ©art': 1, 'Mark Stanley': 1, 'Tara Reid': 1, 'Haley Lu Richardson': 1, 'Bruce Boxleitner': 1, 'Danielle Chuchran': 1, 'Michael J. Willett': 1, 'China Anne McClain': 1, 'Alesandra Durham': 1, 'AJ Michalka': 1, 'Emily Alyn Lind': 1, 'Richard Dawkins': 1, 'Don Henley': 1, 'Daisy Keeping': 1, 'Genevieve Bachman': 1, 'Marty Adams': 1, 'Joicie Appell': 1, 'Clancy Brown': 1, 'Devon Werkheiser': 1, 'Harry Styles': 1, 'Michael Howe': 1, 'BartÅ‚omiej Topa': 1, 'Ben Cross': 1, 'Ian Somerhalder': 1, 'Isaac C. Singleton Jr.': 1, 'Valentino Rossi': 1, 'William Shatner': 1, 'Lambert Wilson': 1, 'Joshua Jackson': 1, 'Talia Zucker': 1, \"Steve 'Lips' Kudlow\": 1, 'Marianna Palka': 1, 'Amy Acker': 1, 'Ian Brighthope': 1, 'Kevin Costner': 1, 'Robert Sapolsky': 1, 'Nick Swardson': 1, 'Gunner Wright': 1, 'Lady Gaga': 1, 'Artie Lange': 1, 'Denise Richards': 1, 'Josh Hamilton': 1, 'Charlie Creed-Miles': 1, 'Jonathan Bennett': 1, 'Mick Jagger': 1, 'Kel Mitchell': 1, 'Jared Kusnitz': 1, 'Lior Ashkenazi': 1, 'Aaron Abrams': 1, 'Johnny Pacar': 1, 'Anne Judson-Yager': 1, 'Gore Vidal': 1, 'Nigel Anthony': 1, 'Maeve Dermody': 1, 'Kurt Cobain': 1, 'Beau Mirchoff': 1, 'Dave Grohl': 1, 'Sterling Knight': 1, 'Amy Schumer': 1, 'Stephen McHattie': 1, 'Christopher Backus': 1, 'Sarah Thompson': 1, 'Jo Hartley': 1, 'Eihi Shiina': 1, 'Rob Lowe': 1, \"Paul O'Brien\": 1, 'Leon Cain': 1, 'Dominic Monaghan': 1, 'Kori Cioca': 1, 'Larry David': 1, 'Abigail Breslin': 1, 'Katheryn Winnick': 1, 'Charlee Danielson': 1, 'Jeremy Northam': 1, 'Sebastian Cabot': 1, 'Christina Ricci': 1, 'John Hurt': 1, 'Joe Cross': 1, 'Cillian Murphy': 1, 'Alysa King': 1, 'Christopher Lloyd': 1, 'Eric Lively': 1, 'Toby Kebbell': 1, 'Emma Caulfield': 1, 'Nisreen Faour': 1, 'Anita Briem': 1, 'Janette Armand': 1, 'Xavier Samuel': 1, 'Ben Mendelsohn': 1, \"Morgana O'Reilly\": 1, 'Kevin Bacon': 1, 'Eric Cantona': 1, 'J. Michael Trautmann': 1, 'Nas': 1, 'Mark Hapka': 1, 'Sophie Monk': 1, 'Stephen Merchant': 1, 'Donald Glover': 1, 'John Paul Tremblay': 1, 'David Jason': 1, 'French Stewart': 1, 'Patrick Fugit': 1, 'Josh Lucas': 1, 'Ray Wise': 1, 'Matt Bushell': 1, 'Kiele Sanchez': 1, 'Jim Jefferies': 1, 'Adele': 1, 'Val Kilmer': 1, 'David Tennant': 1, 'Darren Criss': 1, 'Daniel Sunjata': 1, 'Michael Clarke Duncan': 1, 'Joel David Moore': 1, 'David Attenborough': 1, 'Bel DeliÃ¡': 1, 'Hale Appleman': 1, 'James Badge Dale': 1})\n"
     ]
    }
   ],
   "source": [
    "#relationship between revenue and cast \n",
    "cast_list = df3['cast'].tolist()\n",
    "cast = [i.split(' ,')[0] for i in cast_list]\n",
    "\n",
    "print (Counter(cast))\n"
   ]
  },
  {
   "cell_type": "code",
   "execution_count": 74,
   "metadata": {},
   "outputs": [
    {
     "name": "stdout",
     "output_type": "stream",
     "text": [
      "Counter({'John Carpenter': 17, 'Steven Spielberg': 11, 'Steven Soderbergh': 11, 'Peter Jackson': 8, 'Ridley Scott': 8, 'Clint Eastwood': 8, 'Robert Zemeckis': 8, 'Christopher Nolan': 7, 'Ron Howard': 7, 'Martin Scorsese': 7, 'David Fincher': 7, 'Paul W.S. Anderson': 7, 'Michael Bay': 6, 'Francis Lawrence': 6, 'Quentin Tarantino': 6, 'Francis Ford Coppola': 6, 'James Wan': 5, 'Gore Verbinski': 5, 'Tim Burton': 5, 'Chris Columbus': 5, 'George Lucas': 5, 'Sam Raimi': 5, 'Zack Snyder': 5, 'Peter Berg': 5, 'Martin Campbell': 5, 'Marc Forster': 5, 'Guy Ritchie': 5, 'Darren Aronofsky': 5, 'Dennis Dugan': 5, 'Rob Reiner': 5, 'F. Gary Gray': 5, 'John Glen': 5, 'Guy Hamilton': 5, 'Brian Robbins': 5, 'Rob Zombie': 5, 'Kevin Smith': 5, 'James Cameron': 4, 'David Yates': 4, 'Mike Newell': 4, 'Justin Lin': 4, 'Jon Favreau': 4, 'Phil Lord,Christopher Miller': 4, 'Todd Phillips': 4, 'Paul Greengrass': 4, 'James Mangold': 4, 'Shawn Levy': 4, 'Guillermo del Toro': 4, 'Doug Liman': 4, 'Bobby Farrelly,Peter Farrelly': 4, 'Gavin Hood': 4, 'Gus Van Sant': 4, 'Judd Apatow': 4, 'Baltasar KormÃ¡kur': 4, 'Mikael HÃ¥fstrÃ¶m': 4, 'Adam Shankman': 4, 'Jason Friedberg,Aaron Seltzer': 4, 'Alex Kendrick': 4, 'David Cronenberg': 4, 'Michael Winterbottom': 4, 'Uwe Boll': 4, 'Barry Levinson': 4, 'Don Coscarelli': 4, 'Nick Park': 4, 'J.J. Abrams': 3, 'Sam Mendes': 3, 'Rob Marshall': 3, 'Roland Emmerich': 3, 'Marc Webb': 3, 'Bryan Singer': 3, 'Bill Condon': 3, 'David Slade': 3, 'Brad Bird': 3, 'Carlos Saldanha': 3, 'Barry Sonnenfeld': 3, 'Raja Gosnell': 3, 'Peyton Reed': 3, 'Jay Roach': 3, 'Jonathan Liebesman': 3, 'Brad Peyton': 3, 'Jon Turteltaub': 3, 'William Friedkin': 3, 'Stephen Sommers': 3, 'Matthew Vaughn': 3, 'Catherine Hardwicke': 3, 'McG': 3, 'Tim Hill': 3, 'Harald Zwart': 3, 'M. Night Shyamalan': 3, 'Simon West': 3, 'John Moore': 3, 'Tony Gilroy': 3, 'Sylvester Stallone': 3, 'Larry Charles': 3, 'Walt Becker': 3, 'David O. Russell': 3, 'Sean Anders': 3, 'Ben Affleck': 3, 'Jason Reitman': 3, 'Michel Gondry': 3, 'Tarsem Singh': 3, 'Nancy Meyers': 3, 'Lewis Gilbert': 3, 'Robert Luketic': 3, 'Len Wiseman': 3, 'David R. Ellis': 3, 'Ken Kwapis': 3, 'Joe Carnahan': 3, 'Adam McKay': 3, 'Greg Mottola': 3, 'Jon M. Chu': 3, 'George Clooney': 3, 'Will Gluck': 3, 'Mark Neveldine,Brian Taylor': 3, 'D.J. Caruso': 3, 'Terence Young': 3, 'John Madden': 3, 'Oliver Stone': 3, 'Kathryn Bigelow': 3, 'James McTeigue': 3, 'Tom Tykwer': 3, 'Richard Linklater': 3, 'Mark Waters': 3, 'Joe Wright': 3, 'David Twohy': 3, 'Ruben Fleischer': 3, 'Nicholas Stoller': 3, 'Miguel Arteta': 3, 'Spike Jonze': 3, 'Paul Haggis': 3, 'John Singleton': 3, 'Lasse HallstrÃ¶m': 3, 'Dominic Sena': 3, 'Neil Jordan': 3, 'Peter Hedges': 3, 'John Erick Dowdle': 3, 'Jonathan Levine': 3, 'Trey Parker': 3, 'Rian Johnson': 3, 'Lee Toland Krieger': 3, 'Todd Haynes': 3, 'Craig Gillespie': 3, 'Michael Moore': 3, 'Woody Allen': 3, 'Ned Benson': 3, 'Christopher Ray': 3, 'Lauren Montgomery': 3, 'Joss Whedon': 2, 'Pierre Coffin,Chris Renaud': 2, 'James Gunn': 2, 'Mike Mitchell': 2, 'Alfonso CuarÃ³n': 2, 'Chris Weitz': 2, 'Gary Ross': 2, 'Christopher McQuarrie': 2, 'Ang Lee': 2, 'Sam Taylor-Johnson': 2, 'Irvin Kershner': 2, 'Alejandro GonzÃ¡lez IÃ±Ã¡rritu': 2, 'Gareth Edwards': 2, 'Andrew Stanton': 2, 'Ron Clements,John Musker': 2, 'Tom Shadyac': 2, 'Rupert Wyatt': 2, 'Alan Taylor': 2, 'Brian De Palma': 2, 'Kenneth Branagh': 2, 'Tom Hooper': 2, 'Joseph Kosinski': 2, 'George Miller': 2, 'Gary Trousdale,Kirk Wise': 2, 'Joe Johnston': 2, 'Roger Michell': 2, 'Wes Ball': 2, 'Alex Proyas': 2, 'Noam Murro': 2, 'Peter Sohn': 2, 'David Frankel': 2, 'Olivier Megaton': 2, 'Anne Fletcher': 2, 'Gabriele Muccino': 2, 'Robert Schwentke': 2, 'Ivan Reitman': 2, 'Phillip Noyce': 2, 'Neil Burger': 2, 'Paul Feig': 2, 'Frank Darabont': 2, 'John R. Leonetti': 2, 'Nora Ephron': 2, 'Richard Curtis': 2, 'Chuck Russell': 2, 'Jon Hurwitz,Hayden Schlossberg': 2, 'Louis Leterrier': 2, 'Mark Steven Johnson': 2, 'Jake Kasdan': 2, 'Curtis Hanson': 2, 'Michael Mann': 2, 'Peter Weir': 2, 'Peter Hyams': 2, 'Neill Blomkamp': 2, 'Patrick Hughes': 2, 'Henry Joost,Ariel Schulman': 2, 'Dean Parisot': 2, 'Lana Wachowski,Lilly Wachowski': 2, 'Alexander Payne': 2, 'John Hamburg': 2, 'Matt Reeves': 2, 'Peter Chelsom': 2, 'Angelina Jolie': 2, 'Glenn Ficarra,John Requa': 2, 'Brett Ratner': 2, 'Pete Travis': 2, 'Jonathan Frakes': 2, 'Russell Mulcahy': 2, 'Duncan Jones': 2, 'Martin Brest': 2, 'Mathieu Kassovitz': 2, 'Darren Lynn Bousman': 2, 'Ryan Coogler': 2, 'Boaz Yakin': 2, 'Kevin Greutert': 2, 'Andy Tennant': 2, 'Rob Minkoff': 2, 'Jonathan Mostow': 2, 'Henry Selick': 2, 'Simon Wells': 2, 'Denis Villeneuve': 2, 'Roman Polanski': 2, 'Nick Cassavetes': 2, 'Jason Moore': 2, 'Gary Winick': 2, 'Jay Chandrasekhar': 2, 'Bennett Miller': 2, 'David Gordon Green': 2, 'Randall Wallace': 2, 'Patrick Lussier': 2, 'Jonathan Dayton,Valerie Faris': 2, 'Charles Martin Smith': 2, 'Marcus Nispel': 2, 'Tom McCarthy': 2, 'Ben Palmer': 2, 'Kevin Macdonald': 2, 'Brad Furman': 2, 'David Dobkin': 2, 'Alexandre Aja': 2, 'Kimberly Peirce': 2, 'Peter Webber': 2, 'Eli Roth': 2, 'Edgar Wright': 2, 'Kirk Jones': 2, 'Scott Stewart': 2, 'Gurinder Chadha': 2, 'David Bowers': 2, 'Stuart Beattie': 2, 'Fred Wolf': 2, 'Mark Rosman': 2, 'Roger Kumble': 2, 'Brad Anderson': 2, 'Wes Anderson': 2, 'Colin Strause,Greg Strause': 2, 'David Gelb': 2, 'Craig Brewer': 2, 'Stephen Hopkins': 2, 'John Crowley': 2, 'Simon Curtis': 2, 'Michael Dougherty': 2, 'Joel Coen': 2, 'Sofia Coppola': 2, 'Lone Scherfig': 2, 'Iain Softley': 2, 'Jonathan Hensleigh': 2, 'Terrence Malick': 2, 'Stephen Herek': 2, 'John Hillcoat': 2, 'Pierre Morel': 2, 'Paul Thomas Anderson': 2, 'Sean McNamara': 2, 'Davis Guggenheim': 2, 'Paul McGuigan': 2, 'Daniel Barnz': 2, 'Nicholas Hytner': 2, 'Takashi Shimizu': 2, 'Andrew Dominik': 2, 'Julian Jarrold': 2, 'Tyler Perry': 2, 'John Wells': 2, 'Derek Cianfrance': 2, 'Lenny Abrahamson': 2, 'Richard Kelly': 2, 'Billy Ray': 2, 'David Schwimmer': 2, 'Martin McDonagh': 2, \"Gavin O'Connor\": 2, 'David Koepp': 2, 'Douglas McGrath': 2, 'Christian Alvart': 2, 'Robert Rodriguez': 2, 'David Wain': 2, 'Sacha Gervasi': 2, 'Patricia Riggen': 2, 'Elizabeth Allen Rosenbaum': 2, 'FranÃ§ois Ozon': 2, 'Mike Binder': 2, 'Renny Harlin': 2, 'Andrew Fleming': 2, 'J.C. Chandor': 2, 'Peter Howitt': 2, 'Allen Coulter': 2, 'Christopher B. Landon': 2, 'Nelson McCormick': 2, 'Justin Kurzel': 2, 'David Mackenzie': 2, 'Brian Koppelman,David Levien': 2, 'Troy Duffy': 2, 'Lars von Trier': 2, 'Joe Nussbaum': 2, 'Lexi Alexander': 2, 'John Curran': 2, 'Asif Kapadia': 2, 'Nathan Frankowski': 2, 'Sam Liu': 2, 'Michael Dowse': 2, 'Brandon Vietti': 2, 'Werner Herzog': 2, 'Jay Oliva': 2, 'William Dear': 2, 'Drake Doremus': 2, 'RyÃ»hei Kitamura': 2, 'Lynn Shelton': 2, 'Jeff Nichols': 2, 'Adam Green': 2, 'Susanne Bier': 2, 'Oren Moverman': 2, 'Terry Gilliam': 2, 'Morgan Spurlock': 2, 'William Eubank': 2, 'Alex Gibney': 2, 'Julian Farino': 2, 'Bobcat Goldthwait': 2, 'Christopher Smith': 2, 'Amy Berg': 2, 'Sebastian Gutierrez': 2, 'Anthony C. Ferrante': 2, 'Sam Liu,Lauren Montgomery': 2, 'Tim McCanlies': 2, 'Mark Atkins': 2, 'William Lau': 2, 'Jaume BalaguerÃ³': 2, 'Rocco Urbisci': 2, 'Kenny Ortega': 2, 'Craig Moss': 2, 'Vincenzo Natali': 2, 'Patricia Rozema': 2, 'Damon Santostefano': 2, 'Richard Schenkman': 2, 'George Gallo': 2, 'Bradley Raymond': 2, 'Michael Hoffman': 2, 'Colin Trevorrow': 1, 'Chris Buck,Jennifer Lee': 1, 'Shane Black': 1, 'Kyle Balda,Pierre Coffin': 1, 'Lee Unkrich': 1, 'Andrew Adamson,Kelly Asbury,Conrad Vernon': 1, 'Steve Martino,Mike Thurmeier': 1, 'Andrew Stanton,Lee Unkrich': 1, 'Pete Docter': 1, 'Chris Miller,Raman Hui': 1, 'Roger Allers,Rob Minkoff': 1, 'Robert Stromberg': 1, 'Bob Peterson,Pete Docter': 1, 'Joe Russo,Anthony Russo': 1, 'Jennifer Yuh': 1, 'Don Hall,Chris Williams': 1, 'Mark Osborne,John Stevenson': 1, 'Brad Bird,Jan Pinkava': 1, 'Mel Gibson': 1, 'Dean DeBlois': 1, 'Eric Darnell,Tom McGrath': 1, 'Nathan Greno,Byron Howard': 1, 'Kirk De Micco,Chris Sanders': 1, 'Richard Marquand': 1, 'Lee Unkrich,David Silverman,Pete Docter': 1, 'John Lasseter,Brad Lewis': 1, 'Seth MacFarlane': 1, 'John Woo': 1, 'Mark Andrews,Steve Purcell,Brenda Chapman': 1, 'David Silverman': 1, 'Dean DeBlois,Chris Sanders': 1, 'John Lasseter,Lee Unkrich,Ash Brannon': 1, 'Andrew Adamson,Vicky Jenson': 1, 'Rich Moore': 1, 'Lilly Wachowski,Lana Wachowski': 1, 'Luc Besson': 1, 'John Lasseter,Joe Ranft': 1, 'Betty Thomas': 1, 'Michael Patrick King': 1, 'Rupert Sanders': 1, 'Chris Wedge,Carlos Saldanha': 1, 'Rob Letterman,Conrad Vernon': 1, 'Danny Boyle,Loveleen Tandan': 1, 'Tim Johnson': 1, 'John Lasseter,Andrew Stanton': 1, 'John Lasseter': 1, 'Michael Apted': 1, 'Genndy Tartakovsky': 1, 'Paul Verhoeven': 1, 'Kevin Lima': 1, 'Roger Spottiswoode': 1, 'Tom McGrath': 1, 'Mark Dindal': 1, 'Paul Tibbitt': 1, 'Paul Weitz': 1, 'Chris Williams,Byron Howard': 1, 'John Lee Hancock': 1, 'Peter Ramsey': 1, 'Hoyt Yeatman': 1, 'Steve Hickner,Simon J. Smith': 1, 'David Soren': 1, 'Florian Henckel von Donnersmarck': 1, 'Paul King': 1, 'Timur Bekmambetov': 1, 'Ethan Coen,Joel Coen': 1, 'Stefen Fangmeier': 1, 'Daniel Myrick,Eduardo SÃ¡nchez': 1, 'Steve Martino': 1, 'JosÃ© Padilha': 1, 'Morten Tyldum': 1, 'Peter Segal': 1, 'Joe Pytka': 1, 'Tommy Wirkola': 1, 'Garry Marshall': 1, 'Emile Ardolino': 1, 'Jon Amiel': 1, 'Daniel Espinosa': 1, 'Ryan Murphy': 1, 'Eric Brevig': 1, 'Roger Allers,Jill Culton,Anthony Stacchi': 1, 'Oren Peli': 1, 'Steve Box,Nick Park': 1, 'Kelly Asbury': 1, 'Ben Stiller': 1, 'Spike Lee': 1, 'Steve Carr': 1, 'Wolfgang Petersen': 1, 'Juan Antonio Bayona': 1, 'Tod Williams': 1, 'Thor Freudenthal': 1, 'Andrew Niccol': 1, 'Peter Billingsley': 1, 'Frank Coraci': 1, 'Josh Trank': 1, 'James Bobin': 1, 'Sydney Pollack': 1, 'Stanley Kubrick': 1, 'Oliver Parker': 1, 'Marco Brambilla': 1, 'Robert Rodriguez,Frank Miller,Quentin Tarantino': 1, 'Steven Quale': 1, 'Roberts Gannaway': 1, 'Rob Letterman': 1, 'Tony Scott': 1, 'Ash Brannon,Chris Buck': 1, 'Andy Fickman': 1, 'Baz Luhrmann': 1, 'Andy Muschietti': 1, 'Alan Parker': 1, 'John Landis': 1, 'Breck Eisner': 1, 'GÃ¡bor CsupÃ³': 1, 'Burr Steers': 1, 'Ericson Core': 1, 'Michel Hazanavicius': 1, 'MÃ¥ns MÃ¥rlind,BjÃ¶rn Stein': 1, 'Stephen Norrington': 1, 'Jaume Collet-Serra': 1, 'Lilly Wachowski,Lana Wachowski,Tom Tykwer': 1, 'Anthony Russo,Joe Russo': 1, 'Chris Weitz,Paul Weitz': 1, 'David S. Goyer': 1, 'Anthony Minghella': 1, 'George Nolfi': 1, 'James Watkins': 1, 'Neil Nightingale,Barry Cook': 1, 'Seth Rogen,Evan Goldberg': 1, 'Phil Alden Robinson,Richard Loncraine,Mikael Salomon,David Nutter,Tom Hanks,David Leland,David Frankel,Tony To': 1, 'Taylor Hackford': 1, 'Tate Taylor': 1, 'Stephen Frears': 1, 'Cameron Crowe': 1, 'Mike Nichols': 1, 'Peter Lord,Jeff Newitt': 1, 'Tim Burton,Mike Johnson': 1, 'Seth Gordon': 1, 'Clark Johnson': 1, 'Samuel Bayer': 1, 'Phyllida Lloyd': 1, 'Alejandro Agresti': 1, 'Sergey Bodrov': 1, 'Jim Sharman': 1, 'Alastair Fothergill,Mark Linfield': 1, 'Alister Grierson': 1, 'P.J. Hogan': 1, 'Sam Fell,Chris Butler': 1, 'Greg Berlanti': 1, 'Jorge Blanco,Javier Abad,Marcos MartÃ\\xadnez': 1, 'Leigh Whannell': 1, 'Will Finn,John Sanford': 1, 'Edward Zwick': 1, 'William Brent Bell': 1, 'Keenen Ivory Wayans': 1, 'Xavier Gens': 1, 'Christophe Gans': 1, 'Mark Osborne': 1, 'Fede Alvarez': 1, 'Wes Craven': 1, 'Nigel Cole': 1, 'Antoine Fuqua': 1, 'Stephen Gaghan': 1, 'Lawrence Guterman': 1, 'Susanna White': 1, 'Scott Hicks': 1, 'Steve Antin': 1, 'Trish Sie': 1, 'George C. Wolfe': 1, 'John Whitesell': 1, 'Bryan Bertino': 1, 'Aleksander Bach': 1, 'Peter R. Hunt': 1, 'Mike McCoy,Scott Waugh': 1, 'Jared Hess': 1, 'Andrzej Bartkowiak': 1, 'John Badham': 1, 'Chad Stahelski,David Leitch': 1, 'Andrew Davis': 1, 'Hal Needham': 1, 'Tom Dey': 1, 'Joel Schumacher': 1, 'Peter Cornwell': 1, 'Alan Poul': 1, 'Brian Percival': 1, 'Terry Zwigoff': 1, 'Lawrence Kasdan': 1, 'Callan Brunker': 1, 'Steve Shill': 1, 'Camille Delamarre': 1, 'Rajkumar Hirani': 1, 'Michael Lehmann': 1, 'Zach Helm': 1, 'John Luessenhop': 1, 'Grant Heslov': 1, 'Fyodor Bondarchuk': 1, 'Daniel Stamm': 1, 'Stephen Kay': 1, 'Drew Goddard': 1, 'Kirsten Sheridan': 1, 'Bryan Spicer': 1, 'Chris Gorak': 1, 'Steve Pink': 1, 'David Bowers,Sam Fell': 1, 'Michael McCullers': 1, 'Kirk De Micco': 1, 'Lee Daniels': 1, 'Patty Jenkins': 1, 'Michael Tiddes': 1, 'Robert De Niro': 1, 'Luke Greenfield': 1, 'Mark Burton,Richard Starzack': 1, 'Brian Levant': 1, 'Mark Helfrich': 1, 'Joel Edgerton': 1, 'Kerry Conran': 1, 'John Schultz': 1, 'Rob Bowman': 1, 'David Moreau,Xavier Palud': 1, 'Sean Penn': 1, 'Adam Brooks': 1, 'Stephen Daldry': 1, 'John A. Davis': 1, 'Theodore Melfi': 1, 'Sam Miller': 1, 'Ciaran Foy': 1, 'James Bridges': 1, 'Michael Spierig,Peter Spierig': 1, 'Cory Edwards,Todd Edwards,Tony Leech': 1, 'Robert Stevenhagen,Sam Fell': 1, 'Anthony Hemingway': 1, 'Rob Cohen': 1, 'Josh Gordon,Will Speck': 1, 'Mike Figgis': 1, 'Jim Field Smith': 1, 'Richard Eyre': 1, 'James L. Brooks': 1, 'Peter Landesman': 1, 'MiloÅ¡ Forman': 1, 'Sanjay Gadhvi': 1, 'Asger Leth': 1, 'Rupert Wainwright': 1, 'Jim Jarmusch': 1, 'Jason Winer': 1, 'Dan Bradley': 1, 'Ari Sandel': 1, 'George Tillman, Jr.': 1, 'Brian Helgeland': 1, 'Travis Cluff,Chris Lofing': 1, 'Oxide Pang Chun,Danny Pang': 1, 'Olatunde Osunsanmi': 1, 'Nanette Burstein': 1, 'Marco Schnabel': 1, 'Jeff Wadlow': 1, 'Charles Guard,Thomas Guard': 1, 'Richard LaGravenese': 1, 'Ben Garant': 1, 'Desmond Davis': 1, 'Christian E. Christiansen': 1, 'Robert Eggers': 1, 'Phil Traill': 1, 'Frank Miller,Robert Rodriguez': 1, 'Anthony Bell,Ben Gluck': 1, 'Alejandro AmenÃ¡bar': 1, 'Frank Miller': 1, 'David E. Talbert': 1, 'Dan Gilroy': 1, 'Toby Wilkins': 1, 'Jim Sheridan': 1, 'Andrey Kravchuk': 1, 'Mel Brooks': 1, 'Gina Prince-Bythewood': 1, 'Terry George': 1, 'Salim Akil': 1, \"Steve 'Spaz' Williams\": 1, 'Troy Nixey': 1, 'Julie Anne Robinson': 1, 'Alex Garland': 1, 'Howard Deutch': 1, 'Tom Hanks': 1, 'Brandon Camp': 1, 'Don Siegel': 1, 'Joshua Michael Stern': 1, 'Todd Strauss-Schulson': 1, 'Cary Fukunaga': 1, 'Lisa Cholodenko': 1, 'Benny Chan': 1, 'Kent Alterman': 1, 'Stephen Chbosky': 1, 'Dan Cutforth,Jane Lipsitz': 1, 'Roger Donaldson': 1, 'Gregory Hoblit': 1, 'Dito Montiel': 1, 'Dean Israelite': 1, 'Stephen St. Leger,James Mather': 1, 'Harmony Korine': 1, 'Robert Rodriguez,Ethan Maniquis': 1, 'Jesse Dylan': 1, 'Akiva Goldsman': 1, 'Mark Mylod': 1, 'Anand Tucker': 1, 'Jim Sonzero': 1, 'Ted Berman,Art Stevens,Richard Rich': 1, 'Harold Cronk': 1, 'Luis Mandoki': 1, 'Hatsuki Tsuji': 1, 'Peter Bogdanovich': 1, 'Jonas Elmer': 1, 'Kevin Allen': 1, 'Bill Pohlad': 1, 'Matthijs van Heijningen Jr.': 1, 'Jean-Marc VallÃ©e': 1, 'Robert Shaye': 1, 'Anthony Silverston': 1, 'Michael Davis': 1, 'Gonzalo LÃ³pez-Gallego': 1, 'Rick Rosenthal': 1, 'Niki Caro': 1, 'Jessie Nelson': 1, 'Tony Kaye': 1, 'Sylvain White': 1, 'Jeffrey Nachmanoff': 1, 'Rachid Bouchareb': 1, 'Benh Zeitlin': 1, 'Bruce Beresford': 1, 'John Carney': 1, 'Shana Feste': 1, 'Donald Petrie': 1, 'Mark Herman': 1, 'Allen Hughes': 1, 'Vic Armstrong': 1, 'John Michael McDonagh': 1, 'Jacques Perrin,Jacques Cluzaud': 1, 'Giuseppe Tornatore': 1, 'Rodrigo CortÃ©s': 1, 'Doug Atchison': 1, 'Wayne Wang': 1, 'Miguel Sapochnik': 1, 'Jocelyn Moorhouse': 1, 'Fred Savage': 1, 'Bradley Parker': 1, 'Rick Famuyiwa': 1, 'Gil Kenan': 1, 'John G. Avildsen': 1, 'Jon Kasdan': 1, 'Jesse Peretz': 1, 'Susannah Grant': 1, 'Russell Crowe': 1, 'Robert Redford': 1, 'Joe Roth': 1, 'Wim Wenders': 1, 'Stephen Anderson,Don Hall': 1, 'Michael Showalter': 1, 'David Palmer,Dax Shepard': 1, 'Ilya Naishuller': 1, 'Damien Chazelle': 1, 'Debra Granik': 1, 'Gary Rydstrom': 1, 'Mike Disa': 1, 'Liam Lynch': 1, 'Duncan Tucker': 1, 'Uli Edel': 1, 'Brian Klugman,Lee Sternthal': 1, 'James Ivory': 1, 'Jennifer Westfeldt': 1, 'Chan-wook Park': 1, 'Leslye Headland': 1, 'Matt Brown': 1, 'Robert Altman': 1, 'Sngmoo Lee': 1, 'Mike Judge': 1, 'Jimmy Hayward': 1, 'Andrew Erwin,Jon Erwin': 1, 'Rod Lurie': 1, 'Greg McLean': 1, 'Todd Lincoln ': 1, 'Dean Wright': 1, 'Chris Sivertson': 1, 'Wayne Kramer': 1, 'Mark Romanek': 1, 'Steven Zaillian': 1, 'Marcus Dunstan': 1, 'Fred Schepisi,Robert Young': 1, 'Bob Clark': 1, 'Yorgos Lanthimos': 1, 'Tony Jaa,Panna Rittikrai': 1, 'Walter Salles': 1, 'Peter Cattaneo': 1, 'John Gulager': 1, 'Richard J. Lewis': 1, 'Steven Knight': 1, 'Shane Meadows': 1, 'Timo Vuorensola': 1, 'Michael Haneke': 1, 'Charles Ferguson': 1, 'Michael J. Bassett': 1, 'Lauren Lazin': 1, 'David Lickley': 1, 'Massy Tadjedin': 1, 'Jalmari Helander': 1, 'Simon Wincer': 1, 'Derrick Borte': 1, 'Kasi Lemmons': 1, 'Garth Jennings': 1, 'James Ponsoldt': 1, 'Neil Marshall': 1, 'Tony Goldwyn': 1, 'Jennifer Kent': 1, 'Anna Boden,Ryan Fleck': 1, 'Vicky Jenson': 1, 'Jorma Taccone': 1, 'Aristomenis Tsirbas': 1, 'Mort Nathan': 1, 'David Ayer': 1, 'Robert Benton': 1, 'Rodrigo GarcÃ\\xada': 1, 'Scott Frank': 1, 'Mike Mills': 1, 'Patrick Archibald,Jay Oliva': 1, 'Dave Bullock': 1, 'Mary Lambert': 1, 'Todd Graff': 1, 'Terry Gilliam,Terry Jones': 1, 'Jonathan King': 1, 'Banksy': 1, 'William Monahan': 1, 'Kevin Munroe': 1, 'Paul Johansson': 1, 'Mark Achbar,Jennifer Abbott': 1, 'Jane Campion': 1, 'Emilio Estevez': 1, 'Chris Morris': 1, 'Randall Miller': 1, 'Billy Wilder': 1, 'Joe Cornish': 1, 'Agnieszka Wojtowicz-Vosloo': 1, 'Maggie Carey': 1, 'Sean Durkin': 1, 'Rob Thomas': 1, 'Jonathan Lynn': 1, 'Henry Alex Rubin': 1, 'Hany Abu-Assad': 1, 'Jake Schreier': 1, 'Ã‰mile Gaudreault': 1, 'Lake Bell': 1, 'James Marsh': 1, 'James Tucker': 1, 'Liev Schreiber': 1, 'Dan Rush': 1, 'Angel Gracia': 1, 'Ol Parker': 1, 'Stephen Belber': 1, 'John Dahl': 1, 'Zal Batmanglij': 1, 'Steven Shainberg': 1, 'Max Mayer': 1, 'John Waters': 1, 'Daniel Benmayor': 1, 'Mark Pellington': 1, 'Destin Cretton': 1, 'Tim Hetherington,Sebastian Junger': 1, 'Gavin Wiesen': 1, 'Richard Press': 1, 'Louie Psihoyos': 1, 'George Hickenlooper': 1, 'Stuart Blumberg': 1, 'Mike Cahill': 1, 'Richard Lester': 1, 'Shinji Aramaki,Hideki Futamura': 1, 'Tim Blake Nelson': 1, 'Jodie Foster': 1, 'Sean McGinly': 1, 'Kristopher Belman': 1, 'Kelly Reichardt': 1, 'Madonna': 1, 'J Blakeson': 1, 'Richard Ayoade': 1, 'Tomm Moore': 1, 'David Jacobson': 1, 'BjÃ¶rn Stein,MÃ¥ns MÃ¥rlind': 1, 'David Lynch': 1, 'Todd Solondz': 1, 'Elliott Lester': 1, 'Geoffrey Sax': 1, 'Jason Eisener': 1, 'Lee Fulkerson': 1, 'Larry Clark': 1, 'Mateo Gil': 1, 'Rob Epstein,Jeffrey Friedman': 1, 'Matthew Chapman': 1, 'Jacob Aaron Estes': 1, 'Peter Sollett': 1, 'Martin Koolhoven': 1, 'Greg Marcks': 1, 'Andrew Haigh': 1, 'Shari Springer Berman,Robert Pulcini': 1, 'Kim Chapiron': 1, 'Andrew Currie': 1, 'Shane Carruth': 1, 'David Kaplan': 1, 'Spencer Susser': 1, 'Gregor Jordan': 1, 'Bernie Goldmann,Melisa Wallack': 1, 'Joe Swanberg': 1, 'Werner Herzog,Dmitry Vasyukov': 1, 'Scott Sanders': 1, 'Jeremy Saulnier': 1, 'Jim Kohlberg': 1, 'Daryl Wein': 1, 'Marcos Siega': 1, 'Kevin Macdonald,Zillah Bowes': 1, 'Josh Radnor': 1, 'Gilles Paquet-Brenner': 1, 'Jeremy Haft': 1, 'Lucy Walker': 1, 'Henry Hobson': 1, 'Ben Steinbauer': 1, 'Bruce Campbell': 1, 'Matt Aselton': 1, 'Menhaj Huda': 1, 'Billy Corben': 1, 'Tom Gianas,Ross Shuman': 1, 'George A. Romero': 1, 'Brett Leonard': 1, 'Craig Zobel': 1, 'Alex Rivera': 1, 'Alex Gibney,Rachel Grady,Heidi Ewing,Seth Gordon,Eugene Jarecki,Morgan Spurlock': 1, 'Evan Glodell': 1, 'Andrea Arnold': 1, 'Matt Bettinelli-Olpin,David Bruckner,Tyler Gillett,Justin Martinez,Glenn McQuaid,Joe Swanberg,Chad Villella,Ti West,Adam Wingard,Radio Silence': 1, 'Quentin Dupieux': 1, 'Sturla Gunnarsson': 1, 'Ti West': 1, 'Lawrence Kasanoff': 1, 'Robbie Pickering': 1, 'Stefan Ruzowitzky': 1, 'Mia Hansen-LÃ¸ve': 1, 'Shawn Ku': 1, 'Paul Schrader': 1, 'Abe Sylvia': 1, 'Dario Argento': 1, 'Steven Bernstein': 1, 'Rod Hardy': 1, 'Brian Goodman': 1, 'Sherry Hormann': 1, 'Jim Mickle': 1, 'Kate Barker-Froyland': 1, 'Kat Coiro': 1, 'Frank Whaley': 1, 'Max Winkler': 1, 'Max Nichols': 1, 'Steven C. Miller': 1, 'Jordan Rubin': 1, 'Nick Tomnay': 1, 'Xan Cassavetes': 1, 'Joel Potrykus': 1, 'Scott Rutherford,Ben Peyser': 1, 'Susanna Fogel': 1, 'Anders Anderson': 1, 'Clare Lewins': 1, 'Neil LaBute': 1, 'Douglas Langway': 1, 'Dermot Mulroney': 1, 'Marilyn Agrelo': 1, 'John McTiernan': 1, 'Phil Alden Robinson': 1, 'Prabhu Deva': 1, 'Mark Christopher Covino,Jeff Howlett': 1, 'Frank Oz': 1, 'Taika Waititi': 1, 'Blair Erickson': 1, 'Martin Weisz': 1, 'Jeff Bleckner': 1, 'Jayson Thiessen': 1, 'Josh C. Waller': 1, 'Henry Saine': 1, 'Matty Beckerman': 1, 'Dustin Marcellino': 1, 'Bille August': 1, 'Liz W. Garcia': 1, 'Eric Radomski,Leo Riley': 1, 'Jeffrey Hornaday': 1, 'Paul Crowder': 1, 'Jeff Renfroe': 1, 'BJ McDonnell': 1, 'Laura Dern,Bryce Dallas Howard,Bonnie Hunt,Ashley Judd,Sharon Maguire': 1, 'Dave Grohl': 1, 'Stephan Franck': 1, 'Michael Greenspan': 1, 'Christopher Menaul': 1, 'Damon Gameau': 1, 'Francesca Gregorini': 1, 'Gary Entin': 1, 'Rob Meyer': 1, 'Chris Mason Johnson': 1, 'Paul Katis': 1, 'Allison Liddi-Brown': 1, 'Alison Ellwood': 1, 'Noel Clarke': 1, 'John Herzfeld': 1, 'Declan Lowney': 1, 'Wojciech Smarzowski': 1, 'Giulio De Santi': 1, 'Peter Winther': 1, 'Jon Burton': 1, 'Patrick Rea': 1, 'David Morley': 1, 'Richard Robbins': 1, 'Anthony Powell': 1, 'Riccardo Paoletti': 1, 'Gus Holwerda': 1, 'Kristin Hanggi': 1, 'Brad J. Silverman': 1, 'Thomas Gomez Durham': 1, 'Lawrence Shapiro': 1, 'Paul Hoen': 1, 'Darren Stein': 1, 'Leo Riley': 1, 'John Lyde': 1, 'Kurt Mattila': 1, 'Allison Burnett': 1, 'Thomas S. Hammock': 1, 'Chris Sun': 1, 'Stephen Lance': 1, 'Daniel Barber': 1, 'Omid Nooshin': 1, 'Gabe IbÃ¡Ã±ez': 1, 'Alex Gregory,Peter Huyck': 1, 'Kevin Kolsch,Dennis Widmyer': 1, 'James D. Rolfe,Kevin Finn': 1, 'D. Kerry Prior ': 1, 'Jack Heller': 1, 'Alex Ranarivelo': 1, 'Antony Smith': 1, 'Helen Hunt': 1, 'Des Doyle': 1, 'Zak Penn': 1, 'Ishi Rudell,Jayson Thiessen': 1, 'Kim Jee-woon': 1, 'Steve Rash': 1, 'John Hindman': 1, 'Casper Van Dien': 1, 'Joey Ansah': 1, 'Lowell Dean': 1, 'Chris Berkeley,Lauren Montgomery,Jay Oliva': 1, 'Aleksandr Buravsky': 1, 'John Alexander': 1, 'Michael Hewitt,Dermot Lavery': 1, 'Paul Tarnopol': 1, 'Brett Simmons': 1, 'Tom DiCillo': 1, 'Don Roos': 1, 'John Asher': 1, 'Gareth Carrivick': 1, 'Kiah Roache-Turner': 1, 'James Napier Robertson': 1, 'Alejandro BruguÃ©s': 1, 'Anthony Waller': 1, 'Julia Leigh': 1, 'Jessica Nilsson': 1, 'J.T. Tepnapa': 1, 'Peter Hewitt': 1, 'Simon Cellan Jones': 1, 'Marco Polo Constandse': 1, 'Mo Ali': 1, 'Alison Murray': 1, 'Stuart Gordon': 1, 'Nick Love': 1, 'Jon Jones': 1, 'Alastair Fothergill,Keith Scholey': 1, 'Huck Botko': 1, 'Rik Swartzwelder': 1, 'Emilis Velyvis': 1, 'Shira Piven': 1, 'Carroll Ballard': 1, 'Craig Viveiros': 1, 'Sandy Collora': 1, 'One9': 1, 'Rachel Ward': 1, 'Gerard Johnstone': 1, 'Ross Katz': 1, 'Ken Loach': 1, 'Michael G. Bartlett': 1, 'Dylan Baker': 1, 'Mark Neale': 1, 'Bradley King': 1, 'Jack Plotnick': 1, 'Dave Parker': 1, 'Stephen Merchant': 1, 'Sean Byrne': 1, 'Kevin Hamedani': 1, 'Stig Svendsen': 1, 'Ralph Ziman': 1, 'Cherien Dabis': 1, 'Jac Schaeffer': 1, 'Matthew Hope': 1, 'Elgin James': 1, 'W.D. Hogan': 1, 'Audrey Cummings': 1, 'Ian Fitzgibbon': 1, 'Kurt Engfehr': 1, 'Tomas Alfredson': 1, 'Dan Eckman': 1, 'Klay Hall': 1, 'Mike Clattenburg': 1, 'Philip Ridley': 1, 'Alan Brown': 1, 'Carlo Ledesma': 1, 'Martha Holmes,Simon Blakeney,Stephen Lyle': 1, 'Kevin Heffernan': 1, 'Dylan Avery': 1, 'Sarah Smith,Barry Cook': 1, 'Matt Lang': 1, 'Gregory Doran': 1, 'Paul Dugdale': 1, 'John Moffitt': 1, 'Ben Ketai': 1, 'James Dodson': 1, 'Paul Bolger,Yvette Kaplan,Greg Tiernan': 1, 'Michael Pavone': 1, 'Steve Anderson': 1, 'Jean-Baptiste Andrea,Fabrice Canepa': 1, 'Ryan Fleck': 1, 'Kriv Stenders': 1, 'Goran Dukic': 1, 'Ann Turner': 1, 'Alex Zamm': 1, 'Vadim Jean': 1, 'Mark Palansky': 1, 'John Lounsbery,Wolfgang Reitherman': 1, 'Peter Sattler': 1, 'Sam Fischer\\t': 1, 'Dexter Fletcher': 1, 'John Jeffcoat': 1, 'K. Asher Levin': 1, 'John Stockwell': 1, 'John Fawcett': 1, 'Mat Whitecross,Michael Winterbottom': 1, 'Michael Gunton,Martha Holmes': 1, 'Michael Ian Black': 1, 'Frank Sebastiano': 1, 'Laurieann Gibson': 1, 'Tom Brady': 1, 'Peter Joseph': 1, 'Peter Chung,Yoshiaki Kawajiri,Takeshi Koike,Mahiro Maeda,KÃ´ji Morimoto,Shinichiro Watanabe,Andrew R. Jones': 1, 'Gregg Araki': 1, 'James Colquhoun': 1, 'Pitof': 1, 'Sharon Maguire': 1, 'Marianna Palka': 1, 'Joel Anderson': 1, 'Arthur Bradford': 1, 'Tristram Shapeero': 1, 'Michael McGowan': 1, 'Marc Caro': 1, 'William Shatner': 1, 'Gregg Bishop': 1, 'Steve Hickner': 1, 'Vic Sarin': 1, 'Frank Henenlotter': 1, 'Marcus Graves': 1, 'Derick Martini': 1, 'Kirby Dick': 1, 'Jeremiah Kipp,Zeke Dunn,Nicole Real,Glenn McQuaid': 1, 'Jon Poll': 1, 'Dru Brown': 1, 'Robert Mond': 1, 'Mikael Salomon': 1, 'Yoshihiro Nishimura': 1, 'Alex Chandon': 1, 'Jonas Barnes,Michael Manasseri': 1, 'Eytan Fox': 1, 'Danielle Harris': 1, 'Bruce McDonald': 1, 'Chris Rock': 1, 'Levan Bakhia': 1, 'Colin Hanks': 1, 'Greg Francis': 1, 'Benjamin Statler': 1, 'Joel Bergvall,Simon Sandquist': 1, 'Stevan Riley': 1, 'Timothy Reckart': 1, 'Robert Gordon,Morgan Neville': 1, 'Michael A. Nickles': 1, 'Marc Abraham': 1, 'Stuart Ortiz,Colin Minihan': 1, 'Damian Lee': 1, 'Joseph Kahn': 1, 'Khalil Sullins': 1, 'Jake Szymanski': 1, 'Sean Cisterna': 1, 'Justin Trefgarne': 1, 'Shane Abbess': 1, 'Alex Winter': 1, 'Marina Zenovich': 1, 'Jared Cohn': 1, 'Johannes Roberts': 1, 'Anthony Wonke': 1, 'Yasuhiro Aoki,Futoshi Higashide,Toshiyuki Kubooka,Hiroshi Morioka,Jong-Sik Nam,Shoujirou Nishimi': 1, 'Eric Red': 1, 'Cyrus Nowrasteh': 1, 'Zachary Sluser': 1, 'Travis Fine': 1, 'Ben Chanan': 1, 'Angelo Pizzo': 1, 'Robert Kenner': 1, 'Jason Stutter': 1, 'Ben Blaine,Chris Blaine': 1, 'Jeff Lowell': 1, 'David Farr': 1, 'Neil Thompson': 1, 'Matt Piedmont': 1, 'Francesco Cinquemani': 1, 'Tony McNamara': 1, 'Alex Craig Mann': 1, 'Malik Bendjelloul': 1, 'Matthew Diamond': 1, 'Frederik Du Chau': 1, 'Gregory Wilson': 1, 'RenÃ© Laloux': 1, 'Corin Hardy': 1, 'Ryan Fleck,Anna Boden': 1, 'Matthew Leutwyler': 1, 'Will Slocombe': 1, 'Ted Geoghegan': 1, 'Marya Cohn': 1, 'April Mullen': 1, 'Jon Wright': 1, 'Owen Harris': 1, 'Jason Lei Howden': 1, 'Eric Valette': 1, 'David Burris': 1, 'Rebecca Thomas': 1, 'Steve Taylor': 1, 'Ben Drew': 1, 'John August': 1, 'Steven Brill': 1, 'Nicolas Winding Refn': 1, 'Gregory Mackenzie': 1, 'Andrew Goth': 1, 'Guillermo Arriaga': 1, 'Scott Schirmer': 1, 'Mike Maguire,Tom Kuntz': 1, 'Mitch Davis': 1, 'Esteban Sapir': 1, 'Eric Bross': 1, 'Steve Buscemi': 1, 'Chandran Rutnam': 1, 'Robert Hall': 1, 'John Putch': 1, 'Julie Taymor': 1, 'Richard Shepard': 1, 'Jeremy Gardner': 1, 'Saul Dibb': 1, 'Robin Swicord': 1, 'Michael Almereyda': 1, 'Jess Manafort': 1, 'Doug Sweetland': 1, 'David Nerlich,Andrew Traucki': 1, 'James Keach': 1, 'Steve Barker': 1, 'Raman Hui': 1, 'Ric Roman Waugh': 1, 'Mark A. Walsh': 1, 'Jeff Betancourt': 1, 'Wayne Thornley': 1, 'David Hewlett': 1, 'Adam MacDonald': 1, 'Fisher Stevens': 1, 'Jason Aron': 1, 'Markus Imhoof': 1, 'Atsushi Takeuchi': 1, 'Luis Piedrahita,Rodrigo SopeÃ±a': 1, 'Julian Gilbey': 1, 'Karl DiPelino': 1, 'Rodney Ascher': 1, 'Lauren Montgomery,Bruce Timm': 1, 'Marco Kreuzpaintner': 1, 'Dante Ariola': 1, 'Jill Bauer,Ronna Gradus': 1, 'Hank Braxtan': 1, 'Jim Strouse': 1, 'Yoshiaki Kawajiri': 1, 'Matt Osterman': 1, 'Brandon Cronenberg': 1, 'Joseph Guzman': 1, 'Morgan Matthews': 1, 'Toby Genkel,Sean McCormack': 1, 'Richard Bates Jr.': 1, 'Sandra Goldbacher': 1, 'John Kahrs': 1, 'Scott Kalvert': 1, 'Gabe Polsky': 1, 'Paul Campion': 1, 'Leslie Small,Tim Story': 1, 'AdriÃ¡n Cardona,David MuÃ±oz': 1, 'Sid Bennett': 1, 'Peter Harris,Eric Till': 1, 'Steven Kostanski': 1, 'Brett Pierce,Drew T. Pierce': 1, 'Tad Stones': 1, 'Nancy Bardawil': 1, 'Ed Decter': 1, 'Fuminori Kizaki': 1, 'Larysa Kondracki': 1, 'Andy Mitton,Jesse Holland': 1, 'Mary Agnes Donoghue': 1, 'Eric Laneuville': 1, 'David Sandberg': 1, 'Tomm Moore,Nora Twomey': 1, 'Robert Lorenz': 1, 'Jake Newsome': 1, 'Saratswadee Wongsomphet': 1, 'Peter Atencio': 1, 'Josh Fox': 1, 'Andrew Martin': 1, 'Tom Shankland': 1, 'Makoto Kamiya': 1, 'Marcos Efron': 1, 'Martyn Burke': 1, 'P.J. Pesce': 1, 'Jim Mallon': 1, 'Fernando Barreda Luna': 1, 'Jang Hoon': 1, 'Tarik Saleh': 1, 'Chris Buck,Kevin Lima': 1, 'Kaare Andrews': 1, 'Andrew Traucki': 1, 'Jacob Tierney': 1, 'James Gray': 1, 'Julie Bertuccelli': 1, 'John Harrison': 1, 'Phil Claydon': 1, 'Richard Clabaugh': 1, 'Jay Russell': 1, 'Billy Bob Thornton': 1, 'David Mamet': 1, 'Gerado Olivares,Otmar Penker': 1, 'Daryn Tufts': 1, 'J.C. Calciano': 1, 'Adam Elliot': 1, 'Joey Stewart': 1, 'Elijah Drenner': 1, 'Yann Arthus-Bertrand': 1, 'Justin Chadwick': 1, 'Curtis Hanson,Michael Apted': 1, 'Mel Damski': 1, 'Brian Yuzna': 1, 'Eleanor Coppola,Fax Bahr,George Hickenlooper': 1, 'Josh Appignanesi': 1, 'Eric Forsberg': 1, 'Wagner de Assis': 1, 'Michael A. Simpson': 1, 'Alfonso Gomez-Rejon': 1, 'Toby Shelton,Alan Zaslove,Tad Stones': 1, 'Chris Shadley': 1, 'Stuart Hazeldine': 1, 'W.D. Richter': 1, 'Y.K. Kim,Woo-sang Park': 1, 'Jon Knautz': 1, 'Jack Sholder': 1, 'Daniel Grou': 1, 'Darragh Byrne': 1, 'Mark McQueen': 1, 'Thomas BalmÃ¨s': 1, 'Jeff Pollack': 1, 'Dennis Iliadis': 1, 'Dragan BjelogrliÄ‡': 1, 'Michael Caton-Jones': 1, 'Kieran Mulroney,Michele Mulroney': 1, 'Dominic Polcino': 1, 'Peter Clifton,Joe Massot': 1, 'Ricky Gervais,Stephen Merchant': 1, 'Rowan Joffe': 1, 'Dana Lustig': 1, 'Emily Young': 1, 'Shinji Aramaki': 1, 'John Carpenter,Tobe Hooper,Larry Sulkis': 1, 'Joe Dante': 1, 'Simon Rumley': 1, 'Derek Jarman': 1, 'Jonas Pate': 1, 'Russ Meyer': 1, 'Lena Dunham': 1, 'Jeremy Podeswa,Tim Van Patten,David Nutter,Graham Yost,Carl Franklin,Tony To': 1})\n"
     ]
    }
   ],
   "source": [
    "#revenue and directors \n",
    "df4=df3.loc[:, ['revenue', 'director']]\n",
    "df4=df4.sort_values(['revenue'], ascending=False)\n",
    "df4.head(5)\n",
    "d_list = df4['director'].tolist()\n",
    "print (Counter(d_list))"
   ]
  },
  {
   "cell_type": "code",
   "execution_count": 75,
   "metadata": {},
   "outputs": [
    {
     "name": "stdout",
     "output_type": "stream",
     "text": [
      "Counter({'based on novel': 47, 'london': 30, 'suicide': 30, 'sex': 25, 'new york': 23, 'paris': 23, 'female nudity': 21, 'saving the world': 20, 'independent film': 18, 'corruption': 17, 'prison': 16, 'father-son relationship': 16, 'biography': 16, 'witch': 15, 'sport': 14, 'dancing': 13, 'gay': 13, 'dc comics': 12, 'dystopia': 12, 'california': 12, 'woman director': 12, 'monster': 11, 'cia': 11, 'male nudity': 11, 'terrorist': 10, 'spy': 10, 'brother brother relationship': 10, 'holiday': 10, 'rape': 10, 'alcohol': 10, 'car race': 9, 'individual': 9, 'assassin': 9, 'musical': 9, 'world war ii': 9, 'detective': 8, 'jealousy': 8, 'duringcreditsstinger': 8, 'sheriff': 8, 'beach': 8, 'robbery': 8, 'marvel comic': 7, 'vampire': 7, 'martial arts': 7, 'friendship': 7, 'artificial intelligence': 7, 'england': 7, 'gambling': 7, 'competition': 7, 'bomb': 7, 'secret': 7, 'high school': 7, 'baby': 7, 'prostitute': 7, 'moon': 6, 'ocean': 6, 'dream': 6, '1970s': 6, 'secret identity': 6, 'italy': 6, 'terror': 6, 'adultery': 6, 'sister sister relationship': 6, 'adolescence': 6, 'love triangle': 6, 'usa': 6, 'android': 5, 'elves': 5, 'sea': 5, 'prophecy': 5, 'ambush': 5, 'magic': 5, 'japan': 5, 'berlin': 5, 'american football': 5, 'post-apocalyptic': 5, 'undercover': 5, 'sequel': 5, 'journalist': 5, 'video game': 5, 'taxi': 5, 'black people': 5, 'shyness': 5, 'aftercreditsstinger': 5, 'experiment': 5, 'infidelity': 5, 'riddle': 4, 'loss of lover': 4, 'fight': 4, 'flying': 4, 'christianity': 4, 'killing': 4, 'future': 4, 'bounty hunter': 4, 'alien': 4, 'fire': 4, 'underdog': 4, 'tattoo': 4, 'upper class': 4, 'wife husband relationship': 4, 'venice': 4, 'bank': 4, 'clone': 4, 'date': 4, 'roommate': 4, 'hotel': 4, 'submarine': 4, 'poker': 4, 'haunted house': 4, 'christian': 4, 'babysitter': 4, 'comedian': 4, 'waitress': 4, 'sadistic': 4, 'superhero': 4, 'baseball': 4, 'technology': 4, 'new jersey': 4, 'new zealand': 4, 'photographer': 4, 'queen': 3, 'hostage': 3, 'predator': 3, 'farewell': 3, 'fairy tale': 3, 'time travel': 3, 'africa': 3, 'rebel': 3, 'france': 3, 'library': 3, 'slum': 3, 'winter': 3, 'rome': 3, 'nurse': 3, 'san francisco': 3, 'southern u.s.': 3, 'sexuality': 3, 'hacker': 3, 'transporter': 3, 'hawaii': 3, 'helicopter': 3, 'becoming an adult': 3, 'life and death': 3, 'fictional place': 3, 'confession': 3, 'ice': 3, 'assassination': 3, 'rock and roll': 3, 'female friendship': 3, 'zoo': 3, 'sunrise': 3, 'capitalism': 3, 'philosophy': 3, 'parents kids relationship': 3, 'anti terror': 3, 'angel': 3, 'child abuse': 3, 'family relationships': 3, 'hero': 3, 'mask': 3, 'suspense': 3, 'soul': 3, 'mother': 3, 'new love': 3, 'vietnam veteran': 3, 'street gang': 3, 'brother sister relationship': 3, 'pornography': 3, 'mercenary': 3, 'women': 3, 'isolation': 3, 'brazilian': 3, 'muslim': 3, 'zombies': 3, 'mexico': 3, 'loss of child': 3, 'cyborg': 3, 'christmas': 3, 'halloween': 3, 'concert': 3, 'supernatural': 3, 'post traumatic stress  disorder': 3, 'depression': 3, 'secret agent': 2, 'exotic island': 2, 'diving': 2, 'dual identity': 2, 'egypt': 2, 'loss of father': 2, 'washington d.c.': 2, 'brazil': 2, 'middle east': 2, 'sniper': 2, 'scotland': 2, 'circus': 2, 'museum': 2, 'liberation': 2, 'support group': 2, 'exorcism': 2, 'great britain': 2, 'soulmates': 2, 'clock tower': 2, 'deja vu': 2, 'surgeon': 2, 'pop': 2, 'cuba': 2, 'diary': 2, 'tyrannosaurus rex': 2, 'revenge': 2, 'number in title': 2, 'casino': 2, 'santa claus': 2, 'spacecraft': 2, 'prequel': 2, 'romantic comedy': 2, 'mutant': 2, 'poison': 2, 'classroom': 2, 'bowling': 2, 'male friendship': 2, 'hunter': 2, 'atomic bomb': 2, \"new year's eve\": 2, 'war crimes': 2, 'island': 2, 'vegetarian': 2, 'suitcase': 2, 'north carolina': 2, 'lovesickness': 2, 'double life': 2, 'music record': 2, 'horse race': 2, 'shakespeare adaptation': 2, 'owl': 2, 'survivor': 2, 'film producer': 2, 'daughter': 2, 'secret organization': 2, 'mississippi': 2, 'bachelor': 2, 'monk': 2, 'missile': 2, 'transvestism': 2, 'torture': 2, 'budapest': 2, 'medium': 2, \"children's book\": 2, 'rap': 2, 'dolphin': 2, 'nanny': 2, 'japanese': 2, 'cheerleader': 2, 'inquisition': 2, 'miami': 2, 'judge': 2, 'nun': 2, 'lie': 2, 'virgin': 2, 'age difference': 2, 'underground': 2, 'based on tv series': 2, 'space marine': 2, 'river': 2, 'gold': 2, 'horror spoof': 2, 'professor': 2, 'wolf': 2, 'confidence': 2, 'sword': 2, 'climate change': 2, 'supermarket': 2, 'single parent': 2, 'journalism': 2, 'father': 2, 'u.s. president': 2, 'fbi': 2, 'therapist': 2, 'roman empire': 2, 'hippie': 2, 'teenager': 2, 'airplane': 2, 'police': 2, 'one word title': 2, 'jazz': 2, 'guitar': 2, 'wrestling': 2, 'relationship problems': 2, 'movie in movie': 2, 'career': 2, 'holy grail': 2, 'graffiti': 2, 'murder': 2, 'education': 2, 'virtual reality': 2, 'dancer': 2, 'identity': 2, 'best friend': 2, 'train station': 2, 'disc jockey': 2, 'gore': 2, 'gun': 2, 'desperation': 2, 'alien life-form': 2, 'nudity': 2, 'conspiracy theory': 2, 'stand-up': 2, 'porno star': 2, 'cemetery': 2, 'drug traffic': 2, 'gang': 2, 'love': 2, 'culture clash': 1, 'shipwreck': 1, 'self sacrifice': 1, 'assistant': 1, 'blue footed booby': 1, 'showdown': 1, 'loss of parents': 1, 'white house': 1, 'ogre': 1, 'resistance': 1, 'central and south america': 1, 'space mission': 1, 'destroy': 1, 'hallucination': 1, 'mammoth': 1, 'revolution': 1, 'senate': 1, 'china': 1, 'malibu': 1, 'stone age': 1, 'adoptive father': 1, 'bird': 1, 'intelligence': 1, 'fishing': 1, 'underwear': 1, 'new mexico': 1, 'animal in title': 1, 'evisceration': 1, 'city portrait': 1, 'human evolution': 1, 'prince': 1, 'falsely accused person': 1, 'fabergÃ© egg': 1, 'bible': 1, 'british': 1, 'mission': 1, 'based on cartoon': 1, 'based on graphic novel': 1, 'persia': 1, 'detective inspector': 1, 'skateboarding': 1, 'self-fulfilling prophecy': 1, 'factory': 1, 'fictitious marriage': 1, 'fish': 1, 'robin hood': 1, 'hamster': 1, 'underworld': 1, 'transylvania': 1, 'dyr': 1, 'factory worker': 1, 'overweight': 1, 'moses': 1, 'sun glasses': 1, 'politically incorrect': 1, 'con artist': 1, 'based on comic strip': 1, 'jules verne': 1, 'weather': 1, 'daddys home': 1, 'chipmunk': 1, 'hades': 1, 'mephisto': 1, 'graduation': 1, 'flower': 1, 'himalaya': 1, 'cinema': 1, 'naturalist': 1, 'highway': 1, 'crusade': 1, 'inventor': 1, 'indonesia': 1, 'mountains': 1, 'picnic': 1, 'based on fairy tale': 1, 'burglar': 1, 'denmark': 1, 'intern': 1, 'haunting': 1, 'shakespeare': 1, 'southeast asia': 1, 'coming out': 1, 'bank manager': 1, 'jupiter': 1, \"coup d'etat\": 1, 'security guard': 1, 'catastrophe': 1, 'kurdish': 1, 'blindness and impaired vision': 1, 'world war i': 1, 'ouija board': 1, 'relationship': 1, 'hermes': 1, 'ceo': 1, 'talking animal': 1, 'teleportation': 1, 'prisoner of war': 1, 'tree': 1, 'buddhist monk': 1, 'premonition': 1, 'philadelphia': 1, 'cataclysm': 1, 'katana': 1, 'money laundering': 1, 'seduction': 1, 'skyscraper': 1, 'firemen': 1, 'funeral': 1, 'penguin': 1, 'federation': 1, 'war': 1, 'skeleton': 1, 'supernatural horror': 1, 'amnesia': 1, 'hooker': 1, 'imagination': 1, 'jaipur india': 1, 'ku klux klan': 1, 'cooking': 1, 'dracula': 1, 'nasa': 1, 'tempel': 1, 'dinosaur': 1, 'stadium': 1, 'pennsylvania': 1, 'stop motion animation': 1, 'young people': 1, 'conspiracy of murder': 1, 'satellite': 1, 'freddy krueger': 1, 'poem': 1, 'chicago': 1, 'bride': 1, 'clown': 1, 'missionary': 1, 'first time': 1, 'cave': 1, 'los angeles': 1, 'flying saucer': 1, 'ferme': 1, 'survival': 1, 'refugee': 1, 'womanizer': 1, 'marijuana': 1, 'fistfight': 1, 'manager': 1, 'san diego': 1, 'demon': 1, 'vatican': 1, 'orphanage': 1, 'ship': 1, 'weapon of mass destruction': 1, 'cabin in the woods': 1, 'curse': 1, 'races': 1, 'brothel': 1, 'texas': 1, 'ladykiller': 1, 'cigarette smoking': 1, 'sex doll': 1, 'mouse': 1, 'street artist': 1, 'guerilla': 1, 'yacht': 1, 'bathroom': 1, 'village': 1, 'hitman': 1, 'crucifixion': 1, 'stuntman': 1, 'police operation': 1, 'crematorium': 1, 'kiss': 1, 'ohio': 1, 'diamond': 1, 'religion and supernatural': 1, 'saloon': 1, 'police state': 1, 'metropolis': 1, 'heist': 1, 'bookshop': 1, 'erection': 1, 'nightmare': 1, 'cabin': 1, 'alien invasion': 1, 'pregnancy and birth': 1, 'aids': 1, 'fraud': 1, 'head wound': 1, 'nazis': 1, 'bahamas': 1, 'cheating': 1, 'shoe': 1, 'countryside': 1, 'work ethic': 1, 'deadbeat dad': 1, 'book': 1, 'neo-nazi': 1, 'comic book': 1, 'ant': 1, 'chain': 1, 'red hair': 1, 'telecaster': 1, 'coup': 1, 'darkness': 1, 'green': 1, 'evidence': 1, 'totalitarian regime': 1, 'whipping': 1, 'show business': 1, 'widow': 1, 'fox': 1, 'rooftop': 1, 'psychokinesis': 1, 'repayment': 1, 'job interview': 1, 'gallows': 1, 'evil stepmother': 1, 'german democratic republic': 1, 'pizza delivery': 1, 'broken trachea': 1, 'blind date': 1, 'shotgun': 1, 'painter': 1, 'little boy': 1, 'boy': 1, 'gospel': 1, 'two word title': 1, 'st. petersburg': 1, 'rwanda': 1, 'african american': 1, 'agriculture': 1, 'smoking': 1, 'bureaucracy': 1, 'claustrophobia': 1, 'alligator': 1, 'bruges belgium': 1, 'newspaper': 1, 'illegal immigration': 1, 'carpet': 1, 'megacity': 1, 'pregnancy': 1, 'bet': 1, 'car crash': 1, 'minnesota': 1, 'bone': 1, 'places and planets': 1, 'paranoia': 1, 'white russian': 1, 'flat': 1, 'royal family': 1, '3d animation': 1, 'kidnapper': 1, 'whale': 1, 'big family': 1, 'hospital': 1, 'law': 1, 'ventriloquist': 1, 'liar': 1, 'refugee camp': 1, 'costume': 1, 'nationalism': 1, 'escape': 1, 'mayor': 1, 'painting': 1, 'loss of son': 1, 'cheerleading': 1, 'radiation': 1, 'underground world': 1, 'from backpacks to strollers': 1, 'based on true story': 1, 'hold-up robbery': 1, 'comedy': 1, 'invasion': 1, 'istanbul': 1, 'president': 1, 'brain tumor': 1, 'music': 1, 'aunt': 1, 'dating': 1, 'witness protection': 1, 'new identity': 1, 'invisible man': 1, 'natural disaster': 1, 'climbing up a wall': 1, 'cold': 1, 'plagiarized book': 1, 'mystery': 1, 'new york city': 1, 'montana': 1, 'evil': 1, 'garage': 1, 'kung fu': 1, 'pill': 1, 'boston': 1, 'gunslinger': 1, 'michigan': 1, 'shark attack': 1, 'broken neck': 1, 'tourist': 1, 'ice hockey': 1, 'homeless person': 1, 'charlie chaplin': 1, 'hip-hop': 1, 'evolution': 1, 'portal': 1, 'illuminati': 1, 'alcoholism': 1, 'mutiny': 1, 'snob': 1, 'dying and death': 1, 'watching a movie': 1, 'butler': 1, 'con man': 1, 'stock price': 1, 'loss of sister': 1, 'recession': 1, 'poet': 1, 'terrorism': 1, 'wine garden': 1, 'wheelchair': 1, 'chair': 1, 'sexual abuse': 1, 'doppelganger': 1, 'police brutality': 1, 'salesclerk': 1, 'shootout': 1, 'shelter': 1, 'father daughter relationship': 1, 'sadness': 1, 'grandfather grandson relationship': 1, 'underage soldier': 1, 'motel': 1, 'illustrator': 1, 'chinese mafia': 1, 'fashion': 1, 'mafia': 1, 'light': 1, 'sex therapy': 1, 'female soldier': 1, 'puppet': 1, 'restaurant': 1, 'magician performance': 1, 'auction': 1, 'indian territory': 1, 'black comedy': 1, 'poetry': 1, 'netherlands': 1, 'decision': 1, 'juvenile prison': 1, 'vororte': 1, 'distrust': 1, 'indian food': 1, 'loss of mother': 1, 'daily life': 1, 'stonewall riot': 1, 'parody': 1, 'department store': 1, 'cocaine': 1, 'orpheus': 1, 'mass murder': 1, 'webcam': 1, 'exploding building': 1, 'small town': 1, 'forgiveness': 1, 'arbitrary law': 1, 'au pair': 1, 'engagement': 1, 'naivety': 1, 'beaver': 1, 'swimming pool': 1, 'south australia': 1, 'bear': 1, 'wedding vows': 1, 'mathematician': 1, 'gang war': 1, 'punk': 1, 'government': 1, 'homelessness': 1, 'memory loss': 1, 'extortion': 1, 'musician': 1, 'surfer': 1, 'speed': 1, 'ice age': 1, 'horror': 1, 'rock': 1, 'birdwatching': 1, 'afghanistan': 1, 'motivational book': 1, 'storm': 1, 'cultural difference': 1, 'legend': 1, 'atheist': 1, 'fbi agent': 1, 'voice over': 1, 'revolutinoary': 1, 'college': 1, 'australian': 1, 'dominatrix': 1, 'barbie': 1, 'thriller': 1, 'angry video game nerd': 1, 'viking': 1, 'surfing': 1, 'television': 1, 'chiropractor': 1, 'fairy': 1, 'exploitation': 1, 'drama': 1, 'cash': 1, 'the doors': 1, 'chess': 1, 'dark comedy': 1, 'gay kiss': 1, 'gold rush': 1, 'wedding': 1, 'junkie': 1, 'hit-and-run driving ': 1, 'joseph stalin': 1, 'alaska': 1, 'authority': 1, 'free spirit': 1, 'talk show': 1, 'suicide attempt': 1, 'rap music': 1, 'ex-lover': 1, 'kidnapping': 1, 'asteroid': 1, 'racist': 1, 'greed': 1, 'noir': 1, 'illinois': 1, 'arranged marriage': 1, 'zodiac': 1, 'wilderness': 1, 'lifestyle': 1, 'dna': 1, 'gangster boss': 1, 'animal': 1, 'cadet': 1, 'coverup': 1, 'plants': 1, 'new orleans': 1, 'will to survive': 1, 'nuclear missile': 1, 'dwarves': 1, 'marriage proposal': 1, 'dream sequence': 1, 'guantanamo bay': 1, 'military weapons': 1, 'drug dealer': 1, 'indian': 1, 'natural history': 1, 'alternate reality': 1, 'medicine': 1, 'canadian': 1, 'tv show': 1, 'canada': 1, 'space opera': 1, 'dragon': 1, 'cincinnati': 1, 'love at first sight': 1, 'grave': 1, 'chainsaw': 1, 'record industry': 1, 'gunshot wound': 1, 'coma': 1, 'marriage': 1, 'camcorder': 1, 'tennis': 1, 'drug': 1, 'mind control': 1, 'internet': 1, 'bakery': 1, 'house arrest': 1, 'criminal': 1, 'stalking': 1, 'food industry': 1, 'white trash': 1, 'maze': 1, 'rock star': 1, 'dark': 1, 'diner': 1, 'germany': 1, 'magazine': 1, 'candy': 1, 'appalachia': 1, 'crime': 1, 'book store': 1, 'celebrity': 1, 'serial killer': 1, 'satire': 1, 'fascism': 1, 'ayn rand': 1, 'riot': 1, 'civil war': 1, 'zombie survival': 1, 'stage': 1, 'bunker': 1, 'lover (female)': 1, 'none': 1, 'latina': 1, 'camping': 1, 'release from prison': 1, 'interview': 1, 'mythology': 1, 'beehive': 1, 'gun rampage': 1, 'out of body experience': 1, 'hooligan': 1, 'brotherhood': 1, 'denver': 1, 'injection': 1, 'child prodigy': 1, 'adventure': 1, 'german': 1, 'stand up comedy': 1, 'jungle': 1, 'to tinker': 1, 'samurai': 1, 'sarajevo': 1, 'new hampshire': 1, 'prostitution': 1, 'barbarian': 1, 'stranded': 1, 'contaminated  water': 1, 'pop star': 1, 'space': 1, 'remake': 1, 'tastelessness': 1, 'country house': 1, 'gorilla': 1, 'race against time': 1, 'boat': 1, 'imperator': 1, 'snake': 1, 'film making': 1, 'eagle': 1, 'chocolate': 1, 'manchester city': 1, 'film director': 1, 'turning into a vampire': 1, 'caper': 1, 'philippines': 1, 'water monster': 1, 'summer camp': 1, 'florida': 1, 'kidnapping and murder': 1, 'menace': 1, 'ninjas': 1, 'human body': 1, 'step father': 1, 'drug addiction': 1, 'apostrophe in title': 1, 'rape and revenge': 1, 'starships': 1, 'basement': 1})\n"
     ]
    }
   ],
   "source": [
    "#revenue and movie keywords \n",
    "df5=df3.loc[:, ['revenue', 'keywords']]\n",
    "df5=df5.sort_values(['revenue'], ascending=False)\n",
    "k_list=df5['keywords'].tolist()\n",
    "k = [i.split(' ,')[0] for i in k_list]\n",
    "print(Counter(k))\n"
   ]
  },
  {
   "cell_type": "code",
   "execution_count": 62,
   "metadata": {},
   "outputs": [
    {
     "name": "stdout",
     "output_type": "stream",
     "text": [
      "Counter({9: 290, 10: 201, 12: 175, 5: 158, 6: 157, 7: 153, 8: 153, 3: 151, 1: 149, 11: 146, 4: 137, 2: 122})\n"
     ]
    },
    {
     "data": {
      "image/png": "[encoded data removed]",
      "text/plain": [
       "<matplotlib.figure.Figure at 0x7fef8cb83978>"
      ]
     },
     "metadata": {},
     "output_type": "display_data"
    }
   ],
   "source": [
    "#revenue and release_date\n",
    "import datetime\n",
    "df6=df.loc[:, ['revenue', 'release_date']]\n",
    "df6=df6.sort_values(['revenue'], ascending=False)\n",
    "df6['month']= pd.DatetimeIndex(df6['release_date']).month\n",
    "month=Counter(df6['month'])\n",
    "print(Counter(df6['month']))\n",
    "\n",
    "labels, values = zip(*month.items())\n",
    "\n",
    "indexes = np.arange(len(labels))\n",
    "width = 1\n",
    "\n",
    "plt.bar(indexes, values, width, color='skyblue')\n",
    "plt.xticks(indexes + width * 0.5, labels, rotation='vertical')\n",
    "plt.title('Months associated with High Revenues')\n",
    "plt.xlabel('Month')\n",
    "plt.ylabel('Frequency')\n",
    "plt.show()"
   ]
  },
  {
   "cell_type": "markdown",
   "metadata": {},
   "source": [
    "### Research Question 3: What is the relationship between user rating and revenue or popularity?\n",
    "Reasoning for the analysis: To understand how user rating can impact the revenue of a movie since now movie fans tend to read movie reviews prior to watching movies. \n",
    "\n",
    "Observations: \n",
    "1. Does user rating predict popularity? \n",
    "Yes. The relationship between rating and popularity is positive. From the statistic analysis, p value =0, which indicates a strong association between rating and popularity. \n",
    "2. Does user rating predict revenue?\n",
    "Yes. The relationship between rating and revenue is positive. From the statistic analysis, p value =0, which indicates \n",
    "a strong association between rating and revenue. "
   ]
  },
  {
   "cell_type": "code",
   "execution_count": 65,
   "metadata": {},
   "outputs": [
    {
     "data": {
      "image/png": "[encoded data removed]",
      "text/plain": [
       "<matplotlib.figure.Figure at 0x7fef8cb83198>"
      ]
     },
     "metadata": {},
     "output_type": "display_data"
    },
    {
     "name": "stdout",
     "output_type": "stream",
     "text": [
      "                            OLS Regression Results                            \n",
      "==============================================================================\n",
      "Dep. Variable:                revenue   R-squared:                       0.067\n",
      "Model:                            OLS   Adj. R-squared:                  0.066\n",
      "Method:                 Least Squares   F-statistic:                     142.2\n",
      "Date:                Wed, 08 Nov 2017   Prob (F-statistic):           1.05e-31\n",
      "Time:                        16:09:14   Log-Likelihood:                -41025.\n",
      "No. Observations:                1992   AIC:                         8.205e+04\n",
      "Df Residuals:                    1990   BIC:                         8.206e+04\n",
      "Df Model:                           1                                         \n",
      "Covariance Type:            nonrobust                                         \n",
      "================================================================================\n",
      "                   coef    std err          t      P>|t|      [0.025      0.975]\n",
      "--------------------------------------------------------------------------------\n",
      "Intercept    -2.833e+08   3.38e+07     -8.390      0.000   -3.49e+08   -2.17e+08\n",
      "vote_average  6.449e+07   5.41e+06     11.923      0.000    5.39e+07    7.51e+07\n",
      "==============================================================================\n",
      "Omnibus:                     1599.597   Durbin-Watson:                   1.300\n",
      "Prob(Omnibus):                  0.000   Jarque-Bera (JB):            45309.110\n",
      "Skew:                           3.603   Prob(JB):                         0.00\n",
      "Kurtosis:                      25.225   Cond. No.                         45.3\n",
      "==============================================================================\n",
      "\n",
      "Warnings:\n",
      "[1] Standard Errors assume that the covariance matrix of the errors is correctly specified.\n"
     ]
    }
   ],
   "source": [
    "#subset dataframe with revenue, popularity, and user_rating \n",
    "from statsmodels.formula.api import ols\n",
    "dfa = df.loc[:, ['revenue', 'vote_average']]\n",
    "#explore the relationship between vote_average and revenue \n",
    "x=np.array(dfa['vote_average'])\n",
    "y=np.array(dfa['revenue'])\n",
    "m, b = np.polyfit(x, y, 1)\n",
    "plt.plot(x, y, '.', color='m')\n",
    "plt.plot(x, m*x + b, '-', color='blue', alpha=.5)\n",
    "plt.title('Relationship between Rating and Revenue')\n",
    "plt.xlabel('Vote Average')\n",
    "plt.ylabel('Revenue ($10billions)')\n",
    "plt.show()\n",
    "\n",
    "model=ols('revenue~vote_average', dfa).fit()\n",
    "print(model.summary())"
   ]
  },
  {
   "cell_type": "code",
   "execution_count": 69,
   "metadata": {},
   "outputs": [
    {
     "data": {
      "image/png": "[encoded data removed]",
      "text/plain": [
       "<matplotlib.figure.Figure at 0x7fef8dab32e8>"
      ]
     },
     "metadata": {},
     "output_type": "display_data"
    },
    {
     "name": "stdout",
     "output_type": "stream",
     "text": [
      "                            OLS Regression Results                            \n",
      "==============================================================================\n",
      "Dep. Variable:             popularity   R-squared:                       0.089\n",
      "Model:                            OLS   Adj. R-squared:                  0.088\n",
      "Method:                 Least Squares   F-statistic:                     194.0\n",
      "Date:                Wed, 08 Nov 2017   Prob (F-statistic):           3.72e-42\n",
      "Time:                        16:16:03   Log-Likelihood:                -3984.0\n",
      "No. Observations:                1992   AIC:                             7972.\n",
      "Df Residuals:                    1990   BIC:                             7983.\n",
      "Df Model:                           1                                         \n",
      "Covariance Type:            nonrobust                                         \n",
      "================================================================================\n",
      "                   coef    std err          t      P>|t|      [0.025      0.975]\n",
      "--------------------------------------------------------------------------------\n",
      "Intercept       -2.5955      0.284     -9.149      0.000      -3.152      -2.039\n",
      "vote_average     0.6332      0.045     13.930      0.000       0.544       0.722\n",
      "==============================================================================\n",
      "Omnibus:                     2566.293   Durbin-Watson:                   0.511\n",
      "Prob(Omnibus):                  0.000   Jarque-Bera (JB):           668930.115\n",
      "Skew:                           6.796   Prob(JB):                         0.00\n",
      "Kurtosis:                      91.739   Cond. No.                         45.3\n",
      "==============================================================================\n",
      "\n",
      "Warnings:\n",
      "[1] Standard Errors assume that the covariance matrix of the errors is correctly specified.\n"
     ]
    }
   ],
   "source": [
    "#explore the relationship between vote_average and popularity\n",
    "import numpy as np\n",
    "dfb=df.loc[:,['vote_average', 'popularity']]\n",
    "x=np.array(dfb['vote_average'])\n",
    "y=np.array(dfb['popularity'])\n",
    "m, b = np.polyfit(x, y, 1)\n",
    "plt.plot(x, y, '.', color='skyblue')\n",
    "plt.plot(x, m*x + b, '-', color='yellowgreen', alpha=.5)\n",
    "\n",
    "plt.title('Relationship between Rating and Popularity')\n",
    "plt.xlabel('Vote Average')\n",
    "plt.ylabel('Popularity')\n",
    "plt.show()\n",
    "\n",
    "model=ols('popularity~vote_average', dfb).fit()\n",
    "print(model.summary())"
   ]
  },
  {
   "cell_type": "markdown",
   "metadata": {},
   "source": [
    "### Research Question 4: What kinds of properties are associated with movies that are most popular?\n",
    "Reasoning for the analysis: To provide a checklist for the movie industry for making a popular movie. \n",
    "\n",
    "Observation: \n",
    "1. Cast?\n",
    "These casts are correlated with higher popularity of a movie (in descending order): Tom Hanks, Matt Damon, Mark Wahlberg, Nicolas Cage, Johnny Depp, Tom Cruise, George Clooney\n",
    "2. Director?\n",
    "These directors' movie are correlated with popular movies (in descending order): John Carpenter, Steven Spielberg, Steven Soderbergh \n",
    "3. Production companies?\n",
    "Production companies do not seem to correlate with the popularity of a movie. \n",
    "4. Release time? \n",
    "The release month does not seem to correlate with the popularity of a movie. \n",
    "5. Genres? \n",
    "The most popular movies correlate with these following genres (in descending order): adventure, science fiction and action. \n",
    "6. Keywords? \n",
    "The keywords of a movie do not seem to correlate with the popularity of a movie. "
   ]
  },
  {
   "cell_type": "code",
   "execution_count": 71,
   "metadata": {},
   "outputs": [
    {
     "data": {
      "text/html": [
       "<div>\n",
       "<style>\n",
       "    .dataframe thead tr:only-child th {\n",
       "        text-align: right;\n",
       "    }\n",
       "\n",
       "    .dataframe thead th {\n",
       "        text-align: left;\n",
       "    }\n",
       "\n",
       "    .dataframe tbody tr th {\n",
       "        vertical-align: top;\n",
       "    }\n",
       "</style>\n",
       "<table border=\"1\" class=\"dataframe\">\n",
       "  <thead>\n",
       "    <tr style=\"text-align: right;\">\n",
       "      <th></th>\n",
       "      <th>popularity</th>\n",
       "      <th>cast</th>\n",
       "      <th>director</th>\n",
       "      <th>production_companies</th>\n",
       "      <th>release_date</th>\n",
       "      <th>keywords</th>\n",
       "      <th>genres</th>\n",
       "      <th>release_year</th>\n",
       "    </tr>\n",
       "  </thead>\n",
       "  <tbody>\n",
       "    <tr>\n",
       "      <th>0</th>\n",
       "      <td>32.985763</td>\n",
       "      <td>Chris Pratt ,Bryce Dallas Howard ,Irrfan Khan ...</td>\n",
       "      <td>Colin Trevorrow</td>\n",
       "      <td>Universal Studios ,Amblin Entertainment ,Legen...</td>\n",
       "      <td>2015-06-09</td>\n",
       "      <td>monster ,dna ,tyrannosaurus rex ,velociraptor ...</td>\n",
       "      <td>Action ,Adventure ,Science Fiction ,Thriller</td>\n",
       "      <td>2015</td>\n",
       "    </tr>\n",
       "    <tr>\n",
       "      <th>1</th>\n",
       "      <td>28.419936</td>\n",
       "      <td>Tom Hardy ,Charlize Theron ,Hugh Keays-Byrne ,...</td>\n",
       "      <td>George Miller</td>\n",
       "      <td>Village Roadshow Pictures ,Kennedy Miller Prod...</td>\n",
       "      <td>2015-05-13</td>\n",
       "      <td>future ,chase ,post-apocalyptic ,dystopia ,aus...</td>\n",
       "      <td>Action ,Adventure ,Science Fiction ,Thriller</td>\n",
       "      <td>2015</td>\n",
       "    </tr>\n",
       "  </tbody>\n",
       "</table>\n",
       "</div>"
      ],
      "text/plain": [
       "   popularity                                               cast  \\\n",
       "0   32.985763  Chris Pratt ,Bryce Dallas Howard ,Irrfan Khan ...   \n",
       "1   28.419936  Tom Hardy ,Charlize Theron ,Hugh Keays-Byrne ,...   \n",
       "\n",
       "          director                               production_companies  \\\n",
       "0  Colin Trevorrow  Universal Studios ,Amblin Entertainment ,Legen...   \n",
       "1    George Miller  Village Roadshow Pictures ,Kennedy Miller Prod...   \n",
       "\n",
       "  release_date                                           keywords  \\\n",
       "0   2015-06-09  monster ,dna ,tyrannosaurus rex ,velociraptor ...   \n",
       "1   2015-05-13  future ,chase ,post-apocalyptic ,dystopia ,aus...   \n",
       "\n",
       "                                         genres  release_year  \n",
       "0  Action ,Adventure ,Science Fiction ,Thriller          2015  \n",
       "1  Action ,Adventure ,Science Fiction ,Thriller          2015  "
      ]
     },
     "execution_count": 71,
     "metadata": {},
     "output_type": "execute_result"
    }
   ],
   "source": [
    "#Subset the dataframe to only include columns of interest\n",
    "dfp=df.loc[:, ['popularity', 'cast', 'director', 'production_companies', 'release_date', 'keywords', 'genres', 'release_year']]\n",
    "#sort dataframe by popularity and remove values if popularity equal or smaller than 10\n",
    "dfp=dfp.sort_values(['popularity'], ascending=False).drop(dfp[dfp['popularity'] <= 10].index)\n",
    "dfp.head(2)"
   ]
  },
  {
   "cell_type": "code",
   "execution_count": 72,
   "metadata": {},
   "outputs": [
    {
     "name": "stdout",
     "output_type": "stream",
     "text": [
      "Counter({'Tom Hanks': 14, 'Matt Damon': 14, 'Mark Wahlberg': 14, 'Nicolas Cage': 13, 'Johnny Depp': 12, 'Tom Cruise': 12, 'George Clooney': 11, 'Vin Diesel': 10, 'Christian Bale': 10, 'Steve Carell': 10, 'Hugh Jackman': 10, 'Ben Affleck': 10, 'Jeff Bridges': 10, 'Robert Downey Jr.': 9, 'Daniel Craig': 9, 'Brad Pitt': 9, 'Russell Crowe': 9, 'Adam Sandler': 9, 'Sylvester Stallone': 9, 'Ryan Reynolds': 9, 'Joseph Gordon-Levitt': 9, 'Daniel Radcliffe': 8, 'Liam Neeson': 8, 'Leonardo DiCaprio': 8, 'Kristen Stewart': 8, 'Will Smith': 8, 'Bradley Cooper': 8, 'Keanu Reeves': 8, 'Bruce Willis': 8, 'Sean Connery': 8, 'Colin Farrell': 8, 'Jason Statham': 8, 'Jack Black': 7, 'Dwayne Johnson': 7, 'Arnold Schwarzenegger': 7, 'Pierce Brosnan': 7, 'James McAvoy': 7, 'Will Ferrell': 7, 'Roger Moore': 7, 'Kurt Russell': 7, 'Samuel L. Jackson': 7, 'Harrison Ford': 6, 'Sandra Bullock': 6, 'Shia LaBeouf': 6, 'Elijah Wood': 6, 'Mia Wasikowska': 6, 'Mike Myers': 6, 'Ewan McGregor': 6, 'Matthew McConaughey': 6, 'Ben Stiller': 6, 'Jesse Eisenberg': 6, 'Jim Carrey': 6, 'Owen Wilson': 6, 'Gerard Butler': 6, 'Seth Rogen': 6, 'Cameron Diaz': 6, 'Milla Jovovich': 6, 'Denzel Washington': 6, 'Jennifer Aniston': 6, 'Katherine Heigl': 6, 'Morgan Freeman': 6, 'Clive Owen': 6, 'Kristen Bell': 5, 'Jennifer Lawrence': 5, 'Angelina Jolie': 5, 'Paul Rudd': 5, 'Chris Hemsworth': 5, 'Kevin Spacey': 5, 'Michael Douglas': 5, 'Jake Gyllenhaal': 5, 'Cate Blanchett': 5, 'Meryl Streep': 5, 'Patrick Wilson': 5, 'Clint Eastwood': 5, 'Mickey Rourke': 5, 'Robin Williams': 5, 'Aaron Eckhart': 5, 'Peter Sallis': 5, 'Keira Knightley': 5, 'Anne Hathaway': 5, 'Ryan Gosling': 5, 'Charlize Theron': 5, 'Sam Worthington': 4, 'Kate Winslet': 4, 'Tobey Maguire': 4, 'John Cusack': 4, 'Chris Evans': 4, 'Jay Baruchel': 4, 'Dennis Quaid': 4, 'James Franco': 4, 'Jamie Foxx': 4, 'Brendan Fraser': 4, 'Michael J. Fox': 4, 'Tom Hardy': 4, 'Nicole Kidman': 4, 'Julia Roberts': 4, 'Robert De Niro': 4, 'Bill Murray': 4, 'Ellen Page': 4, 'Jessica Alba': 4, 'Channing Tatum': 4, 'Jodie Foster': 4, 'Naomi Watts': 4, 'Wesley Snipes': 4, 'Halle Berry': 4, 'Kate Beckinsale': 4, 'Helen Mirren': 4, 'Sean Penn': 4, 'Edward Norton': 4, 'Rachel Weisz': 4, 'Emily Browning': 4, 'Luke Wilson': 4, 'Diane Lane': 4, 'Hilary Duff': 4, 'Hilary Swank': 4, 'Jason Bateman': 4, 'Trey Parker': 4, 'Julianne Moore': 4, 'Evan Rachel Wood': 4, 'Michael Fassbender': 4, 'Alec Baldwin': 4, 'Kevin Conroy': 4, 'Mark Hamill': 3, 'Tommy Lee Jones': 3, 'Neil Patrick Harris': 3, 'Scott Weinger': 3, 'John C. Reilly': 3, 'Colin Firth': 3, 'Jason Lee': 3, 'Natalie Portman': 3, 'John Travolta': 3, 'Shailene Woodley': 3, 'Kristen Wiig': 3, 'Jeremy Renner': 3, 'Hugh Grant': 3, 'Bill Nighy': 3, 'Sharlto Copley': 3, 'Katie Featherston': 3, 'Jonah Hill': 3, 'Asa Butterfield': 3, 'Kevin James': 3, 'Uma Thurman': 3, 'Miles Teller': 3, 'Dane Cook': 3, 'Jessica Chastain': 3, 'Tobin Bell': 3, 'Al Pacino': 3, 'Kate Hudson': 3, 'Lindsay Lohan': 3, 'Dakota Fanning': 3, 'Guy Pearce': 3, 'Adrien Brody': 3, 'Rachel McAdams': 3, 'Robert Pattinson': 3, 'Paul Giamatti': 3, 'Kodi Smit-McPhee': 3, 'Eddie Murphy': 3, 'Emile Hirsch': 3, 'Kirsten Dunst': 3, 'Simon Pegg': 3, 'Jennifer Lopez': 3, 'Billy Bob Thornton': 3, 'Olivia Wilde': 3, 'Saoirse Ronan': 3, 'Jude Law': 3, 'Jennifer Garner': 3, 'Emily Blunt': 3, 'Ethan Hawke': 3, 'Mae Whitman': 3, 'Hayden Panettiere': 3, 'Sarah Michelle Gellar': 3, 'Michael Moore': 3, 'Danny Trejo': 3, 'Anton Yelchin': 3, 'Gwyneth Paltrow': 3, 'Ryan Kwanten': 3, 'Susan Sarandon': 3, 'John Cena': 3, 'Charlotte Gainsbourg': 3, 'Eric Bana': 3, 'Riz Ahmed': 3, 'Michael Shannon': 3, 'Steve Coogan': 3, 'Leighton Meester': 3, 'George Carlin': 3, 'Chris Pratt': 2, 'Ian McKellen': 2, 'Martin Freeman': 2, 'Paul Walker': 2, 'Jonathan Taylor Thomas': 2, 'Andrew Garfield': 2, 'Ray Romano': 2, 'Zachary Levi': 2, 'John Goodman': 2, 'Aaron Taylor-Johnson': 2, 'Andy Serkis': 2, 'Scarlett Johansson': 2, 'Sarah Jessica Parker': 2, 'Idris Elba': 2, \"Dylan O'Brien\": 2, 'Patrick Dempsey': 2, 'Sam Rockwell': 2, 'Sacha Baron Cohen': 2, 'Tim Allen': 2, 'Marlon Brando': 2, 'Jason Biggs': 2, 'Hayden Christensen': 2, 'Jason Segel': 2, 'Britt Robertson': 2, 'Vince Vaughn': 2, 'Nicholas Hoult': 2, 'Timothy Dalton': 2, 'Mila Kunis': 2, 'Russell Brand': 2, 'Jack Nicholson': 2, 'Logan Lerman': 2, 'Justin Timberlake': 2, 'Richard Gere': 2, 'Amy Adams': 2, 'Emma Bell': 2, 'Alex Pettyfer': 2, 'Antonio Banderas': 2, 'Madonna': 2, 'Michael B. Jordan': 2, 'Josh Hutcherson': 2, 'Zac Efron': 2, 'Emma Stone': 2, 'James Marsden': 2, 'Patrick Stewart': 2, 'Tina Fey': 2, 'Marlon Wayans': 2, 'Greg Kinnear': 2, 'David Arquette': 2, 'Anthony Hopkins': 2, 'Amanda Seyfried': 2, 'Mark Ruffalo': 2, 'Martin Sheen': 2, 'Matthew Broderick': 2, 'Paul Bettany': 2, 'Steve Martin': 2, 'Donald Pleasence': 2, 'Jim Sturgess': 2, 'Dustin Hoffman': 2, 'Camilla Belle': 2, 'Freddie Highmore': 2, 'Andy Samberg': 2, 'Adam Scott': 2, 'Zoe Saldana': 2, 'William H. Macy': 2, 'Thomas Jane': 2, 'Charlie Sheen': 2, 'Shannyn Sossamon': 2, 'Reese Witherspoon': 2, 'Michael Cera': 2, 'Joaquin Phoenix': 2, 'Blake Lively': 2, 'Jon Favreau': 2, 'Drew Barrymore': 2, 'Mandy Moore': 2, 'Ice Cube': 2, 'Jon Hamm': 2, 'Mel Brooks': 2, 'Don Cheadle': 2, 'Katie Holmes': 2, 'Ashton Kutcher': 2, 'Brie Larson': 2, 'Michelle Williams': 2, 'Casey Affleck': 2, 'Josh Brolin': 2, 'RenÃ©e Zellweger': 2, 'Frankie Muniz': 2, 'Paul Dano': 2, 'Carey Mulligan': 2, 'Ben Foster': 2, 'Brendan Gleeson': 2, 'Cuba Gooding Jr.': 2, 'Sid Haig': 2, 'Brittany Snow': 2, 'Alan Cumming': 2, 'Angus Scrimm': 2, 'Jeremy Irons': 2, 'James Woods': 2, 'Sara Paxton': 2, 'Ray Stevenson': 2, 'Eva Longoria': 2, 'Rainn Wilson': 2, 'Danielle Panabaker': 2, 'Ralph Fiennes': 2, 'Werner Herzog': 2, 'Alexis Bledel': 2, 'Glenn Close': 2, 'Abbie Cornish': 2, 'Matt Bomer': 2, 'Ben Kingsley': 2, 'Lyndsy Fonseca': 2, 'Kevin Kline': 2, 'Sean Bean': 2, 'Zooey Deschanel': 2, 'Kaya Scodelario': 2, 'Juno Temple': 2, 'Danielle Harris': 2, 'Carla Gugino': 2, 'Selena Gomez': 2, 'Stephen Dorff': 2, 'Bill Oberst Jr.': 2, 'Anna Paquin': 2, 'Sienna Miller': 2, 'Amber Heard': 2, 'Benicio del Toro': 2, 'Noah Wyle': 2, 'Jeff Daniels': 2, 'Tony Goldwyn': 2, 'Jessica Lowndes': 2, 'Vinnie Jones': 2, 'ZoÃ« Bell': 2, 'Tara Strong': 2, 'Ian Ziering': 2, 'Danny Dyer': 2, 'Adrian Pasdar': 2, 'Christopher McDonald': 2, 'Sam Neill': 1, 'John Leguizamo': 1, 'Albert Brooks': 1, 'Amy Poehler': 1, 'Henry Thomas': 1, 'Ed Asner': 1, 'Henry Cavill': 1, 'Scott Adsit': 1, 'Craig T. Nelson': 1, 'Patton Oswalt': 1, 'Jim Caviezel': 1, 'Suraj Sharma': 1, 'Dakota Johnson': 1, 'Larry the Cable Guy': 1, 'Kelly Macdonald': 1, 'Dan Castellaneta': 1, 'Ben Burtt': 1, 'Megan Fox': 1, 'Macaulay Culkin': 1, 'Roy Scheider': 1, 'Will Arnett': 1, 'Linda Blair': 1, 'Taron Egerton': 1, 'Noomi Rapace': 1, 'Garrett Hedlund': 1, 'Dev Patel': 1, \"Paige O'Hara\": 1, 'Jamie Bell': 1, 'Jim Parsons': 1, 'Jaden Smith': 1, 'Sullivan Stapleton': 1, 'Raymond Ochoa': 1, 'Gary Oldman': 1, 'Noah Ringer': 1, 'Zach Braff': 1, 'Tom Kenny': 1, 'Chris Pine': 1, 'Jerry Seinfeld': 1, 'Taylor Kitsch': 1, 'Anika Noni Rose': 1, 'Joel Courtney': 1, 'Annabelle Wallis': 1, 'Ed Speleers': 1, 'Heather Donahue': 1, 'Noah Schnapp': 1, 'Bill Hader': 1, 'Joel Kinnaman': 1, 'Melissa McCarthy': 1, 'Benedict Cumberbatch': 1, 'Michael Jordan': 1, \"Chris O'Donnell\": 1, 'Eminem': 1, 'Jennifer Grey': 1, 'Zach Galifianakis': 1, 'Orlando Bloom': 1, 'Jason Clarke': 1, \"O'Shea Jackson Jr.\": 1, 'Dan Aykroyd': 1, 'Martin Lawrence': 1, 'Ray Winstone': 1, 'Bobby Campo': 1, 'Heath Ledger': 1, 'Tom Hiddleston': 1, 'Sanaa Lathan': 1, 'Lizzy Caplan': 1, \"Jack O'Connell\": 1, 'Zhang Ziyi': 1, 'Rowan Atkinson': 1, 'Rick Malambri': 1, 'Lucas Black': 1, 'Miley Cyrus': 1, 'James Cromwell': 1, 'John Belushi': 1, 'Emily Barclay': 1, 'Claire Danes': 1, 'Edgar RamÃ\\xadrez': 1, 'Jean Dujardin': 1, 'Ben Whishaw': 1, 'Jackie Chan': 1, 'Charlie Rowe': 1, 'Damian Lewis': 1, 'Liev Schreiber': 1, 'Jackie Earle Haley': 1, 'Anna Kendrick': 1, 'Tim Curry': 1, 'Johnny Knoxville': 1, 'Ioan Gruffudd': 1, 'Isla Fisher': 1, 'Sigourney Weaver': 1, 'Dermot Mulroney': 1, 'Randy Quaid': 1, 'Sarah Polley': 1, 'Fernanda Andrade': 1, 'Jensen Ackles': 1, 'Max Records': 1, 'Timothy Olyphant': 1, 'Ron Perlman': 1, 'Olivia DeJonge': 1, 'Justin Bieber': 1, 'Radha Mitchell': 1, 'Jane Levy': 1, 'Jeff Goldblum': 1, 'Emma Thompson': 1, 'Catherine Zeta-Jones': 1, 'Derek Mears': 1, 'Alison Lohman': 1, 'Lily Collins': 1, 'Cher': 1, 'Simon Bird': 1, 'Michael Angarano': 1, 'Ryan Guzman': 1, 'Sean Maguire': 1, 'Portia Doubleday': 1, 'Elisabeth Shue': 1, 'ChloÃ« Grace Moretz': 1, 'Liv Tyler': 1, 'Rupert Friend': 1, 'Gaspard Ulliel': 1, 'Taylor Lautner': 1, 'George Lazenby': 1, 'Charlie Tahan': 1, 'Roselyn SÃ¡nchez': 1, 'Jay Hernandez': 1, 'Chris Riggi': 1, 'Malcolm McDowell': 1, 'Steven Seagal': 1, 'Alex D. Linz': 1, 'Burt Reynolds': 1, 'Virginia Madsen': 1, 'Roger Allam': 1, 'Parminder Nagra': 1, 'Josh Hartnett': 1, 'BeyoncÃ© Knowles': 1, 'Khalid Abdalla': 1, 'Ed Skrein': 1, 'Zachary Gordon': 1, 'Anna Faris': 1, 'Aamir Khan': 1, 'Aaron Stanford': 1, 'Diane Keaton': 1, 'Chris Brown': 1, 'Ken Watanabe': 1, 'Thomas Kretschmann': 1, 'Priscilla C. Shirer': 1, 'Ashley Bell': 1, 'Emily Deschanel': 1, 'Eric Balfour': 1, 'Kristen Connolly': 1, 'Jason David Frank': 1, 'Gabourey Sidibe': 1, 'Kenny Wormald': 1, 'Rooney Mara': 1, 'Stephen Rea': 1, 'Rain': 1, 'Justin Fletcher': 1, 'Mark Addy': 1, 'Carter Jenkins': 1, 'Thomas Horn': 1, 'Sean Hayes': 1, 'David Strathairn': 1, 'Jane Fonda': 1, 'Jet Li': 1, 'Bryan Cranston': 1, 'Alice Eve': 1, 'Judi Dench': 1, 'Philip Seymour Hoffman': 1, 'Jason Momoa': 1, 'AnnaSophia Robb': 1, 'Hrithik Roshan': 1, 'Al Gore': 1, 'Tom Welling': 1, 'John Cho': 1, 'Jamal Woolard': 1, 'Cassidy Gifford': 1, 'Steven Pasquale': 1, 'Sean Faris': 1, 'Jada Pinkett Smith': 1, 'Maggie Smith': 1, 'Dan Fogler': 1, 'Laurence Olivier': 1, 'Karl Urban': 1, 'Minka Kelly': 1, 'Anya Taylor-Joy': 1, 'Perdita Weeks': 1, 'Scout Taylor-Compton': 1, 'Gabriel Macht': 1, 'Seth Green': 1, 'Johanna Braddy': 1, 'Konstantin Khabenskiy': 1, 'Paula Patton': 1, 'Kiefer Sutherland': 1, 'Kimberly Elise': 1, 'Domhnall Gleeson': 1, 'Tom Sturridge': 1, 'Alex Kendrick': 1, 'Andy Lau': 1, 'Chris Messina': 1, 'Kirk Cameron': 1, 'Gina Carano': 1, 'Chris Cooper': 1, 'Katy Perry': 1, 'Jonny Weston': 1, 'Chiwetel Ejiofor': 1, 'Anthony Rapp': 1, 'Method Man': 1, 'Mickey Rooney': 1, 'Kevin Sorbo': 1, 'Dan Green': 1, 'Timothy Bottoms': 1, 'Miriam Margolyes': 1, 'Mary Elizabeth Winstead': 1, 'Viggo Mortensen': 1, 'Janet Jackson': 1, \"Chris O'Neil\": 1, 'Jake T. Austin': 1, 'Danny McBride': 1, 'Mark Strong': 1, 'Ryan Robbins': 1, 'Jamie Lee Curtis': 1, 'Omar Metwally': 1, 'Jeffrey Dean Morgan': 1, 'Stephen Baldwin': 1, 'Kate del Castillo': 1, 'Emma Roberts': 1, 'Jamel Debbouze': 1, 'Charlotte Rampling': 1, 'Adrienne Barbeau': 1, 'Keith Gordon': 1, 'LL Cool J': 1, 'QuvenzhanÃ© Wallis': 1, 'Chi Cao': 1, 'Glen Hansard': 1, 'Nia Vardalos': 1, 'Vera Farmiga': 1, 'Geoffrey Rush': 1, 'Keke Palmer': 1, 'Josh Zuckerman': 1, 'Robert Redford': 1, \"Nicholas D'Agosto\": 1, 'Jesse McCartney': 1, 'Shameik Moore': 1, 'Ryan Phillippe': 1, 'Molly Ringwald': 1, 'Meg Ryan': 1, 'William Petersen': 1, 'Bill Paxton': 1, 'Caitlin Stasey': 1, 'Tye Sheridan': 1, 'Regina Advento': 1, 'Jim Cummings': 1, 'Sally Field': 1, 'Fred Ward': 1, 'Chevy Chase': 1, 'Matt Lanter': 1, 'Natasha Henstridge': 1, 'Jonathan Cherry': 1, 'Chris Rock': 1, 'Samuel Anderson': 1, 'Felicity Huffman': 1, 'Matthew Goode': 1, 'Roddy Piper': 1, 'Oscar Isaac': 1, 'Barry Pepper': 1, 'Marcello Mastroianni': 1, 'Kate Bosworth': 1, 'Sean Patrick Flanery': 1, 'Sarah Drew': 1, 'James Blackwell': 1, 'Aimee Teegarden': 1, 'Presley Chweneyagae': 1, 'John Jarratt': 1, 'Ashley Greene': 1, 'David Belle': 1, 'Frances Conroy': 1, 'Josh Stewart': 1, 'John Cleese': 1, 'Jon Voight': 1, 'Tony Jaa': 1, 'Amy Winehouse': 1, 'Ayrton Senna': 1, 'Thomas Turgoose': 1, 'Julia Dietze': 1, 'James Purefoy': 1, 'Tupac Shakur': 1, 'Ben Stein': 1, 'James Le Gros': 1, 'David Duchovny': 1, 'Forest Whitaker': 1, 'Rick D. Wasserman': 1, 'Topher Grace': 1, 'Neil Dudgeon': 1, 'Anne Heche': 1, 'Essie Davis': 1, 'Bruce Greenwood': 1, 'Keir Gilchrist': 1, 'Seann William Scott': 1, 'Will Forte': 1, 'Kal Penn': 1, 'Heike Makatsch': 1, 'Marc Worden': 1, 'David Boreanaz': 1, 'Susan Ward': 1, 'Vanessa Hudgens': 1, 'Michelle Monaghan': 1, 'Graham Chapman': 1, 'Nathan Meister': 1, 'Banksy': 1, 'Brandon Routh': 1, 'Taylor Schilling': 1, 'Javier Bardem': 1, 'Jane Akre': 1, 'Whitney Able': 1, 'Alan Rickman': 1, 'James Cagney': 1, 'Nick Frost': 1, 'Jason Flemyng': 1, 'Clifton Collins, Jr.': 1, 'Catinca Untaru': 1, 'Aubrey Plaza': 1, 'Elizabeth Olsen': 1, 'Ali Suliman': 1, 'Matthew Fox': 1, 'Frank Langella': 1, 'Sean Gullette': 1, 'Mark Duplass': 1, \"Brian O'Halloran\": 1, 'Rashida Jones': 1, 'Melanie Lynskey': 1, 'Megan Faccio': 1, 'Luke Kirby': 1, 'Lake Bell': 1, 'Philippe Petit': 1, 'Malala Yousafzai': 1, 'Rebecca Hall': 1, 'Jiro Ono': 1, 'Matt Dillon': 1, 'Piper Perabo': 1, 'Robert Duvall': 1, 'Kristanna Loken': 1, 'Brit Marling': 1, 'Aubrey Peeples': 1, 'Hugh Dancy': 1, 'Tracey Ullman': 1, 'Marie Avgeropoulos': 1, 'Madeline Carroll': 1, \"Juan 'Doc Restrepo\": 1, 'Bill Cunningham': 1, 'Sheri Moon Zombie': 1, 'Joe Chisholm': 1, 'John Lennon': 1, 'Andy McAvin': 1, 'Woody Harrelson': 1, 'John Malkovich': 1, 'LeBron James': 1, 'Gemma Arterton': 1, 'Craig Roberts': 1, 'Laura Dern': 1, 'Christoph Waltz': 1, 'Ally Sheedy': 1, 'Patricia Arquette': 1, 'Rutger Hauer': 1, 'Lee Fulkerson': 1, 'Jonathan Velasquez': 1, 'Sam Shepard': 1, 'Peter Berg': 1, 'Rory Culkin': 1, 'Brenton Thwaites': 1, 'Martijn Lakemeier': 1, 'Shane West': 1, 'Bob Belleville': 1, 'Gabe Nevins': 1, 'Tom Cullen': 1, 'Adam Butcher': 1, 'Billy Connolly': 1, 'Shane Carruth': 1, 'Aasif Mandvi': 1, 'Robbie Robertson': 1, 'Zana MarjanoviÄ‡': 1, 'Michael Jai White': 1, 'Janeane Garofalo': 1, 'Brian Keith Allen': 1, 'Macon Blair': 1, 'J.K. Simmons': 1, 'Greta Gerwig': 1, 'Cindy Baer': 1, 'Josh Radnor': 1, 'Jenna Dewan': 1, \"Oliver O'Grady\": 1, 'Vik Muniz': 1, 'Jeremy Irvine': 1, 'Jack Rebney': 1, 'Bruce Campbell': 1, 'Aml Ameen': 1, 'Jon Roberts': 1, 'Alan van Sprang': 1, 'Matthew Le Nevez': 1, 'Joel Murray': 1, 'Margot Robbie': 1, 'Vincent Gallo': 1, 'Leonor Varela': 1, 'Zoe Sloane': 1, 'Evan Glodell': 1, 'Calvin Lee Reeder': 1, 'Thomas F. Duffy': 1, 'Luke Evans': 1, 'Nicholas Braun': 1, 'FÃ©lix de Givry': 1, 'Michael Sheen': 1, 'Rosanna Arquette': 1, 'Asia Argento': 1, 'Samantha Morton': 1, 'Liya Kebede': 1, 'Krysten Ritter': 1, 'Willem Dafoe': 1, 'Analeigh Tipton': 1, 'Rachel Melvin': 1, 'David Hyde Pierce': 1, 'JosÃ©phine de la Baume': 1, 'Joshua Burge': 1, 'Carlos Santos': 1, 'Lucas Pittaway': 1, 'Muhammad Ali': 1, 'Stanley Tucci': 1, 'Joe Conti': 1, 'Salman Khan': 1, 'Bobby Hackney': 1, 'Matthew Macfadyen': 1, 'James Rolleston': 1, 'Jeremy Suarez': 1, \"Renee O'Connor\": 1, 'Michael Copon': 1, 'Olivia Munn': 1, 'Catherine Steadman': 1, 'Rachel Bilson': 1, 'Diana Glenn': 1, 'Doug Sweetland': 1, 'Peter Sarsgaard': 1, 'Maria Bello': 1, 'Jeremy Gardner': 1, 'Samantha Mathis': 1, 'Brian Austin Green': 1, 'Brandon Baker': 1, 'Valeria Bertuccelli': 1, 'David Hewlett': 1, 'Eva Mendes': 1, 'Tim Johnson': 1, 'Emma Watson': 1, 'AnnaLynne McCord': 1, 'Tara Flynn': 1, 'Debby Ryan': 1, 'Caleb Landry Jones': 1, 'Caity Lotz': 1, 'Romola Garai': 1, 'Alistair Abell': 1, 'Rachel Bernard': 1, 'Alan Arkin': 1, 'Adam Baldwin': 1, 'Bill Blakemore': 1, 'Joey King': 1, 'Jefferson Brown': 1, 'Ricci Harnett': 1, 'Chase Williamson': 1, 'LluÃ\\xads Homar': 1, 'Zack Ward': 1, 'Laura Bailey': 1, 'Fred Jaggi': 1, 'Lea Thompson': 1, 'Missy Peregrym': 1, 'Len Cariou': 1, 'Gavin Brown': 1, 'Dennis Coffey': 1, 'Jacob Zachar': 1, 'Mel Raido': 1, 'ClÃ©mence PoÃ©sy': 1, 'David Spade': 1, 'Abigail Hardingham': 1, 'Jed Brophy': 1, 'Rose McGowan': 1, 'Michael Pollan': 1, 'Maisie Williams': 1, 'Ana Golja': 1, 'Elliot Cowan': 1, 'Daniel MacPherson': 1, 'Gavin Andresen': 1, 'Thomas Stroppel': 1, 'Charisma Carpenter': 1, 'Kat Dennings': 1, 'Cristiano Ronaldo': 1, 'Famke Janssen': 1, 'Shohreh Aghdashloo': 1, 'Demi Lovato': 1, 'David Lee Smith': 1, 'Haley Joel Osment': 1, 'Carmen Electra': 1, 'Marshall Allman': 1, 'Selma Blair': 1, 'Julia Garner': 1, 'Blythe Auffarth': 1, 'Milo Cawthorne': 1, 'Georgia Groome': 1, 'Richard Coyle': 1, 'Katharine Isabelle': 1, 'Emily VanCamp': 1, 'Barbara Crampton': 1, 'Mark Webber': 1, 'Joseph Mawle': 1, 'Pierre-Marie Escourrou': 1, 'John Kahrs': 1, 'David Schofield': 1, 'Jim Henson': 1, 'Kyle MacLachlan': 1, 'Cindy Sampson': 1, 'Y.K. Kim': 1, 'Peter Weller': 1, 'Luke Mably': 1, 'Brian Narelle': 1, 'Melissa Joan Hart': 1, 'Thomas Mann': 1, 'Jaleel White': 1, 'Pamela Springsteen': 1, 'Werner SchÃ¼nemann': 1, 'Paul Logan': 1, 'Francis Ford Coppola': 1, 'Nicholas Downs': 1, 'Jeffrey Combs': 1, 'Naomie Harris': 1, 'Robert Forster': 1, 'Marc Donato': 1, 'Toni Collette': 1, 'Dylan Walsh': 1, 'Archie Panjabi': 1, 'Rumer Willis': 1, 'Lena Dunham': 1, 'Dolly Read': 1, 'Nigel Terry': 1, 'Amanda Fuller': 1, 'Keri Russell': 1, 'Chris Massoglia': 1, 'John Carpenter': 1, 'Luci Christian': 1, 'Claude Legault': 1, 'Christian Cooke': 1, 'Robert Plant': 1, 'Austin Stoker': 1, 'Seth MacFarlane': 1, 'Matthew Modine': 1, 'MiloÅ¡ BikoviÄ‡': 1, 'Duane Martin': 1, 'Bayar': 1, 'MyAnna Buring': 1, 'Colm Meaney': 1, 'Christopher Reeve': 1, 'Alyssa Milano': 1, 'Manuel Camacho': 1, 'Indiana Evans': 1, 'Summer Glau': 1, 'Evan McGuire': 1, 'David Sandberg': 1, 'Jennifer Love Hewitt': 1, 'Tony Fucile': 1, 'Nolan North': 1, 'Diana Kaarina': 1, 'Michael Laurino': 1, 'Kevin Hart': 1, 'Marc Velasco': 1, 'Natasha Loring': 1, 'Craig Hall': 1, 'Adam Brooks': 1, 'Michael McKiddy': 1, 'DJ Qualls': 1, 'Tom Hulce': 1, 'Arisara Thongborisut': 1, 'William Forsythe': 1, 'Josh Fox': 1, 'Casper Van Dien': 1, 'Christopher Meloni': 1, 'James Corden': 1, 'William Hurt': 1, 'Adrienne Pickering': 1, 'Mark Harmon': 1, 'Juliette Lewis': 1, 'Michael Jackson': 1, 'Kang-ho Song': 1, 'Rafael Amaya': 1, 'Michael J. Nelson': 1, 'Mikael Persbrandt': 1, 'Odette Annable': 1, 'Matthew Mercer': 1, 'Eva Birthistle': 1, 'Edmund Kingsley': 1, 'Bill Maher': 1, 'Vyacheslav Fetisov': 1, 'Sean Rogerson': 1, 'Joey Lauren Adams': 1, 'Danielle Dallacco': 1, 'Grumpy Cat': 1, 'David Morrissey': 1, 'Toby Jones': 1, 'Gabriel Byrne': 1, 'Nathan Fillion': 1, 'Leo Fafard': 1, 'Christian Howard': 1, 'Michael York': 1, 'Eugene Levy': 1, 'Desiree Hall': 1, 'Jason Sudeikis': 1, 'Alex Essoe': 1, 'James D. Rolfe': 1, 'Chris Wylde': 1, 'Kevin Durand': 1, 'Sol Heras': 1, 'Helen Hunt': 1, 'Joss Whedon': 1, 'Nolan Bushnell': 1, 'Lisa Kudrow': 1, 'Jenny McCarthy': 1, 'Joan Allen': 1, 'Michelle Fairley': 1, 'Alex Michaeletos': 1, 'Calista Flockhart': 1, 'Elizabeth Roberts': 1, 'Zoey Deutch': 1, 'Cam Gigandet': 1, 'Martha Higareda': 1, \"Chris O'Dowd\": 1, 'Richard Madden': 1, 'Ryan Ochoa': 1, 'Dennis Bateman': 1, 'Gry Bay': 1, 'Jodelle Ferland': 1, 'Kate Nauta': 1, 'Alexis DÃ\\xadaz de Villegas': 1, 'Cliff Curtis': 1, 'Jay Gallagher': 1, 'Michael Landes': 1, 'Joseph Cross': 1, 'Dougray Scott': 1, 'Ted Levine': 1, 'Kelly Sheridan': 1, 'Chandler Canterbury': 1, 'Scott Bakula': 1, 'Damon Gameau': 1, 'Dominic Cooper': 1, 'Katie Cassidy': 1, 'Hank Azaria': 1, 'Trent Reznor': 1, 'Tyler Perry': 1, 'Ben McKenzie': 1, 'Richard Dreyfuss': 1, 'Katherine Sigimund': 1, 'Ashley Judd': 1, 'Matthew Marsden': 1, 'Ross Lynch': 1, 'Scott Marlowe': 1, 'Laurence Fishburne': 1, 'Hailee Steinfeld': 1, 'Emmanuelle BÃ©art': 1, 'Mark Stanley': 1, 'Tara Reid': 1, 'Haley Lu Richardson': 1, 'Bruce Boxleitner': 1, 'Danielle Chuchran': 1, 'Michael J. Willett': 1, 'China Anne McClain': 1, 'Alesandra Durham': 1, 'AJ Michalka': 1, 'Emily Alyn Lind': 1, 'Richard Dawkins': 1, 'Don Henley': 1, 'Daisy Keeping': 1, 'Genevieve Bachman': 1, 'Marty Adams': 1, 'Joicie Appell': 1, 'Clancy Brown': 1, 'Devon Werkheiser': 1, 'Harry Styles': 1, 'Michael Howe': 1, 'BartÅ‚omiej Topa': 1, 'Ben Cross': 1, 'Ian Somerhalder': 1, 'Isaac C. Singleton Jr.': 1, 'Valentino Rossi': 1, 'William Shatner': 1, 'Lambert Wilson': 1, 'Joshua Jackson': 1, 'Talia Zucker': 1, \"Steve 'Lips' Kudlow\": 1, 'Marianna Palka': 1, 'Amy Acker': 1, 'Ian Brighthope': 1, 'Kevin Costner': 1, 'Robert Sapolsky': 1, 'Nick Swardson': 1, 'Gunner Wright': 1, 'Lady Gaga': 1, 'Artie Lange': 1, 'Denise Richards': 1, 'Josh Hamilton': 1, 'Charlie Creed-Miles': 1, 'Jonathan Bennett': 1, 'Mick Jagger': 1, 'Kel Mitchell': 1, 'Jared Kusnitz': 1, 'Lior Ashkenazi': 1, 'Aaron Abrams': 1, 'Johnny Pacar': 1, 'Anne Judson-Yager': 1, 'Gore Vidal': 1, 'Nigel Anthony': 1, 'Maeve Dermody': 1, 'Kurt Cobain': 1, 'Beau Mirchoff': 1, 'Dave Grohl': 1, 'Sterling Knight': 1, 'Amy Schumer': 1, 'Stephen McHattie': 1, 'Christopher Backus': 1, 'Sarah Thompson': 1, 'Jo Hartley': 1, 'Eihi Shiina': 1, 'Rob Lowe': 1, \"Paul O'Brien\": 1, 'Leon Cain': 1, 'Dominic Monaghan': 1, 'Kori Cioca': 1, 'Larry David': 1, 'Abigail Breslin': 1, 'Katheryn Winnick': 1, 'Charlee Danielson': 1, 'Jeremy Northam': 1, 'Sebastian Cabot': 1, 'Christina Ricci': 1, 'John Hurt': 1, 'Joe Cross': 1, 'Cillian Murphy': 1, 'Alysa King': 1, 'Christopher Lloyd': 1, 'Eric Lively': 1, 'Toby Kebbell': 1, 'Emma Caulfield': 1, 'Nisreen Faour': 1, 'Anita Briem': 1, 'Janette Armand': 1, 'Xavier Samuel': 1, 'Ben Mendelsohn': 1, \"Morgana O'Reilly\": 1, 'Kevin Bacon': 1, 'Eric Cantona': 1, 'J. Michael Trautmann': 1, 'Nas': 1, 'Mark Hapka': 1, 'Sophie Monk': 1, 'Stephen Merchant': 1, 'Donald Glover': 1, 'John Paul Tremblay': 1, 'David Jason': 1, 'French Stewart': 1, 'Patrick Fugit': 1, 'Josh Lucas': 1, 'Ray Wise': 1, 'Matt Bushell': 1, 'Kiele Sanchez': 1, 'Jim Jefferies': 1, 'Adele': 1, 'Val Kilmer': 1, 'David Tennant': 1, 'Darren Criss': 1, 'Daniel Sunjata': 1, 'Michael Clarke Duncan': 1, 'Joel David Moore': 1, 'David Attenborough': 1, 'Bel DeliÃ¡': 1, 'Hale Appleman': 1, 'James Badge Dale': 1})\n"
     ]
    }
   ],
   "source": [
    "#Explore the relationship between popularity and cast\n",
    "c_list = dfp['cast'].tolist()\n",
    "c = [i.split(' ,')[0] for i in cast_list]\n",
    "print (Counter(c))"
   ]
  },
  {
   "cell_type": "code",
   "execution_count": 76,
   "metadata": {},
   "outputs": [
    {
     "name": "stdout",
     "output_type": "stream",
     "text": [
      "Counter({'John Carpenter': 17, 'Steven Spielberg': 11, 'Steven Soderbergh': 11, 'Peter Jackson': 8, 'Ridley Scott': 8, 'Clint Eastwood': 8, 'Robert Zemeckis': 8, 'Christopher Nolan': 7, 'Ron Howard': 7, 'Martin Scorsese': 7, 'David Fincher': 7, 'Paul W.S. Anderson': 7, 'Michael Bay': 6, 'Francis Lawrence': 6, 'Quentin Tarantino': 6, 'Francis Ford Coppola': 6, 'James Wan': 5, 'Gore Verbinski': 5, 'Tim Burton': 5, 'Chris Columbus': 5, 'George Lucas': 5, 'Sam Raimi': 5, 'Zack Snyder': 5, 'Peter Berg': 5, 'Martin Campbell': 5, 'Marc Forster': 5, 'Guy Ritchie': 5, 'Darren Aronofsky': 5, 'Dennis Dugan': 5, 'Rob Reiner': 5, 'F. Gary Gray': 5, 'John Glen': 5, 'Guy Hamilton': 5, 'Brian Robbins': 5, 'Rob Zombie': 5, 'Kevin Smith': 5, 'James Cameron': 4, 'David Yates': 4, 'Mike Newell': 4, 'Justin Lin': 4, 'Jon Favreau': 4, 'Phil Lord,Christopher Miller': 4, 'Todd Phillips': 4, 'Paul Greengrass': 4, 'James Mangold': 4, 'Shawn Levy': 4, 'Guillermo del Toro': 4, 'Doug Liman': 4, 'Bobby Farrelly,Peter Farrelly': 4, 'Gavin Hood': 4, 'Gus Van Sant': 4, 'Judd Apatow': 4, 'Baltasar KormÃ¡kur': 4, 'Mikael HÃ¥fstrÃ¶m': 4, 'Adam Shankman': 4, 'Jason Friedberg,Aaron Seltzer': 4, 'Alex Kendrick': 4, 'David Cronenberg': 4, 'Michael Winterbottom': 4, 'Uwe Boll': 4, 'Barry Levinson': 4, 'Don Coscarelli': 4, 'Nick Park': 4, 'J.J. Abrams': 3, 'Sam Mendes': 3, 'Rob Marshall': 3, 'Roland Emmerich': 3, 'Marc Webb': 3, 'Bryan Singer': 3, 'Bill Condon': 3, 'David Slade': 3, 'Brad Bird': 3, 'Carlos Saldanha': 3, 'Barry Sonnenfeld': 3, 'Raja Gosnell': 3, 'Peyton Reed': 3, 'Jay Roach': 3, 'Jonathan Liebesman': 3, 'Brad Peyton': 3, 'Jon Turteltaub': 3, 'William Friedkin': 3, 'Stephen Sommers': 3, 'Matthew Vaughn': 3, 'Catherine Hardwicke': 3, 'McG': 3, 'Tim Hill': 3, 'Harald Zwart': 3, 'M. Night Shyamalan': 3, 'Simon West': 3, 'John Moore': 3, 'Tony Gilroy': 3, 'Sylvester Stallone': 3, 'Larry Charles': 3, 'Walt Becker': 3, 'David O. Russell': 3, 'Sean Anders': 3, 'Ben Affleck': 3, 'Jason Reitman': 3, 'Michel Gondry': 3, 'Tarsem Singh': 3, 'Nancy Meyers': 3, 'Lewis Gilbert': 3, 'Robert Luketic': 3, 'Len Wiseman': 3, 'David R. Ellis': 3, 'Ken Kwapis': 3, 'Joe Carnahan': 3, 'Adam McKay': 3, 'Greg Mottola': 3, 'Jon M. Chu': 3, 'George Clooney': 3, 'Will Gluck': 3, 'Mark Neveldine,Brian Taylor': 3, 'D.J. Caruso': 3, 'Terence Young': 3, 'John Madden': 3, 'Oliver Stone': 3, 'Kathryn Bigelow': 3, 'James McTeigue': 3, 'Tom Tykwer': 3, 'Richard Linklater': 3, 'Mark Waters': 3, 'Joe Wright': 3, 'David Twohy': 3, 'Ruben Fleischer': 3, 'Nicholas Stoller': 3, 'Miguel Arteta': 3, 'Spike Jonze': 3, 'Paul Haggis': 3, 'John Singleton': 3, 'Lasse HallstrÃ¶m': 3, 'Dominic Sena': 3, 'Neil Jordan': 3, 'Peter Hedges': 3, 'John Erick Dowdle': 3, 'Jonathan Levine': 3, 'Trey Parker': 3, 'Rian Johnson': 3, 'Lee Toland Krieger': 3, 'Todd Haynes': 3, 'Craig Gillespie': 3, 'Michael Moore': 3, 'Woody Allen': 3, 'Ned Benson': 3, 'Christopher Ray': 3, 'Lauren Montgomery': 3, 'Joss Whedon': 2, 'Pierre Coffin,Chris Renaud': 2, 'James Gunn': 2, 'Mike Mitchell': 2, 'Alfonso CuarÃ³n': 2, 'Chris Weitz': 2, 'Gary Ross': 2, 'Christopher McQuarrie': 2, 'Ang Lee': 2, 'Sam Taylor-Johnson': 2, 'Irvin Kershner': 2, 'Alejandro GonzÃ¡lez IÃ±Ã¡rritu': 2, 'Gareth Edwards': 2, 'Andrew Stanton': 2, 'Ron Clements,John Musker': 2, 'Tom Shadyac': 2, 'Rupert Wyatt': 2, 'Alan Taylor': 2, 'Brian De Palma': 2, 'Kenneth Branagh': 2, 'Tom Hooper': 2, 'Joseph Kosinski': 2, 'George Miller': 2, 'Gary Trousdale,Kirk Wise': 2, 'Joe Johnston': 2, 'Roger Michell': 2, 'Wes Ball': 2, 'Alex Proyas': 2, 'Noam Murro': 2, 'Peter Sohn': 2, 'David Frankel': 2, 'Olivier Megaton': 2, 'Anne Fletcher': 2, 'Gabriele Muccino': 2, 'Robert Schwentke': 2, 'Ivan Reitman': 2, 'Phillip Noyce': 2, 'Neil Burger': 2, 'Paul Feig': 2, 'Frank Darabont': 2, 'John R. Leonetti': 2, 'Nora Ephron': 2, 'Richard Curtis': 2, 'Chuck Russell': 2, 'Jon Hurwitz,Hayden Schlossberg': 2, 'Louis Leterrier': 2, 'Mark Steven Johnson': 2, 'Jake Kasdan': 2, 'Curtis Hanson': 2, 'Michael Mann': 2, 'Peter Weir': 2, 'Peter Hyams': 2, 'Neill Blomkamp': 2, 'Patrick Hughes': 2, 'Henry Joost,Ariel Schulman': 2, 'Dean Parisot': 2, 'Lana Wachowski,Lilly Wachowski': 2, 'Alexander Payne': 2, 'John Hamburg': 2, 'Matt Reeves': 2, 'Peter Chelsom': 2, 'Angelina Jolie': 2, 'Glenn Ficarra,John Requa': 2, 'Brett Ratner': 2, 'Pete Travis': 2, 'Jonathan Frakes': 2, 'Russell Mulcahy': 2, 'Duncan Jones': 2, 'Martin Brest': 2, 'Mathieu Kassovitz': 2, 'Darren Lynn Bousman': 2, 'Ryan Coogler': 2, 'Boaz Yakin': 2, 'Kevin Greutert': 2, 'Andy Tennant': 2, 'Rob Minkoff': 2, 'Jonathan Mostow': 2, 'Henry Selick': 2, 'Simon Wells': 2, 'Denis Villeneuve': 2, 'Roman Polanski': 2, 'Nick Cassavetes': 2, 'Jason Moore': 2, 'Gary Winick': 2, 'Jay Chandrasekhar': 2, 'Bennett Miller': 2, 'David Gordon Green': 2, 'Randall Wallace': 2, 'Patrick Lussier': 2, 'Jonathan Dayton,Valerie Faris': 2, 'Charles Martin Smith': 2, 'Marcus Nispel': 2, 'Tom McCarthy': 2, 'Ben Palmer': 2, 'Kevin Macdonald': 2, 'Brad Furman': 2, 'David Dobkin': 2, 'Alexandre Aja': 2, 'Kimberly Peirce': 2, 'Peter Webber': 2, 'Eli Roth': 2, 'Edgar Wright': 2, 'Kirk Jones': 2, 'Scott Stewart': 2, 'Gurinder Chadha': 2, 'David Bowers': 2, 'Stuart Beattie': 2, 'Fred Wolf': 2, 'Mark Rosman': 2, 'Roger Kumble': 2, 'Brad Anderson': 2, 'Wes Anderson': 2, 'Colin Strause,Greg Strause': 2, 'David Gelb': 2, 'Craig Brewer': 2, 'Stephen Hopkins': 2, 'John Crowley': 2, 'Simon Curtis': 2, 'Michael Dougherty': 2, 'Joel Coen': 2, 'Sofia Coppola': 2, 'Lone Scherfig': 2, 'Iain Softley': 2, 'Jonathan Hensleigh': 2, 'Terrence Malick': 2, 'Stephen Herek': 2, 'John Hillcoat': 2, 'Pierre Morel': 2, 'Paul Thomas Anderson': 2, 'Sean McNamara': 2, 'Davis Guggenheim': 2, 'Paul McGuigan': 2, 'Daniel Barnz': 2, 'Nicholas Hytner': 2, 'Takashi Shimizu': 2, 'Andrew Dominik': 2, 'Julian Jarrold': 2, 'Tyler Perry': 2, 'John Wells': 2, 'Derek Cianfrance': 2, 'Lenny Abrahamson': 2, 'Richard Kelly': 2, 'Billy Ray': 2, 'David Schwimmer': 2, 'Martin McDonagh': 2, \"Gavin O'Connor\": 2, 'David Koepp': 2, 'Douglas McGrath': 2, 'Christian Alvart': 2, 'Robert Rodriguez': 2, 'David Wain': 2, 'Sacha Gervasi': 2, 'Patricia Riggen': 2, 'Elizabeth Allen Rosenbaum': 2, 'FranÃ§ois Ozon': 2, 'Mike Binder': 2, 'Renny Harlin': 2, 'Andrew Fleming': 2, 'J.C. Chandor': 2, 'Peter Howitt': 2, 'Allen Coulter': 2, 'Christopher B. Landon': 2, 'Nelson McCormick': 2, 'Justin Kurzel': 2, 'David Mackenzie': 2, 'Brian Koppelman,David Levien': 2, 'Troy Duffy': 2, 'Lars von Trier': 2, 'Joe Nussbaum': 2, 'Lexi Alexander': 2, 'John Curran': 2, 'Asif Kapadia': 2, 'Nathan Frankowski': 2, 'Sam Liu': 2, 'Michael Dowse': 2, 'Brandon Vietti': 2, 'Werner Herzog': 2, 'Jay Oliva': 2, 'William Dear': 2, 'Drake Doremus': 2, 'RyÃ»hei Kitamura': 2, 'Lynn Shelton': 2, 'Jeff Nichols': 2, 'Adam Green': 2, 'Susanne Bier': 2, 'Oren Moverman': 2, 'Terry Gilliam': 2, 'Morgan Spurlock': 2, 'William Eubank': 2, 'Alex Gibney': 2, 'Julian Farino': 2, 'Bobcat Goldthwait': 2, 'Christopher Smith': 2, 'Amy Berg': 2, 'Sebastian Gutierrez': 2, 'Anthony C. Ferrante': 2, 'Sam Liu,Lauren Montgomery': 2, 'Tim McCanlies': 2, 'Mark Atkins': 2, 'William Lau': 2, 'Jaume BalaguerÃ³': 2, 'Rocco Urbisci': 2, 'Kenny Ortega': 2, 'Craig Moss': 2, 'Vincenzo Natali': 2, 'Patricia Rozema': 2, 'Damon Santostefano': 2, 'Richard Schenkman': 2, 'George Gallo': 2, 'Bradley Raymond': 2, 'Michael Hoffman': 2, 'Colin Trevorrow': 1, 'Chris Buck,Jennifer Lee': 1, 'Shane Black': 1, 'Kyle Balda,Pierre Coffin': 1, 'Lee Unkrich': 1, 'Andrew Adamson,Kelly Asbury,Conrad Vernon': 1, 'Steve Martino,Mike Thurmeier': 1, 'Andrew Stanton,Lee Unkrich': 1, 'Pete Docter': 1, 'Chris Miller,Raman Hui': 1, 'Roger Allers,Rob Minkoff': 1, 'Robert Stromberg': 1, 'Bob Peterson,Pete Docter': 1, 'Joe Russo,Anthony Russo': 1, 'Jennifer Yuh': 1, 'Don Hall,Chris Williams': 1, 'Mark Osborne,John Stevenson': 1, 'Brad Bird,Jan Pinkava': 1, 'Mel Gibson': 1, 'Dean DeBlois': 1, 'Eric Darnell,Tom McGrath': 1, 'Nathan Greno,Byron Howard': 1, 'Kirk De Micco,Chris Sanders': 1, 'Richard Marquand': 1, 'Lee Unkrich,David Silverman,Pete Docter': 1, 'John Lasseter,Brad Lewis': 1, 'Seth MacFarlane': 1, 'John Woo': 1, 'Mark Andrews,Steve Purcell,Brenda Chapman': 1, 'David Silverman': 1, 'Dean DeBlois,Chris Sanders': 1, 'John Lasseter,Lee Unkrich,Ash Brannon': 1, 'Andrew Adamson,Vicky Jenson': 1, 'Rich Moore': 1, 'Lilly Wachowski,Lana Wachowski': 1, 'Luc Besson': 1, 'John Lasseter,Joe Ranft': 1, 'Betty Thomas': 1, 'Michael Patrick King': 1, 'Rupert Sanders': 1, 'Chris Wedge,Carlos Saldanha': 1, 'Rob Letterman,Conrad Vernon': 1, 'Danny Boyle,Loveleen Tandan': 1, 'Tim Johnson': 1, 'John Lasseter,Andrew Stanton': 1, 'John Lasseter': 1, 'Michael Apted': 1, 'Genndy Tartakovsky': 1, 'Paul Verhoeven': 1, 'Kevin Lima': 1, 'Roger Spottiswoode': 1, 'Tom McGrath': 1, 'Mark Dindal': 1, 'Paul Tibbitt': 1, 'Paul Weitz': 1, 'Chris Williams,Byron Howard': 1, 'John Lee Hancock': 1, 'Peter Ramsey': 1, 'Hoyt Yeatman': 1, 'Steve Hickner,Simon J. Smith': 1, 'David Soren': 1, 'Florian Henckel von Donnersmarck': 1, 'Paul King': 1, 'Timur Bekmambetov': 1, 'Ethan Coen,Joel Coen': 1, 'Stefen Fangmeier': 1, 'Daniel Myrick,Eduardo SÃ¡nchez': 1, 'Steve Martino': 1, 'JosÃ© Padilha': 1, 'Morten Tyldum': 1, 'Peter Segal': 1, 'Joe Pytka': 1, 'Tommy Wirkola': 1, 'Garry Marshall': 1, 'Emile Ardolino': 1, 'Jon Amiel': 1, 'Daniel Espinosa': 1, 'Ryan Murphy': 1, 'Eric Brevig': 1, 'Roger Allers,Jill Culton,Anthony Stacchi': 1, 'Oren Peli': 1, 'Steve Box,Nick Park': 1, 'Kelly Asbury': 1, 'Ben Stiller': 1, 'Spike Lee': 1, 'Steve Carr': 1, 'Wolfgang Petersen': 1, 'Juan Antonio Bayona': 1, 'Tod Williams': 1, 'Thor Freudenthal': 1, 'Andrew Niccol': 1, 'Peter Billingsley': 1, 'Frank Coraci': 1, 'Josh Trank': 1, 'James Bobin': 1, 'Sydney Pollack': 1, 'Stanley Kubrick': 1, 'Oliver Parker': 1, 'Marco Brambilla': 1, 'Robert Rodriguez,Frank Miller,Quentin Tarantino': 1, 'Steven Quale': 1, 'Roberts Gannaway': 1, 'Rob Letterman': 1, 'Tony Scott': 1, 'Ash Brannon,Chris Buck': 1, 'Andy Fickman': 1, 'Baz Luhrmann': 1, 'Andy Muschietti': 1, 'Alan Parker': 1, 'John Landis': 1, 'Breck Eisner': 1, 'GÃ¡bor CsupÃ³': 1, 'Burr Steers': 1, 'Ericson Core': 1, 'Michel Hazanavicius': 1, 'MÃ¥ns MÃ¥rlind,BjÃ¶rn Stein': 1, 'Stephen Norrington': 1, 'Jaume Collet-Serra': 1, 'Lilly Wachowski,Lana Wachowski,Tom Tykwer': 1, 'Anthony Russo,Joe Russo': 1, 'Chris Weitz,Paul Weitz': 1, 'David S. Goyer': 1, 'Anthony Minghella': 1, 'George Nolfi': 1, 'James Watkins': 1, 'Neil Nightingale,Barry Cook': 1, 'Seth Rogen,Evan Goldberg': 1, 'Phil Alden Robinson,Richard Loncraine,Mikael Salomon,David Nutter,Tom Hanks,David Leland,David Frankel,Tony To': 1, 'Taylor Hackford': 1, 'Tate Taylor': 1, 'Stephen Frears': 1, 'Cameron Crowe': 1, 'Mike Nichols': 1, 'Peter Lord,Jeff Newitt': 1, 'Tim Burton,Mike Johnson': 1, 'Seth Gordon': 1, 'Clark Johnson': 1, 'Samuel Bayer': 1, 'Phyllida Lloyd': 1, 'Alejandro Agresti': 1, 'Sergey Bodrov': 1, 'Jim Sharman': 1, 'Alastair Fothergill,Mark Linfield': 1, 'Alister Grierson': 1, 'P.J. Hogan': 1, 'Sam Fell,Chris Butler': 1, 'Greg Berlanti': 1, 'Jorge Blanco,Javier Abad,Marcos MartÃ\\xadnez': 1, 'Leigh Whannell': 1, 'Will Finn,John Sanford': 1, 'Edward Zwick': 1, 'William Brent Bell': 1, 'Keenen Ivory Wayans': 1, 'Xavier Gens': 1, 'Christophe Gans': 1, 'Mark Osborne': 1, 'Fede Alvarez': 1, 'Wes Craven': 1, 'Nigel Cole': 1, 'Antoine Fuqua': 1, 'Stephen Gaghan': 1, 'Lawrence Guterman': 1, 'Susanna White': 1, 'Scott Hicks': 1, 'Steve Antin': 1, 'Trish Sie': 1, 'George C. Wolfe': 1, 'John Whitesell': 1, 'Bryan Bertino': 1, 'Aleksander Bach': 1, 'Peter R. Hunt': 1, 'Mike McCoy,Scott Waugh': 1, 'Jared Hess': 1, 'Andrzej Bartkowiak': 1, 'John Badham': 1, 'Chad Stahelski,David Leitch': 1, 'Andrew Davis': 1, 'Hal Needham': 1, 'Tom Dey': 1, 'Joel Schumacher': 1, 'Peter Cornwell': 1, 'Alan Poul': 1, 'Brian Percival': 1, 'Terry Zwigoff': 1, 'Lawrence Kasdan': 1, 'Callan Brunker': 1, 'Steve Shill': 1, 'Camille Delamarre': 1, 'Rajkumar Hirani': 1, 'Michael Lehmann': 1, 'Zach Helm': 1, 'John Luessenhop': 1, 'Grant Heslov': 1, 'Fyodor Bondarchuk': 1, 'Daniel Stamm': 1, 'Stephen Kay': 1, 'Drew Goddard': 1, 'Kirsten Sheridan': 1, 'Bryan Spicer': 1, 'Chris Gorak': 1, 'Steve Pink': 1, 'David Bowers,Sam Fell': 1, 'Michael McCullers': 1, 'Kirk De Micco': 1, 'Lee Daniels': 1, 'Patty Jenkins': 1, 'Michael Tiddes': 1, 'Robert De Niro': 1, 'Luke Greenfield': 1, 'Mark Burton,Richard Starzack': 1, 'Brian Levant': 1, 'Mark Helfrich': 1, 'Joel Edgerton': 1, 'Kerry Conran': 1, 'John Schultz': 1, 'Rob Bowman': 1, 'David Moreau,Xavier Palud': 1, 'Sean Penn': 1, 'Adam Brooks': 1, 'Stephen Daldry': 1, 'John A. Davis': 1, 'Theodore Melfi': 1, 'Sam Miller': 1, 'Ciaran Foy': 1, 'James Bridges': 1, 'Michael Spierig,Peter Spierig': 1, 'Cory Edwards,Todd Edwards,Tony Leech': 1, 'Robert Stevenhagen,Sam Fell': 1, 'Anthony Hemingway': 1, 'Rob Cohen': 1, 'Josh Gordon,Will Speck': 1, 'Mike Figgis': 1, 'Jim Field Smith': 1, 'Richard Eyre': 1, 'James L. Brooks': 1, 'Peter Landesman': 1, 'MiloÅ¡ Forman': 1, 'Sanjay Gadhvi': 1, 'Asger Leth': 1, 'Rupert Wainwright': 1, 'Jim Jarmusch': 1, 'Jason Winer': 1, 'Dan Bradley': 1, 'Ari Sandel': 1, 'George Tillman, Jr.': 1, 'Brian Helgeland': 1, 'Travis Cluff,Chris Lofing': 1, 'Oxide Pang Chun,Danny Pang': 1, 'Olatunde Osunsanmi': 1, 'Nanette Burstein': 1, 'Marco Schnabel': 1, 'Jeff Wadlow': 1, 'Charles Guard,Thomas Guard': 1, 'Richard LaGravenese': 1, 'Ben Garant': 1, 'Desmond Davis': 1, 'Christian E. Christiansen': 1, 'Robert Eggers': 1, 'Phil Traill': 1, 'Frank Miller,Robert Rodriguez': 1, 'Anthony Bell,Ben Gluck': 1, 'Alejandro AmenÃ¡bar': 1, 'Frank Miller': 1, 'David E. Talbert': 1, 'Dan Gilroy': 1, 'Toby Wilkins': 1, 'Jim Sheridan': 1, 'Andrey Kravchuk': 1, 'Mel Brooks': 1, 'Gina Prince-Bythewood': 1, 'Terry George': 1, 'Salim Akil': 1, \"Steve 'Spaz' Williams\": 1, 'Troy Nixey': 1, 'Julie Anne Robinson': 1, 'Alex Garland': 1, 'Howard Deutch': 1, 'Tom Hanks': 1, 'Brandon Camp': 1, 'Don Siegel': 1, 'Joshua Michael Stern': 1, 'Todd Strauss-Schulson': 1, 'Cary Fukunaga': 1, 'Lisa Cholodenko': 1, 'Benny Chan': 1, 'Kent Alterman': 1, 'Stephen Chbosky': 1, 'Dan Cutforth,Jane Lipsitz': 1, 'Roger Donaldson': 1, 'Gregory Hoblit': 1, 'Dito Montiel': 1, 'Dean Israelite': 1, 'Stephen St. Leger,James Mather': 1, 'Harmony Korine': 1, 'Robert Rodriguez,Ethan Maniquis': 1, 'Jesse Dylan': 1, 'Akiva Goldsman': 1, 'Mark Mylod': 1, 'Anand Tucker': 1, 'Jim Sonzero': 1, 'Ted Berman,Art Stevens,Richard Rich': 1, 'Harold Cronk': 1, 'Luis Mandoki': 1, 'Hatsuki Tsuji': 1, 'Peter Bogdanovich': 1, 'Jonas Elmer': 1, 'Kevin Allen': 1, 'Bill Pohlad': 1, 'Matthijs van Heijningen Jr.': 1, 'Jean-Marc VallÃ©e': 1, 'Robert Shaye': 1, 'Anthony Silverston': 1, 'Michael Davis': 1, 'Gonzalo LÃ³pez-Gallego': 1, 'Rick Rosenthal': 1, 'Niki Caro': 1, 'Jessie Nelson': 1, 'Tony Kaye': 1, 'Sylvain White': 1, 'Jeffrey Nachmanoff': 1, 'Rachid Bouchareb': 1, 'Benh Zeitlin': 1, 'Bruce Beresford': 1, 'John Carney': 1, 'Shana Feste': 1, 'Donald Petrie': 1, 'Mark Herman': 1, 'Allen Hughes': 1, 'Vic Armstrong': 1, 'John Michael McDonagh': 1, 'Jacques Perrin,Jacques Cluzaud': 1, 'Giuseppe Tornatore': 1, 'Rodrigo CortÃ©s': 1, 'Doug Atchison': 1, 'Wayne Wang': 1, 'Miguel Sapochnik': 1, 'Jocelyn Moorhouse': 1, 'Fred Savage': 1, 'Bradley Parker': 1, 'Rick Famuyiwa': 1, 'Gil Kenan': 1, 'John G. Avildsen': 1, 'Jon Kasdan': 1, 'Jesse Peretz': 1, 'Susannah Grant': 1, 'Russell Crowe': 1, 'Robert Redford': 1, 'Joe Roth': 1, 'Wim Wenders': 1, 'Stephen Anderson,Don Hall': 1, 'Michael Showalter': 1, 'David Palmer,Dax Shepard': 1, 'Ilya Naishuller': 1, 'Damien Chazelle': 1, 'Debra Granik': 1, 'Gary Rydstrom': 1, 'Mike Disa': 1, 'Liam Lynch': 1, 'Duncan Tucker': 1, 'Uli Edel': 1, 'Brian Klugman,Lee Sternthal': 1, 'James Ivory': 1, 'Jennifer Westfeldt': 1, 'Chan-wook Park': 1, 'Leslye Headland': 1, 'Matt Brown': 1, 'Robert Altman': 1, 'Sngmoo Lee': 1, 'Mike Judge': 1, 'Jimmy Hayward': 1, 'Andrew Erwin,Jon Erwin': 1, 'Rod Lurie': 1, 'Greg McLean': 1, 'Todd Lincoln ': 1, 'Dean Wright': 1, 'Chris Sivertson': 1, 'Wayne Kramer': 1, 'Mark Romanek': 1, 'Steven Zaillian': 1, 'Marcus Dunstan': 1, 'Fred Schepisi,Robert Young': 1, 'Bob Clark': 1, 'Yorgos Lanthimos': 1, 'Tony Jaa,Panna Rittikrai': 1, 'Walter Salles': 1, 'Peter Cattaneo': 1, 'John Gulager': 1, 'Richard J. Lewis': 1, 'Steven Knight': 1, 'Shane Meadows': 1, 'Timo Vuorensola': 1, 'Michael Haneke': 1, 'Charles Ferguson': 1, 'Michael J. Bassett': 1, 'Lauren Lazin': 1, 'David Lickley': 1, 'Massy Tadjedin': 1, 'Jalmari Helander': 1, 'Simon Wincer': 1, 'Derrick Borte': 1, 'Kasi Lemmons': 1, 'Garth Jennings': 1, 'James Ponsoldt': 1, 'Neil Marshall': 1, 'Tony Goldwyn': 1, 'Jennifer Kent': 1, 'Anna Boden,Ryan Fleck': 1, 'Vicky Jenson': 1, 'Jorma Taccone': 1, 'Aristomenis Tsirbas': 1, 'Mort Nathan': 1, 'David Ayer': 1, 'Robert Benton': 1, 'Rodrigo GarcÃ\\xada': 1, 'Scott Frank': 1, 'Mike Mills': 1, 'Patrick Archibald,Jay Oliva': 1, 'Dave Bullock': 1, 'Mary Lambert': 1, 'Todd Graff': 1, 'Terry Gilliam,Terry Jones': 1, 'Jonathan King': 1, 'Banksy': 1, 'William Monahan': 1, 'Kevin Munroe': 1, 'Paul Johansson': 1, 'Mark Achbar,Jennifer Abbott': 1, 'Jane Campion': 1, 'Emilio Estevez': 1, 'Chris Morris': 1, 'Randall Miller': 1, 'Billy Wilder': 1, 'Joe Cornish': 1, 'Agnieszka Wojtowicz-Vosloo': 1, 'Maggie Carey': 1, 'Sean Durkin': 1, 'Rob Thomas': 1, 'Jonathan Lynn': 1, 'Henry Alex Rubin': 1, 'Hany Abu-Assad': 1, 'Jake Schreier': 1, 'Ã‰mile Gaudreault': 1, 'Lake Bell': 1, 'James Marsh': 1, 'James Tucker': 1, 'Liev Schreiber': 1, 'Dan Rush': 1, 'Angel Gracia': 1, 'Ol Parker': 1, 'Stephen Belber': 1, 'John Dahl': 1, 'Zal Batmanglij': 1, 'Steven Shainberg': 1, 'Max Mayer': 1, 'John Waters': 1, 'Daniel Benmayor': 1, 'Mark Pellington': 1, 'Destin Cretton': 1, 'Tim Hetherington,Sebastian Junger': 1, 'Gavin Wiesen': 1, 'Richard Press': 1, 'Louie Psihoyos': 1, 'George Hickenlooper': 1, 'Stuart Blumberg': 1, 'Mike Cahill': 1, 'Richard Lester': 1, 'Shinji Aramaki,Hideki Futamura': 1, 'Tim Blake Nelson': 1, 'Jodie Foster': 1, 'Sean McGinly': 1, 'Kristopher Belman': 1, 'Kelly Reichardt': 1, 'Madonna': 1, 'J Blakeson': 1, 'Richard Ayoade': 1, 'Tomm Moore': 1, 'David Jacobson': 1, 'BjÃ¶rn Stein,MÃ¥ns MÃ¥rlind': 1, 'David Lynch': 1, 'Todd Solondz': 1, 'Elliott Lester': 1, 'Geoffrey Sax': 1, 'Jason Eisener': 1, 'Lee Fulkerson': 1, 'Larry Clark': 1, 'Mateo Gil': 1, 'Rob Epstein,Jeffrey Friedman': 1, 'Matthew Chapman': 1, 'Jacob Aaron Estes': 1, 'Peter Sollett': 1, 'Martin Koolhoven': 1, 'Greg Marcks': 1, 'Andrew Haigh': 1, 'Shari Springer Berman,Robert Pulcini': 1, 'Kim Chapiron': 1, 'Andrew Currie': 1, 'Shane Carruth': 1, 'David Kaplan': 1, 'Spencer Susser': 1, 'Gregor Jordan': 1, 'Bernie Goldmann,Melisa Wallack': 1, 'Joe Swanberg': 1, 'Werner Herzog,Dmitry Vasyukov': 1, 'Scott Sanders': 1, 'Jeremy Saulnier': 1, 'Jim Kohlberg': 1, 'Daryl Wein': 1, 'Marcos Siega': 1, 'Kevin Macdonald,Zillah Bowes': 1, 'Josh Radnor': 1, 'Gilles Paquet-Brenner': 1, 'Jeremy Haft': 1, 'Lucy Walker': 1, 'Henry Hobson': 1, 'Ben Steinbauer': 1, 'Bruce Campbell': 1, 'Matt Aselton': 1, 'Menhaj Huda': 1, 'Billy Corben': 1, 'Tom Gianas,Ross Shuman': 1, 'George A. Romero': 1, 'Brett Leonard': 1, 'Craig Zobel': 1, 'Alex Rivera': 1, 'Alex Gibney,Rachel Grady,Heidi Ewing,Seth Gordon,Eugene Jarecki,Morgan Spurlock': 1, 'Evan Glodell': 1, 'Andrea Arnold': 1, 'Matt Bettinelli-Olpin,David Bruckner,Tyler Gillett,Justin Martinez,Glenn McQuaid,Joe Swanberg,Chad Villella,Ti West,Adam Wingard,Radio Silence': 1, 'Quentin Dupieux': 1, 'Sturla Gunnarsson': 1, 'Ti West': 1, 'Lawrence Kasanoff': 1, 'Robbie Pickering': 1, 'Stefan Ruzowitzky': 1, 'Mia Hansen-LÃ¸ve': 1, 'Shawn Ku': 1, 'Paul Schrader': 1, 'Abe Sylvia': 1, 'Dario Argento': 1, 'Steven Bernstein': 1, 'Rod Hardy': 1, 'Brian Goodman': 1, 'Sherry Hormann': 1, 'Jim Mickle': 1, 'Kate Barker-Froyland': 1, 'Kat Coiro': 1, 'Frank Whaley': 1, 'Max Winkler': 1, 'Max Nichols': 1, 'Steven C. Miller': 1, 'Jordan Rubin': 1, 'Nick Tomnay': 1, 'Xan Cassavetes': 1, 'Joel Potrykus': 1, 'Scott Rutherford,Ben Peyser': 1, 'Susanna Fogel': 1, 'Anders Anderson': 1, 'Clare Lewins': 1, 'Neil LaBute': 1, 'Douglas Langway': 1, 'Dermot Mulroney': 1, 'Marilyn Agrelo': 1, 'John McTiernan': 1, 'Phil Alden Robinson': 1, 'Prabhu Deva': 1, 'Mark Christopher Covino,Jeff Howlett': 1, 'Frank Oz': 1, 'Taika Waititi': 1, 'Blair Erickson': 1, 'Martin Weisz': 1, 'Jeff Bleckner': 1, 'Jayson Thiessen': 1, 'Josh C. Waller': 1, 'Henry Saine': 1, 'Matty Beckerman': 1, 'Dustin Marcellino': 1, 'Bille August': 1, 'Liz W. Garcia': 1, 'Eric Radomski,Leo Riley': 1, 'Jeffrey Hornaday': 1, 'Paul Crowder': 1, 'Jeff Renfroe': 1, 'BJ McDonnell': 1, 'Laura Dern,Bryce Dallas Howard,Bonnie Hunt,Ashley Judd,Sharon Maguire': 1, 'Dave Grohl': 1, 'Stephan Franck': 1, 'Michael Greenspan': 1, 'Christopher Menaul': 1, 'Damon Gameau': 1, 'Francesca Gregorini': 1, 'Gary Entin': 1, 'Rob Meyer': 1, 'Chris Mason Johnson': 1, 'Paul Katis': 1, 'Allison Liddi-Brown': 1, 'Alison Ellwood': 1, 'Noel Clarke': 1, 'John Herzfeld': 1, 'Declan Lowney': 1, 'Wojciech Smarzowski': 1, 'Giulio De Santi': 1, 'Peter Winther': 1, 'Jon Burton': 1, 'Patrick Rea': 1, 'David Morley': 1, 'Richard Robbins': 1, 'Anthony Powell': 1, 'Riccardo Paoletti': 1, 'Gus Holwerda': 1, 'Kristin Hanggi': 1, 'Brad J. Silverman': 1, 'Thomas Gomez Durham': 1, 'Lawrence Shapiro': 1, 'Paul Hoen': 1, 'Darren Stein': 1, 'Leo Riley': 1, 'John Lyde': 1, 'Kurt Mattila': 1, 'Allison Burnett': 1, 'Thomas S. Hammock': 1, 'Chris Sun': 1, 'Stephen Lance': 1, 'Daniel Barber': 1, 'Omid Nooshin': 1, 'Gabe IbÃ¡Ã±ez': 1, 'Alex Gregory,Peter Huyck': 1, 'Kevin Kolsch,Dennis Widmyer': 1, 'James D. Rolfe,Kevin Finn': 1, 'D. Kerry Prior ': 1, 'Jack Heller': 1, 'Alex Ranarivelo': 1, 'Antony Smith': 1, 'Helen Hunt': 1, 'Des Doyle': 1, 'Zak Penn': 1, 'Ishi Rudell,Jayson Thiessen': 1, 'Kim Jee-woon': 1, 'Steve Rash': 1, 'John Hindman': 1, 'Casper Van Dien': 1, 'Joey Ansah': 1, 'Lowell Dean': 1, 'Chris Berkeley,Lauren Montgomery,Jay Oliva': 1, 'Aleksandr Buravsky': 1, 'John Alexander': 1, 'Michael Hewitt,Dermot Lavery': 1, 'Paul Tarnopol': 1, 'Brett Simmons': 1, 'Tom DiCillo': 1, 'Don Roos': 1, 'John Asher': 1, 'Gareth Carrivick': 1, 'Kiah Roache-Turner': 1, 'James Napier Robertson': 1, 'Alejandro BruguÃ©s': 1, 'Anthony Waller': 1, 'Julia Leigh': 1, 'Jessica Nilsson': 1, 'J.T. Tepnapa': 1, 'Peter Hewitt': 1, 'Simon Cellan Jones': 1, 'Marco Polo Constandse': 1, 'Mo Ali': 1, 'Alison Murray': 1, 'Stuart Gordon': 1, 'Nick Love': 1, 'Jon Jones': 1, 'Alastair Fothergill,Keith Scholey': 1, 'Huck Botko': 1, 'Rik Swartzwelder': 1, 'Emilis Velyvis': 1, 'Shira Piven': 1, 'Carroll Ballard': 1, 'Craig Viveiros': 1, 'Sandy Collora': 1, 'One9': 1, 'Rachel Ward': 1, 'Gerard Johnstone': 1, 'Ross Katz': 1, 'Ken Loach': 1, 'Michael G. Bartlett': 1, 'Dylan Baker': 1, 'Mark Neale': 1, 'Bradley King': 1, 'Jack Plotnick': 1, 'Dave Parker': 1, 'Stephen Merchant': 1, 'Sean Byrne': 1, 'Kevin Hamedani': 1, 'Stig Svendsen': 1, 'Ralph Ziman': 1, 'Cherien Dabis': 1, 'Jac Schaeffer': 1, 'Matthew Hope': 1, 'Elgin James': 1, 'W.D. Hogan': 1, 'Audrey Cummings': 1, 'Ian Fitzgibbon': 1, 'Kurt Engfehr': 1, 'Tomas Alfredson': 1, 'Dan Eckman': 1, 'Klay Hall': 1, 'Mike Clattenburg': 1, 'Philip Ridley': 1, 'Alan Brown': 1, 'Carlo Ledesma': 1, 'Martha Holmes,Simon Blakeney,Stephen Lyle': 1, 'Kevin Heffernan': 1, 'Dylan Avery': 1, 'Sarah Smith,Barry Cook': 1, 'Matt Lang': 1, 'Gregory Doran': 1, 'Paul Dugdale': 1, 'John Moffitt': 1, 'Ben Ketai': 1, 'James Dodson': 1, 'Paul Bolger,Yvette Kaplan,Greg Tiernan': 1, 'Michael Pavone': 1, 'Steve Anderson': 1, 'Jean-Baptiste Andrea,Fabrice Canepa': 1, 'Ryan Fleck': 1, 'Kriv Stenders': 1, 'Goran Dukic': 1, 'Ann Turner': 1, 'Alex Zamm': 1, 'Vadim Jean': 1, 'Mark Palansky': 1, 'John Lounsbery,Wolfgang Reitherman': 1, 'Peter Sattler': 1, 'Sam Fischer\\t': 1, 'Dexter Fletcher': 1, 'John Jeffcoat': 1, 'K. Asher Levin': 1, 'John Stockwell': 1, 'John Fawcett': 1, 'Mat Whitecross,Michael Winterbottom': 1, 'Michael Gunton,Martha Holmes': 1, 'Michael Ian Black': 1, 'Frank Sebastiano': 1, 'Laurieann Gibson': 1, 'Tom Brady': 1, 'Peter Joseph': 1, 'Peter Chung,Yoshiaki Kawajiri,Takeshi Koike,Mahiro Maeda,KÃ´ji Morimoto,Shinichiro Watanabe,Andrew R. Jones': 1, 'Gregg Araki': 1, 'James Colquhoun': 1, 'Pitof': 1, 'Sharon Maguire': 1, 'Marianna Palka': 1, 'Joel Anderson': 1, 'Arthur Bradford': 1, 'Tristram Shapeero': 1, 'Michael McGowan': 1, 'Marc Caro': 1, 'William Shatner': 1, 'Gregg Bishop': 1, 'Steve Hickner': 1, 'Vic Sarin': 1, 'Frank Henenlotter': 1, 'Marcus Graves': 1, 'Derick Martini': 1, 'Kirby Dick': 1, 'Jeremiah Kipp,Zeke Dunn,Nicole Real,Glenn McQuaid': 1, 'Jon Poll': 1, 'Dru Brown': 1, 'Robert Mond': 1, 'Mikael Salomon': 1, 'Yoshihiro Nishimura': 1, 'Alex Chandon': 1, 'Jonas Barnes,Michael Manasseri': 1, 'Eytan Fox': 1, 'Danielle Harris': 1, 'Bruce McDonald': 1, 'Chris Rock': 1, 'Levan Bakhia': 1, 'Colin Hanks': 1, 'Greg Francis': 1, 'Benjamin Statler': 1, 'Joel Bergvall,Simon Sandquist': 1, 'Stevan Riley': 1, 'Timothy Reckart': 1, 'Robert Gordon,Morgan Neville': 1, 'Michael A. Nickles': 1, 'Marc Abraham': 1, 'Stuart Ortiz,Colin Minihan': 1, 'Damian Lee': 1, 'Joseph Kahn': 1, 'Khalil Sullins': 1, 'Jake Szymanski': 1, 'Sean Cisterna': 1, 'Justin Trefgarne': 1, 'Shane Abbess': 1, 'Alex Winter': 1, 'Marina Zenovich': 1, 'Jared Cohn': 1, 'Johannes Roberts': 1, 'Anthony Wonke': 1, 'Yasuhiro Aoki,Futoshi Higashide,Toshiyuki Kubooka,Hiroshi Morioka,Jong-Sik Nam,Shoujirou Nishimi': 1, 'Eric Red': 1, 'Cyrus Nowrasteh': 1, 'Zachary Sluser': 1, 'Travis Fine': 1, 'Ben Chanan': 1, 'Angelo Pizzo': 1, 'Robert Kenner': 1, 'Jason Stutter': 1, 'Ben Blaine,Chris Blaine': 1, 'Jeff Lowell': 1, 'David Farr': 1, 'Neil Thompson': 1, 'Matt Piedmont': 1, 'Francesco Cinquemani': 1, 'Tony McNamara': 1, 'Alex Craig Mann': 1, 'Malik Bendjelloul': 1, 'Matthew Diamond': 1, 'Frederik Du Chau': 1, 'Gregory Wilson': 1, 'RenÃ© Laloux': 1, 'Corin Hardy': 1, 'Ryan Fleck,Anna Boden': 1, 'Matthew Leutwyler': 1, 'Will Slocombe': 1, 'Ted Geoghegan': 1, 'Marya Cohn': 1, 'April Mullen': 1, 'Jon Wright': 1, 'Owen Harris': 1, 'Jason Lei Howden': 1, 'Eric Valette': 1, 'David Burris': 1, 'Rebecca Thomas': 1, 'Steve Taylor': 1, 'Ben Drew': 1, 'John August': 1, 'Steven Brill': 1, 'Nicolas Winding Refn': 1, 'Gregory Mackenzie': 1, 'Andrew Goth': 1, 'Guillermo Arriaga': 1, 'Scott Schirmer': 1, 'Mike Maguire,Tom Kuntz': 1, 'Mitch Davis': 1, 'Esteban Sapir': 1, 'Eric Bross': 1, 'Steve Buscemi': 1, 'Chandran Rutnam': 1, 'Robert Hall': 1, 'John Putch': 1, 'Julie Taymor': 1, 'Richard Shepard': 1, 'Jeremy Gardner': 1, 'Saul Dibb': 1, 'Robin Swicord': 1, 'Michael Almereyda': 1, 'Jess Manafort': 1, 'Doug Sweetland': 1, 'David Nerlich,Andrew Traucki': 1, 'James Keach': 1, 'Steve Barker': 1, 'Raman Hui': 1, 'Ric Roman Waugh': 1, 'Mark A. Walsh': 1, 'Jeff Betancourt': 1, 'Wayne Thornley': 1, 'David Hewlett': 1, 'Adam MacDonald': 1, 'Fisher Stevens': 1, 'Jason Aron': 1, 'Markus Imhoof': 1, 'Atsushi Takeuchi': 1, 'Luis Piedrahita,Rodrigo SopeÃ±a': 1, 'Julian Gilbey': 1, 'Karl DiPelino': 1, 'Rodney Ascher': 1, 'Lauren Montgomery,Bruce Timm': 1, 'Marco Kreuzpaintner': 1, 'Dante Ariola': 1, 'Jill Bauer,Ronna Gradus': 1, 'Hank Braxtan': 1, 'Jim Strouse': 1, 'Yoshiaki Kawajiri': 1, 'Matt Osterman': 1, 'Brandon Cronenberg': 1, 'Joseph Guzman': 1, 'Morgan Matthews': 1, 'Toby Genkel,Sean McCormack': 1, 'Richard Bates Jr.': 1, 'Sandra Goldbacher': 1, 'John Kahrs': 1, 'Scott Kalvert': 1, 'Gabe Polsky': 1, 'Paul Campion': 1, 'Leslie Small,Tim Story': 1, 'AdriÃ¡n Cardona,David MuÃ±oz': 1, 'Sid Bennett': 1, 'Peter Harris,Eric Till': 1, 'Steven Kostanski': 1, 'Brett Pierce,Drew T. Pierce': 1, 'Tad Stones': 1, 'Nancy Bardawil': 1, 'Ed Decter': 1, 'Fuminori Kizaki': 1, 'Larysa Kondracki': 1, 'Andy Mitton,Jesse Holland': 1, 'Mary Agnes Donoghue': 1, 'Eric Laneuville': 1, 'David Sandberg': 1, 'Tomm Moore,Nora Twomey': 1, 'Robert Lorenz': 1, 'Jake Newsome': 1, 'Saratswadee Wongsomphet': 1, 'Peter Atencio': 1, 'Josh Fox': 1, 'Andrew Martin': 1, 'Tom Shankland': 1, 'Makoto Kamiya': 1, 'Marcos Efron': 1, 'Martyn Burke': 1, 'P.J. Pesce': 1, 'Jim Mallon': 1, 'Fernando Barreda Luna': 1, 'Jang Hoon': 1, 'Tarik Saleh': 1, 'Chris Buck,Kevin Lima': 1, 'Kaare Andrews': 1, 'Andrew Traucki': 1, 'Jacob Tierney': 1, 'James Gray': 1, 'Julie Bertuccelli': 1, 'John Harrison': 1, 'Phil Claydon': 1, 'Richard Clabaugh': 1, 'Jay Russell': 1, 'Billy Bob Thornton': 1, 'David Mamet': 1, 'Gerado Olivares,Otmar Penker': 1, 'Daryn Tufts': 1, 'J.C. Calciano': 1, 'Adam Elliot': 1, 'Joey Stewart': 1, 'Elijah Drenner': 1, 'Yann Arthus-Bertrand': 1, 'Justin Chadwick': 1, 'Curtis Hanson,Michael Apted': 1, 'Mel Damski': 1, 'Brian Yuzna': 1, 'Eleanor Coppola,Fax Bahr,George Hickenlooper': 1, 'Josh Appignanesi': 1, 'Eric Forsberg': 1, 'Wagner de Assis': 1, 'Michael A. Simpson': 1, 'Alfonso Gomez-Rejon': 1, 'Toby Shelton,Alan Zaslove,Tad Stones': 1, 'Chris Shadley': 1, 'Stuart Hazeldine': 1, 'W.D. Richter': 1, 'Y.K. Kim,Woo-sang Park': 1, 'Jon Knautz': 1, 'Jack Sholder': 1, 'Daniel Grou': 1, 'Darragh Byrne': 1, 'Mark McQueen': 1, 'Thomas BalmÃ¨s': 1, 'Jeff Pollack': 1, 'Dennis Iliadis': 1, 'Dragan BjelogrliÄ‡': 1, 'Michael Caton-Jones': 1, 'Kieran Mulroney,Michele Mulroney': 1, 'Dominic Polcino': 1, 'Peter Clifton,Joe Massot': 1, 'Ricky Gervais,Stephen Merchant': 1, 'Rowan Joffe': 1, 'Dana Lustig': 1, 'Emily Young': 1, 'Shinji Aramaki': 1, 'John Carpenter,Tobe Hooper,Larry Sulkis': 1, 'Joe Dante': 1, 'Simon Rumley': 1, 'Derek Jarman': 1, 'Jonas Pate': 1, 'Russ Meyer': 1, 'Lena Dunham': 1, 'Jeremy Podeswa,Tim Van Patten,David Nutter,Graham Yost,Carl Franklin,Tony To': 1})\n"
     ]
    }
   ],
   "source": [
    "#Explore the relationship between popularity and director \n",
    "d_list = df4['director'].tolist()\n",
    "print (Counter(d_list))"
   ]
  },
  {
   "cell_type": "code",
   "execution_count": 77,
   "metadata": {},
   "outputs": [
    {
     "name": "stdout",
     "output_type": "stream",
     "text": [
      "Counter({'Adventure': 10, 'Science Fiction': 9, 'Action': 7, 'Thriller': 5, 'Fantasy': 2, 'Drama': 1})\n"
     ]
    }
   ],
   "source": [
    "#Explore the relationship between popularity and movie genres \n",
    "glist = dfp['genres'].tolist()\n",
    "g = [i.split(' ,') for i in glist]\n",
    "print(Counter(chain.from_iterable(g)))"
   ]
  },
  {
   "cell_type": "code",
   "execution_count": 78,
   "metadata": {},
   "outputs": [
    {
     "name": "stdout",
     "output_type": "stream",
     "text": [
      "Counter({3: 3, 11: 2, 12: 2, 6: 1, 5: 1, 7: 1, 10: 1})\n"
     ]
    },
    {
     "data": {
      "image/png": "[encoded data removed]",
      "text/plain": [
       "<matplotlib.figure.Figure at 0x7fef8da8ef28>"
      ]
     },
     "metadata": {},
     "output_type": "display_data"
    }
   ],
   "source": [
    "#Explore the relationship between popularity and release month \n",
    "import datetime\n",
    "dfp['month']= pd.DatetimeIndex(dfp['release_date']).month\n",
    "month=Counter(dfp['month'])\n",
    "print(Counter(dfp['month']))\n",
    "\n",
    "labels, values = zip(*month.items())\n",
    "\n",
    "indexes = np.arange(len(labels))\n",
    "width = 1\n",
    "\n",
    "plt.bar(indexes, values, width, color='skyblue')\n",
    "plt.xticks(indexes + width * 0.5, labels, rotation='vertical')\n",
    "plt.title('Months associated with Most Popular Movies')\n",
    "plt.xlabel('Month')\n",
    "plt.ylabel('Frequency')\n",
    "plt.show()"
   ]
  },
  {
   "cell_type": "code",
   "execution_count": 79,
   "metadata": {},
   "outputs": [
    {
     "name": "stdout",
     "output_type": "stream",
     "text": [
      "Counter({'dystopia': 3, 'future': 2, 'post-apocalyptic': 2, 'marvel comic': 2, 'spaceship': 2, 'sequel': 2, 'android': 2, 'monster': 1, 'dna': 1, 'tyrannosaurus rex': 1, 'velociraptor': 1, 'island': 1, 'chase': 1, 'australia': 1, 'saving the world': 1, 'artificial intelligence': 1, 'father-son relationship': 1, 'single parent': 1, 'nasa': 1, 'space': 1, 'scene during end credits': 1, 'outer space': 1, 'based on novel': 1, 'revolution': 1, 'dystopic future': 1, 'washington d.c.': 1, 'shield': 1, 'comic': 1, 'galaxy': 1, 'hermit': 1, 'death star': 1, 'lightsaber': 1, 'hitman': 1, 'revenge': 1, 'murder': 1, 'gangster': 1, 'dog': 1, 'jedi': 1, 'space opera': 1, '3d': 1, 'resistance': 1, 'war': 1, 'corruption': 1, 'elves': 1, 'dwarves': 1, 'orcs': 1, 'middle-earth (tolkien)': 1})\n"
     ]
    }
   ],
   "source": [
    "#Explore the relationship between popularity and keywords \n",
    "klist=dfp['keywords'].tolist()\n",
    "klist\n",
    "kw= [i.split(' ,') for i in klist]\n",
    "print(Counter(chain.from_iterable(kw)))\n"
   ]
  },
  {
   "cell_type": "code",
   "execution_count": 80,
   "metadata": {},
   "outputs": [
    {
     "name": "stdout",
     "output_type": "stream",
     "text": [
      "Counter({'Legendary Pictures': 2, 'Warner Bros.': 2, 'Marvel Studios': 2, 'Lucasfilm': 2, 'Universal Studios': 1, 'Amblin Entertainment': 1, 'Fuji Television Network': 1, 'Dentsu': 1, 'Village Roadshow Pictures': 1, 'Kennedy Miller Productions': 1, 'Paramount Pictures': 1, 'Syncopy': 1, 'Lynda Obst Productions': 1, 'Moving Picture Company (MPC)': 1, 'Bulletproof Cupid': 1, 'Revolution Sun Studios': 1, 'Summit Entertainment': 1, 'Mandeville Films': 1, 'Red Wagon Entertainment': 1, 'NeoReel': 1, 'Twentieth Century Fox Film Corporation': 1, 'Thunder Road Pictures': 1, '87Eleven': 1, 'DefyNite Films': 1, 'MJW Films': 1, 'Truenorth Productions': 1, 'Bad Robot': 1, 'Lionsgate': 1, 'Color Force': 1, 'WingNut Films': 1, 'New Line Cinema': 1, '3Foot7': 1, 'Metro-Goldwyn-Mayer (MGM)': 1})\n"
     ]
    }
   ],
   "source": [
    "#Explore the relationship between popularity and production companies \n",
    "pclist=dfp['production_companies'].tolist()\n",
    "pclist\n",
    "pc=[i.split(' ,') for i in pclist]\n",
    "pc\n",
    "print(Counter(chain.from_iterable(pc)))"
   ]
  },
  {
   "cell_type": "markdown",
   "metadata": {},
   "source": [
    "<a id='conclusions'></a>\n",
    "## Conclusions\n",
    "\n",
    "> **Tip**: Finally, summarize your findings and the results that have been performed. Make sure that you are clear with regards to the limitations of your exploration. If you haven't done any statistical tests, do not imply any statistical conclusions. And make sure you avoid implying causation from correlation!\n",
    "\n",
    "> **Tip**: Once you are satisfied with your work, you should save a copy of the report in HTML or PDF form. Before exporting your report, check over it to make sure that the flow of the report is complete. You should probably remove all of the \"Tip\" quotes like this one so that the presentation is as tidy as possible. It's also a good idea to look over the project rubric, found on the project submission page at the end of the lesson.\n",
    "\n",
    "> To export the report to the workspace, you should run the code cell below. If it worked correctly, you should get a return code of 0, and you should see the generated .html file in the workspace directory (click on the jupyter icon in the upper left). Alternatively, you can download the html report via the **File** > **Download as** submenu and then manually upload it to the workspace directory. Once you've done this, you can submit your project by clicking on the \"Submit Project\" button in the lower right. Congratulations!"
   ]
  },
  {
   "cell_type": "markdown",
   "metadata": {},
   "source": [
    "<a id='conclusions'></a>\n",
    "## Conclusions\n",
    "\n",
    "> The movie with highest popularity of all time (from 1961 to 2015) was Jurassic World, with a popularity of 32.985763. Overtime, the most popular movie genre is Adventure followed by Action, and Drama.\n",
    "\n",
    "> The amount of budget invested in a movie has a positive relationship with its revenue. \n",
    "\n",
    "> These following properties are found to be associated with high revenue: \n",
    "\n",
    "> --Movie genres that associated with high revenue (in descending order)are: drama, commedy, thriller, action, and adventure\n",
    "\n",
    "> --Featured casts that could bring high revenues (in descending order): Tom Hanks, Matt Damon, Mark Wahlberg, Nicolas Cage, Johnny Depp, Tom Cruise, George Clooney\n",
    "\n",
    "> --Directored by award-winning movie directors: John Carpenter, Steven Spielberg, Steven Soderbergh\n",
    "\n",
    "> --Movie is based on novel could yield high revenues, as well as settings (in descending order) of the story are in London, New York and Paris. Interestingly, movie on suicide also yield high revenues second to based on novel.\n",
    "\n",
    "> --Movies released in the fall (in descending order): September, October and December tend to yield high revenues\n",
    "\n",
    "> One can predict the revenue and popularity of a movie based on user ratings on TMDB\n",
    "\n",
    "> These following properties are associated with a popular movie:\n",
    "\n",
    "> --Cast: These casts are correlated with higher popularity of a movie (in descending order): Tom Hanks, Matt Damon, Mark Wahlberg, Nicolas Cage, Johnny Depp, Tom Cruise, George Clooney\n",
    "\n",
    "> --Director: These directors' movie are correlated with popular movies (in descending order): John Carpenter, Steven Spielberg, Steven Soderbergh\n",
    "\n",
    "> --Genres? The most popular movies correlate with these following genres (in descending order): adventure, science fiction and action.\n",
    "\n",
    "> These following properties do not seem to have an impact on the popularity of a movie:\n",
    "\n",
    "> --Production companies: Production companies do not seem to correlate with the popularity of a movie.\n",
    "\n",
    "> --Release time? The release month does not seem to correlate with the popularity of a movie.\n",
    "\n",
    "> --Keywords? The keywords of a movie do not seem to correlate with the popularity of a movie.\n"
   ]
  },
  {
   "cell_type": "markdown",
   "metadata": {},
   "source": [
    "<a id='Limitation'></a> \n",
    "## Limitations of Dataset\n",
    "\n",
    "> The dataset only includes revenue generated in the US market, which could mean it may not be a true reflection of movies that were also on foreign markets\n",
    "\n",
    "> The dataset did not include movide critiques vote on a movie, which could help understand whether there is a difference between the preferences of movie critiques and movie fans. "
   ]
  },
  {
   "cell_type": "markdown",
   "metadata": {},
   "source": [
    "<a id='Future Work'></a> \n",
    "## Future Work\n",
    "\n",
    "> Future work is needed to collect data on voting and revenue of holywood movies gained from foreign markets. \n",
    "\n",
    "> Future work is also needed to collect award winning information of movies, so that to study whether or not a popular movie predict winning an award; also understand what properties are associated with award-winning movies "
   ]
  },
  {
   "cell_type": "code",
   "execution_count": null,
   "metadata": {
    "collapsed": true
   },
   "outputs": [],
   "source": [
    "from subprocess import call\n",
    "call(['python', '-m', 'nbconvert', 'Investigate_a_Dataset.ipynb'])"
   ]
  }
 ],
 "metadata": {
  "kernelspec": {
   "display_name": "Python [default]",
   "language": "python",
   "name": "python3"
  },
  "language_info": {
   "codemirror_mode": {
    "name": "ipython",
    "version": 3
   },
   "file_extension": ".py",
   "mimetype": "text/x-python",
   "name": "python",
   "nbconvert_exporter": "python",
   "pygments_lexer": "ipython3",
   "version": "3.6.2"
  }
 },
 "nbformat": 4,
 "nbformat_minor": 2
}
